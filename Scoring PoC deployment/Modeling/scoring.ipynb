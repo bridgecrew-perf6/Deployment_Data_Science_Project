{
 "cells": [
  {
   "cell_type": "markdown",
   "metadata": {
    "id": "edyFI0HFNChp"
   },
   "source": [
    "# Mise en place de l'environnement"
   ]
  },
  {
   "cell_type": "markdown",
   "metadata": {
    "id": "k-j9TqCtGRM_"
   },
   "source": [
    "### Paramètres"
   ]
  },
  {
   "cell_type": "code",
   "execution_count": 1,
   "metadata": {
    "id": "ZQZZmynmGRTO"
   },
   "outputs": [],
   "source": [
    "rep_projet = 'C:/Users/u32118508/OneDrive - UPEC/Bureau/PyBooks/Applications/Scoring/'\n",
    "rep_input  = rep_projet+ 'Input/'\n",
    "rep_intermed  = rep_projet+ 'Intermed/'"
   ]
  },
  {
   "cell_type": "markdown",
   "metadata": {
    "id": "IcHN2KwnHJBY"
   },
   "source": [
    "### Import des packages"
   ]
  },
  {
   "cell_type": "code",
   "execution_count": 2,
   "metadata": {
    "id": "s3qnPhfOHJIV"
   },
   "outputs": [],
   "source": [
    "import numpy as np\n",
    "import pandas as pd\n",
    "import matplotlib.pyplot as plt\n",
    "import statsmodels\n",
    "import statsmodels.formula.api as smf\n",
    "from sklearn.metrics import roc_auc_score , accuracy_score, precision_score, recall_score,  f1_score, roc_curve, auc\n",
    "import pickle\n"
   ]
  },
  {
   "cell_type": "markdown",
   "metadata": {
    "id": "bQOsaSFEEsEG"
   },
   "source": [
    "### Import des fonctions personnelles\n",
    "\n",
    "Le script functions_ml.py dans le répertoire script contient différentes fonctions personnelles pour réaliser ce projet.\n",
    "Pour rendre le notebook plus visible, il est préferable de mettre les  fonctions  à part et les importer"
   ]
  },
  {
   "cell_type": "code",
   "execution_count": 3,
   "metadata": {
    "id": "0G9v2EdKFjBa"
   },
   "outputs": [],
   "source": [
    "import functions_ml"
   ]
  },
  {
   "cell_type": "code",
   "execution_count": 4,
   "metadata": {},
   "outputs": [
    {
     "name": "stdout",
     "output_type": "stream",
     "text": [
      "Help on function features_ordering in module functions_ml:\n",
      "\n",
      "features_ordering(df, feature_names, target)\n",
      "    Retourne un df avec une ligne par feature par ordre décroissant des T de Schupprow en fonction d'une variable cible Y\n",
      "    \n",
      "    Parametres :\n",
      "        X : pandas dataframe\n",
      "        feature_names : liste des nom des colonnes dont l'on souhaite avoir les stats du chi2\n",
      "            => ne pas mettre d'id ou de variables numériques avec trop de modalité\n",
      "        target : nom de la variable cible (Y)\n",
      "    \n",
      "    Exemple d'appel :\n",
      "        \n",
      "        features_ordering =  features_ordering(  df = df_xy \n",
      "                                               , feature_names = ['gender','csp','region']\n",
      "                                               , target        = 'target' )\n",
      "\n"
     ]
    }
   ],
   "source": [
    "#aide sur la fonction ... \n",
    "help(functions_ml.features_ordering)"
   ]
  },
  {
   "cell_type": "markdown",
   "metadata": {
    "id": "WcrzMCU4LJhf"
   },
   "source": [
    "### Paramètres d'affichage de pandas"
   ]
  },
  {
   "cell_type": "code",
   "execution_count": 4,
   "metadata": {
    "id": "sV0WyyLTLJn_"
   },
   "outputs": [],
   "source": [
    "pd.set_option('display.max_rows', 350)    # permet de voir 350 lignes au max\n",
    "pd.set_option('display.max_columns', 350) # permet de voir 350 colonnes au max\n",
    "pd.set_option('display.width', 1000)"
   ]
  },
  {
   "cell_type": "markdown",
   "metadata": {
    "id": "QrH2orM7NHmW"
   },
   "source": [
    "# Compréhension des données"
   ]
  },
  {
   "cell_type": "markdown",
   "metadata": {
    "id": "lnC-RSW2D9jF"
   },
   "source": [
    "## Données utilisées\n",
    "\n",
    "\n",
    "- le fichier source vient de : https://archive.ics.uci.edu/ml/datasets/statlog+(german+credit+data)\n",
    "        \n",
    "-il a été fourni par :    Professor Dr. Hans Hofmann\n",
    "                        Institut fur Statistik und Okonometrie\n",
    "                        Universit at Hamburg\n",
    "                        FB Wirtschaftswissenschaften\n",
    "                        Von-Melle-Park 5\n",
    "                        2000 Hamburg 13 "
   ]
  },
  {
   "cell_type": "markdown",
   "metadata": {
    "id": "SiVpbBDCG9A-"
   },
   "source": [
    "## Lecture des données"
   ]
  },
  {
   "cell_type": "code",
   "execution_count": 5,
   "metadata": {
    "id": "hDky1_YlGcE3"
   },
   "outputs": [],
   "source": [
    "df = pd.read_csv(rep_input+'german_scoring_data.txt', sep=';'\n",
    "                    , encoding='latin_1', decimal = ','\n",
    "                    , keep_default_na=False , na_values = [ '', ' ', '  '])"
   ]
  },
  {
   "cell_type": "code",
   "execution_count": 7,
   "metadata": {},
   "outputs": [
    {
     "data": {
      "text/plain": [
       "Index(['subsidiary', 'customer_id', 'year', 'risk', 'Status of existing checking account', 'Duration in month', 'Credit history', 'Purpose', 'Credit amount', 'Savings account/bonds', 'Present employment since', 'Installment rate in percentage of disposable income', 'Personal status and sex', 'Other debtors / guarantors', 'RGPD KO', 'Present residence since', 'Property', 'Age in years', 'Evaluation', 'Other installment plans', 'Housing', 'Number of existing credits at this bank', 'Job', 'Number of people being liable to provide maintenance for', 'Téléphone', 'foreign worker'], dtype='object')"
      ]
     },
     "execution_count": 7,
     "metadata": {},
     "output_type": "execute_result"
    }
   ],
   "source": [
    "df['Savings account/bonds'].value_cou"
   ]
  },
  {
   "cell_type": "markdown",
   "metadata": {
    "id": "4vJVBoM3FyKw"
   },
   "source": [
    "## Analyse du contenu de la table\n",
    "\n",
    "  - le nb d'obs et de variables\n",
    "  - les 1ères lignes\n",
    "  - les dernières lignes\n",
    "  - le type de chaque variable\n",
    "  - le % de missing de chaque variable\n",
    "  - le résumé de chaque variable (describe)\n",
    "  - la présence de doublon sur l'identifiant\n",
    "  - le type et nb de modalités <> pour chaque variable\n",
    "\n"
   ]
  },
  {
   "cell_type": "code",
   "execution_count": 7,
   "metadata": {
    "colab": {
     "base_uri": "https://localhost:8080/"
    },
    "executionInfo": {
     "elapsed": 288,
     "status": "ok",
     "timestamp": 1643244257232,
     "user": {
      "displayName": "Grumberg Alex",
      "photoUrl": "https://lh3.googleusercontent.com/a/default-user=s64",
      "userId": "07563321383937549063"
     },
     "user_tz": -60
    },
    "id": "wdllQuSwGxlu",
    "outputId": "524eae73-a97c-44f7-b72a-2608c8760fb3"
   },
   "outputs": [
    {
     "name": "stdout",
     "output_type": "stream",
     "text": [
      "===========================\n",
      "===========================\n",
      "Synthese de la table\n",
      "=== DF : german_data\n",
      "===========================\n",
      "===========================\n",
      "============================\n",
      "nb de lignes et de colonnes\n",
      "============================\n",
      "(800, 5)\n",
      "\n",
      "=======================================\n",
      "type, missing et nb de modalites <>\n",
      "=======================================\n",
      "                                column    type  missing_count  missing_rate  nb_labels                        value_1          value_2                 value_3              value_4         value_5      value_6      value_7      value_8      value_9     value_10     value_11     value_12     value_13     value_14     value_15     value_16     value_17     value_18     value_19     value_20\n",
      "0                           subsidiary  object              0           0.0          1               german (800 obs)             None                    None                 None            None         None         None         None         None         None         None         None         None         None         None         None         None         None         None         None\n",
      "1                          customer_id   int64              0           0.0        800                    675 (1 obs)      680 (1 obs)             490 (1 obs)          506 (1 obs)      39 (1 obs)  735 (1 obs)  120 (1 obs)  953 (1 obs)  824 (1 obs)  172 (1 obs)  667 (1 obs)  566 (1 obs)  278 (1 obs)  234 (1 obs)  170 (1 obs)  993 (1 obs)  242 (1 obs)  706 (1 obs)  512 (1 obs)  849 (1 obs)\n",
      "2                                 year   int64              0           0.0          5                 2012 (165 obs)   2013 (163 obs)          2014 (162 obs)       2011 (158 obs)  2010 (152 obs)         None         None         None         None         None         None         None         None         None         None         None         None         None         None         None\n",
      "3                                 risk   int64              0           0.0          2                    0 (558 obs)      1 (242 obs)                    None                 None            None         None         None         None         None         None         None         None         None         None         None         None         None         None         None         None\n",
      "4  Status of existing checking account  object              0           0.0          4  no checking account (315 obs)  <0 DM (224 obs)  0 <= <200 DM (209 obs)  >= 200 DM  (52 obs)            None         None         None         None         None         None         None         None         None         None         None         None         None         None         None         None\n",
      "=======================================\n",
      "Doublon\n",
      "=======================================\n",
      "aucun doublon d'ID si la valeur la + fréquente est égale à 1\n",
      "675    1\n",
      "Name: customer_id, dtype: int64\n",
      "nb duplicates : 0\n",
      "\n",
      "============================\n",
      "premieres lignes\n",
      "============================\n",
      "  subsidiary  customer_id  year  risk Status of existing checking account\n",
      "0     german          675  2013     1                 no checking account\n",
      "1     german          234  2011     0                        0 <= <200 DM\n",
      "2     german          740  2013     1                        0 <= <200 DM\n",
      "3     german          866  2014     0                 no checking account\n",
      "4     german          524  2012     0                 no checking account\n",
      "\n",
      "============================\n",
      "dernières lignes\n",
      "============================\n",
      "    subsidiary  customer_id  year  risk Status of existing checking account\n",
      "795     german          767  2013     1                               <0 DM\n",
      "796     german          415  2012     1                               <0 DM\n",
      "797     german          729  2013     1                        0 <= <200 DM\n",
      "798     german          948  2014     0                 no checking account\n",
      "799     german           22  2010     0                               <0 DM\n",
      "\n",
      "=======================================\n",
      "résumé de chaque variable\n",
      "=======================================\n",
      "       subsidiary  customer_id         year        risk Status of existing checking account\n",
      "count         800   800.000000   800.000000  800.000000                                 800\n",
      "unique          1          NaN          NaN         NaN                                   4\n",
      "top        german          NaN          NaN         NaN                 no checking account\n",
      "freq          800          NaN          NaN         NaN                                 315\n",
      "mean          NaN   505.788750  2012.031250    0.302500                                 NaN\n",
      "std           NaN   287.107179     1.404542    0.459628                                 NaN\n",
      "min           NaN     2.000000  2010.000000    0.000000                                 NaN\n",
      "25%           NaN   261.750000  2011.000000    0.000000                                 NaN\n",
      "50%           NaN   508.000000  2012.000000    0.000000                                 NaN\n",
      "75%           NaN   757.250000  2013.000000    1.000000                                 NaN\n",
      "max           NaN  1000.000000  2014.000000    1.000000                                 NaN\n",
      "\n"
     ]
    },
    {
     "data": {
      "text/html": [
       "<div>\n",
       "<style scoped>\n",
       "    .dataframe tbody tr th:only-of-type {\n",
       "        vertical-align: middle;\n",
       "    }\n",
       "\n",
       "    .dataframe tbody tr th {\n",
       "        vertical-align: top;\n",
       "    }\n",
       "\n",
       "    .dataframe thead th {\n",
       "        text-align: right;\n",
       "    }\n",
       "</style>\n",
       "<table border=\"1\" class=\"dataframe\">\n",
       "  <thead>\n",
       "    <tr style=\"text-align: right;\">\n",
       "      <th></th>\n",
       "      <th>column</th>\n",
       "      <th>type</th>\n",
       "      <th>missing_count</th>\n",
       "      <th>missing_rate</th>\n",
       "      <th>nb_labels</th>\n",
       "      <th>value_1</th>\n",
       "      <th>value_2</th>\n",
       "      <th>value_3</th>\n",
       "      <th>value_4</th>\n",
       "      <th>value_5</th>\n",
       "      <th>value_6</th>\n",
       "      <th>value_7</th>\n",
       "      <th>value_8</th>\n",
       "      <th>value_9</th>\n",
       "      <th>value_10</th>\n",
       "      <th>value_11</th>\n",
       "      <th>value_12</th>\n",
       "      <th>value_13</th>\n",
       "      <th>value_14</th>\n",
       "      <th>value_15</th>\n",
       "      <th>value_16</th>\n",
       "      <th>value_17</th>\n",
       "      <th>value_18</th>\n",
       "      <th>value_19</th>\n",
       "      <th>value_20</th>\n",
       "    </tr>\n",
       "  </thead>\n",
       "  <tbody>\n",
       "    <tr>\n",
       "      <th>0</th>\n",
       "      <td>subsidiary</td>\n",
       "      <td>object</td>\n",
       "      <td>0</td>\n",
       "      <td>0.0</td>\n",
       "      <td>1</td>\n",
       "      <td>german (800 obs)</td>\n",
       "      <td>None</td>\n",
       "      <td>None</td>\n",
       "      <td>None</td>\n",
       "      <td>None</td>\n",
       "      <td>None</td>\n",
       "      <td>None</td>\n",
       "      <td>None</td>\n",
       "      <td>None</td>\n",
       "      <td>None</td>\n",
       "      <td>None</td>\n",
       "      <td>None</td>\n",
       "      <td>None</td>\n",
       "      <td>None</td>\n",
       "      <td>None</td>\n",
       "      <td>None</td>\n",
       "      <td>None</td>\n",
       "      <td>None</td>\n",
       "      <td>None</td>\n",
       "      <td>None</td>\n",
       "    </tr>\n",
       "    <tr>\n",
       "      <th>1</th>\n",
       "      <td>customer_id</td>\n",
       "      <td>int64</td>\n",
       "      <td>0</td>\n",
       "      <td>0.0</td>\n",
       "      <td>800</td>\n",
       "      <td>675 (1 obs)</td>\n",
       "      <td>680 (1 obs)</td>\n",
       "      <td>490 (1 obs)</td>\n",
       "      <td>506 (1 obs)</td>\n",
       "      <td>39 (1 obs)</td>\n",
       "      <td>735 (1 obs)</td>\n",
       "      <td>120 (1 obs)</td>\n",
       "      <td>953 (1 obs)</td>\n",
       "      <td>824 (1 obs)</td>\n",
       "      <td>172 (1 obs)</td>\n",
       "      <td>667 (1 obs)</td>\n",
       "      <td>566 (1 obs)</td>\n",
       "      <td>278 (1 obs)</td>\n",
       "      <td>234 (1 obs)</td>\n",
       "      <td>170 (1 obs)</td>\n",
       "      <td>993 (1 obs)</td>\n",
       "      <td>242 (1 obs)</td>\n",
       "      <td>706 (1 obs)</td>\n",
       "      <td>512 (1 obs)</td>\n",
       "      <td>849 (1 obs)</td>\n",
       "    </tr>\n",
       "    <tr>\n",
       "      <th>2</th>\n",
       "      <td>year</td>\n",
       "      <td>int64</td>\n",
       "      <td>0</td>\n",
       "      <td>0.0</td>\n",
       "      <td>5</td>\n",
       "      <td>2012 (165 obs)</td>\n",
       "      <td>2013 (163 obs)</td>\n",
       "      <td>2014 (162 obs)</td>\n",
       "      <td>2011 (158 obs)</td>\n",
       "      <td>2010 (152 obs)</td>\n",
       "      <td>None</td>\n",
       "      <td>None</td>\n",
       "      <td>None</td>\n",
       "      <td>None</td>\n",
       "      <td>None</td>\n",
       "      <td>None</td>\n",
       "      <td>None</td>\n",
       "      <td>None</td>\n",
       "      <td>None</td>\n",
       "      <td>None</td>\n",
       "      <td>None</td>\n",
       "      <td>None</td>\n",
       "      <td>None</td>\n",
       "      <td>None</td>\n",
       "      <td>None</td>\n",
       "    </tr>\n",
       "    <tr>\n",
       "      <th>3</th>\n",
       "      <td>risk</td>\n",
       "      <td>int64</td>\n",
       "      <td>0</td>\n",
       "      <td>0.0</td>\n",
       "      <td>2</td>\n",
       "      <td>0 (558 obs)</td>\n",
       "      <td>1 (242 obs)</td>\n",
       "      <td>None</td>\n",
       "      <td>None</td>\n",
       "      <td>None</td>\n",
       "      <td>None</td>\n",
       "      <td>None</td>\n",
       "      <td>None</td>\n",
       "      <td>None</td>\n",
       "      <td>None</td>\n",
       "      <td>None</td>\n",
       "      <td>None</td>\n",
       "      <td>None</td>\n",
       "      <td>None</td>\n",
       "      <td>None</td>\n",
       "      <td>None</td>\n",
       "      <td>None</td>\n",
       "      <td>None</td>\n",
       "      <td>None</td>\n",
       "      <td>None</td>\n",
       "    </tr>\n",
       "    <tr>\n",
       "      <th>4</th>\n",
       "      <td>Status of existing checking account</td>\n",
       "      <td>object</td>\n",
       "      <td>0</td>\n",
       "      <td>0.0</td>\n",
       "      <td>4</td>\n",
       "      <td>no checking account (315 obs)</td>\n",
       "      <td>&lt;0 DM (224 obs)</td>\n",
       "      <td>0 &lt;= &lt;200 DM (209 obs)</td>\n",
       "      <td>&gt;= 200 DM  (52 obs)</td>\n",
       "      <td>None</td>\n",
       "      <td>None</td>\n",
       "      <td>None</td>\n",
       "      <td>None</td>\n",
       "      <td>None</td>\n",
       "      <td>None</td>\n",
       "      <td>None</td>\n",
       "      <td>None</td>\n",
       "      <td>None</td>\n",
       "      <td>None</td>\n",
       "      <td>None</td>\n",
       "      <td>None</td>\n",
       "      <td>None</td>\n",
       "      <td>None</td>\n",
       "      <td>None</td>\n",
       "      <td>None</td>\n",
       "    </tr>\n",
       "  </tbody>\n",
       "</table>\n",
       "</div>"
      ],
      "text/plain": [
       "                                column    type  missing_count  missing_rate  nb_labels                        value_1          value_2                 value_3              value_4         value_5      value_6      value_7      value_8      value_9     value_10     value_11     value_12     value_13     value_14     value_15     value_16     value_17     value_18     value_19     value_20\n",
       "0                           subsidiary  object              0           0.0          1               german (800 obs)             None                    None                 None            None         None         None         None         None         None         None         None         None         None         None         None         None         None         None         None\n",
       "1                          customer_id   int64              0           0.0        800                    675 (1 obs)      680 (1 obs)             490 (1 obs)          506 (1 obs)      39 (1 obs)  735 (1 obs)  120 (1 obs)  953 (1 obs)  824 (1 obs)  172 (1 obs)  667 (1 obs)  566 (1 obs)  278 (1 obs)  234 (1 obs)  170 (1 obs)  993 (1 obs)  242 (1 obs)  706 (1 obs)  512 (1 obs)  849 (1 obs)\n",
       "2                                 year   int64              0           0.0          5                 2012 (165 obs)   2013 (163 obs)          2014 (162 obs)       2011 (158 obs)  2010 (152 obs)         None         None         None         None         None         None         None         None         None         None         None         None         None         None         None\n",
       "3                                 risk   int64              0           0.0          2                    0 (558 obs)      1 (242 obs)                    None                 None            None         None         None         None         None         None         None         None         None         None         None         None         None         None         None         None\n",
       "4  Status of existing checking account  object              0           0.0          4  no checking account (315 obs)  <0 DM (224 obs)  0 <= <200 DM (209 obs)  >= 200 DM  (52 obs)            None         None         None         None         None         None         None         None         None         None         None         None         None         None         None         None"
      ]
     },
     "execution_count": 7,
     "metadata": {},
     "output_type": "execute_result"
    }
   ],
   "source": [
    "functions_ml.valid_df(df.iloc[:,0: 5],  df_name= 'german_data', id_var='customer_id')"
   ]
  },
  {
   "cell_type": "markdown",
   "metadata": {},
   "source": [
    "# Recodages des variables explicatives"
   ]
  },
  {
   "cell_type": "code",
   "execution_count": 8,
   "metadata": {},
   "outputs": [],
   "source": [
    "## *texte en italique*## Définition des listes de variables suite à l'analyse dans Excel"
   ]
  },
  {
   "cell_type": "code",
   "execution_count": 9,
   "metadata": {},
   "outputs": [],
   "source": [
    "numeric_vars = ['Credit amount', 'Age in years', 'Duration in month', 'Evaluation']\n",
    "other_vars = ['customer_id', 'month']\n",
    "target = 'risk'\n",
    "vars_to_delete = ['subsidiary']\n",
    "qualitative_vars = list(df.columns.difference(numeric_vars + other_vars + vars_to_delete + [ target ]))\n",
    "\n",
    "#futures variables numériques recodées en qualitative en rajoutant un suffix '_q'\n",
    "new_qualitative_vars = qualitative_vars + [c + '_q' for c in numeric_vars]"
   ]
  },
  {
   "cell_type": "markdown",
   "metadata": {
    "id": "nI1EjvbZJaY1"
   },
   "source": [
    "## Découpage en tranches des variables numériques\n",
    "\n",
    "- il ne faut se baser que sur les données du Train\n",
    "\n",
    "- https://pandas.pydata.org/pandas-docs/stable/reference/api/pandas.qcut.html\n",
    "- https://pbpython.com/pandas-qcut-cut.html"
   ]
  },
  {
   "cell_type": "code",
   "execution_count": 10,
   "metadata": {
    "colab": {
     "base_uri": "https://localhost:8080/"
    },
    "executionInfo": {
     "elapsed": 5002,
     "status": "ok",
     "timestamp": 1615644648832,
     "user": {
      "displayName": "Grumberg Alex",
      "photoUrl": "",
      "userId": "07563321383937549063"
     },
     "user_tz": -60
    },
    "id": "tbHXhNRYJaeS",
    "outputId": "895a4c76-59e6-42a0-a97f-0d60e4d90a8a"
   },
   "outputs": [
    {
     "name": "stdout",
     "output_type": "stream",
     "text": [
      "Credit amount\n",
      "(249.999, 1275.0]    162\n",
      "(2915.2, 4843.2]     160\n",
      "(4843.2, 18424.0]    160\n",
      "(1924.0, 2915.2]     159\n",
      "(1275.0, 1924.0]     159\n",
      "Name: Credit amount_q, dtype: int64\n",
      "Age in years\n",
      "(18.999, 26.0]    191\n",
      "(30.0, 36.0]      169\n",
      "(44.2, 75.0]      160\n",
      "(36.0, 44.2]      140\n",
      "(26.0, 30.0]      140\n",
      "Name: Age in years_q, dtype: int64\n",
      "Duration in month\n",
      "(3.999, 12.0]    277\n",
      "(15.0, 24.0]     274\n",
      "(30.0, 72.0]     150\n",
      "(12.0, 15.0]      55\n",
      "(24.0, 30.0]      44\n",
      "Name: Duration in month_q, dtype: int64\n",
      "Evaluation\n",
      "(62.78, 81.82]    160\n",
      "(81.82, 99.9]     160\n",
      "(24.68, 45.66]    160\n",
      "(5.199, 24.68]    160\n",
      "(45.66, 62.78]    160\n",
      "Name: Evaluation_q, dtype: int64\n"
     ]
    },
    {
     "data": {
      "text/html": [
       "<div>\n",
       "<style scoped>\n",
       "    .dataframe tbody tr th:only-of-type {\n",
       "        vertical-align: middle;\n",
       "    }\n",
       "\n",
       "    .dataframe tbody tr th {\n",
       "        vertical-align: top;\n",
       "    }\n",
       "\n",
       "    .dataframe thead th {\n",
       "        text-align: right;\n",
       "    }\n",
       "</style>\n",
       "<table border=\"1\" class=\"dataframe\">\n",
       "  <thead>\n",
       "    <tr style=\"text-align: right;\">\n",
       "      <th></th>\n",
       "      <th>subsidiary</th>\n",
       "      <th>customer_id</th>\n",
       "      <th>year</th>\n",
       "      <th>risk</th>\n",
       "      <th>Status of existing checking account</th>\n",
       "      <th>Duration in month</th>\n",
       "      <th>Credit history</th>\n",
       "      <th>Purpose</th>\n",
       "      <th>Credit amount</th>\n",
       "      <th>Savings account/bonds</th>\n",
       "      <th>Present employment since</th>\n",
       "      <th>Installment rate in percentage of disposable income</th>\n",
       "      <th>Personal status and sex</th>\n",
       "      <th>Other debtors / guarantors</th>\n",
       "      <th>RGPD KO</th>\n",
       "      <th>Present residence since</th>\n",
       "      <th>Property</th>\n",
       "      <th>Age in years</th>\n",
       "      <th>Evaluation</th>\n",
       "      <th>Other installment plans</th>\n",
       "      <th>Housing</th>\n",
       "      <th>Number of existing credits at this bank</th>\n",
       "      <th>Job</th>\n",
       "      <th>Number of people being liable to provide maintenance for</th>\n",
       "      <th>Téléphone</th>\n",
       "      <th>foreign worker</th>\n",
       "      <th>Credit amount_q</th>\n",
       "      <th>Age in years_q</th>\n",
       "      <th>Duration in month_q</th>\n",
       "      <th>Evaluation_q</th>\n",
       "    </tr>\n",
       "  </thead>\n",
       "  <tbody>\n",
       "    <tr>\n",
       "      <th>0</th>\n",
       "      <td>german</td>\n",
       "      <td>675</td>\n",
       "      <td>2013</td>\n",
       "      <td>1</td>\n",
       "      <td>no checking account</td>\n",
       "      <td>21</td>\n",
       "      <td>delay in paying off</td>\n",
       "      <td>business</td>\n",
       "      <td>2580</td>\n",
       "      <td>500 &lt;= &lt; 1000 DM</td>\n",
       "      <td>&lt;1 years</td>\n",
       "      <td>4</td>\n",
       "      <td>male:single</td>\n",
       "      <td>none</td>\n",
       "      <td>NaN</td>\n",
       "      <td>2</td>\n",
       "      <td>real estate</td>\n",
       "      <td>41</td>\n",
       "      <td>68.7</td>\n",
       "      <td>bank</td>\n",
       "      <td>own</td>\n",
       "      <td>1</td>\n",
       "      <td>unskilled - resident</td>\n",
       "      <td>2</td>\n",
       "      <td>none</td>\n",
       "      <td>yes</td>\n",
       "      <td>(1924.0, 2915.2]</td>\n",
       "      <td>(36.0, 44.2]</td>\n",
       "      <td>(15.0, 24.0]</td>\n",
       "      <td>(62.78, 81.82]</td>\n",
       "    </tr>\n",
       "    <tr>\n",
       "      <th>1</th>\n",
       "      <td>german</td>\n",
       "      <td>234</td>\n",
       "      <td>2011</td>\n",
       "      <td>0</td>\n",
       "      <td>0 &lt;= &lt;200 DM</td>\n",
       "      <td>18</td>\n",
       "      <td>existing credits paid back duly till now</td>\n",
       "      <td>radio/télévision</td>\n",
       "      <td>866</td>\n",
       "      <td>&lt;100 DM</td>\n",
       "      <td>1&lt;= &lt; 4 years</td>\n",
       "      <td>4</td>\n",
       "      <td>male:married/widowed</td>\n",
       "      <td>guarantor</td>\n",
       "      <td>3.0</td>\n",
       "      <td>2</td>\n",
       "      <td>real estate</td>\n",
       "      <td>25</td>\n",
       "      <td>98.7</td>\n",
       "      <td>none</td>\n",
       "      <td>own</td>\n",
       "      <td>1</td>\n",
       "      <td>unskilled - resident</td>\n",
       "      <td>1</td>\n",
       "      <td>none</td>\n",
       "      <td>yes</td>\n",
       "      <td>(249.999, 1275.0]</td>\n",
       "      <td>(18.999, 26.0]</td>\n",
       "      <td>(15.0, 24.0]</td>\n",
       "      <td>(81.82, 99.9]</td>\n",
       "    </tr>\n",
       "    <tr>\n",
       "      <th>2</th>\n",
       "      <td>german</td>\n",
       "      <td>740</td>\n",
       "      <td>2013</td>\n",
       "      <td>1</td>\n",
       "      <td>0 &lt;= &lt;200 DM</td>\n",
       "      <td>30</td>\n",
       "      <td>no credits taken</td>\n",
       "      <td>business</td>\n",
       "      <td>4280</td>\n",
       "      <td>100 &lt;= &lt;500 DM</td>\n",
       "      <td>1&lt;= &lt; 4 years</td>\n",
       "      <td>4</td>\n",
       "      <td>female:divorced/separated/married</td>\n",
       "      <td>none</td>\n",
       "      <td>NaN</td>\n",
       "      <td>4</td>\n",
       "      <td>car or other</td>\n",
       "      <td>26</td>\n",
       "      <td>83.7</td>\n",
       "      <td>none</td>\n",
       "      <td>rent</td>\n",
       "      <td>2</td>\n",
       "      <td>unskilled - resident</td>\n",
       "      <td>1</td>\n",
       "      <td>none</td>\n",
       "      <td>yes</td>\n",
       "      <td>(2915.2, 4843.2]</td>\n",
       "      <td>(18.999, 26.0]</td>\n",
       "      <td>(24.0, 30.0]</td>\n",
       "      <td>(81.82, 99.9]</td>\n",
       "    </tr>\n",
       "    <tr>\n",
       "      <th>3</th>\n",
       "      <td>german</td>\n",
       "      <td>866</td>\n",
       "      <td>2014</td>\n",
       "      <td>0</td>\n",
       "      <td>no checking account</td>\n",
       "      <td>15</td>\n",
       "      <td>existing credits paid back duly till now</td>\n",
       "      <td>furniture/equipment</td>\n",
       "      <td>2221</td>\n",
       "      <td>500 &lt;= &lt; 1000 DM</td>\n",
       "      <td>1&lt;= &lt; 4 years</td>\n",
       "      <td>2</td>\n",
       "      <td>female:divorced/separated/married</td>\n",
       "      <td>none</td>\n",
       "      <td>NaN</td>\n",
       "      <td>4</td>\n",
       "      <td>car or other</td>\n",
       "      <td>20</td>\n",
       "      <td>34.2</td>\n",
       "      <td>none</td>\n",
       "      <td>rent</td>\n",
       "      <td>1</td>\n",
       "      <td>skilled employee / official</td>\n",
       "      <td>1</td>\n",
       "      <td>none</td>\n",
       "      <td>yes</td>\n",
       "      <td>(1924.0, 2915.2]</td>\n",
       "      <td>(18.999, 26.0]</td>\n",
       "      <td>(12.0, 15.0]</td>\n",
       "      <td>(24.68, 45.66]</td>\n",
       "    </tr>\n",
       "    <tr>\n",
       "      <th>4</th>\n",
       "      <td>german</td>\n",
       "      <td>524</td>\n",
       "      <td>2012</td>\n",
       "      <td>0</td>\n",
       "      <td>no checking account</td>\n",
       "      <td>24</td>\n",
       "      <td>existing credits paid back duly till now</td>\n",
       "      <td>car (used)</td>\n",
       "      <td>3488</td>\n",
       "      <td>100 &lt;= &lt;500 DM</td>\n",
       "      <td>4&lt;= &lt;7 years</td>\n",
       "      <td>3</td>\n",
       "      <td>female:divorced/separated/married</td>\n",
       "      <td>none</td>\n",
       "      <td>2.0</td>\n",
       "      <td>4</td>\n",
       "      <td>car or other</td>\n",
       "      <td>23</td>\n",
       "      <td>8.0</td>\n",
       "      <td>none</td>\n",
       "      <td>own</td>\n",
       "      <td>1</td>\n",
       "      <td>skilled employee / official</td>\n",
       "      <td>1</td>\n",
       "      <td>none</td>\n",
       "      <td>yes</td>\n",
       "      <td>(2915.2, 4843.2]</td>\n",
       "      <td>(18.999, 26.0]</td>\n",
       "      <td>(15.0, 24.0]</td>\n",
       "      <td>(5.199, 24.68]</td>\n",
       "    </tr>\n",
       "    <tr>\n",
       "      <th>...</th>\n",
       "      <td>...</td>\n",
       "      <td>...</td>\n",
       "      <td>...</td>\n",
       "      <td>...</td>\n",
       "      <td>...</td>\n",
       "      <td>...</td>\n",
       "      <td>...</td>\n",
       "      <td>...</td>\n",
       "      <td>...</td>\n",
       "      <td>...</td>\n",
       "      <td>...</td>\n",
       "      <td>...</td>\n",
       "      <td>...</td>\n",
       "      <td>...</td>\n",
       "      <td>...</td>\n",
       "      <td>...</td>\n",
       "      <td>...</td>\n",
       "      <td>...</td>\n",
       "      <td>...</td>\n",
       "      <td>...</td>\n",
       "      <td>...</td>\n",
       "      <td>...</td>\n",
       "      <td>...</td>\n",
       "      <td>...</td>\n",
       "      <td>...</td>\n",
       "      <td>...</td>\n",
       "      <td>...</td>\n",
       "      <td>...</td>\n",
       "      <td>...</td>\n",
       "      <td>...</td>\n",
       "    </tr>\n",
       "    <tr>\n",
       "      <th>795</th>\n",
       "      <td>german</td>\n",
       "      <td>767</td>\n",
       "      <td>2013</td>\n",
       "      <td>1</td>\n",
       "      <td>&lt;0 DM</td>\n",
       "      <td>30</td>\n",
       "      <td>existing credits paid back duly till now</td>\n",
       "      <td>furniture/equipment</td>\n",
       "      <td>3108</td>\n",
       "      <td>&lt;100 DM</td>\n",
       "      <td>&lt;1 years</td>\n",
       "      <td>2</td>\n",
       "      <td>male:divorced/separated</td>\n",
       "      <td>none</td>\n",
       "      <td>NaN</td>\n",
       "      <td>4</td>\n",
       "      <td>savings agreement/life insurance</td>\n",
       "      <td>31</td>\n",
       "      <td>84.0</td>\n",
       "      <td>none</td>\n",
       "      <td>own</td>\n",
       "      <td>1</td>\n",
       "      <td>unskilled - resident</td>\n",
       "      <td>1</td>\n",
       "      <td>none</td>\n",
       "      <td>yes</td>\n",
       "      <td>(2915.2, 4843.2]</td>\n",
       "      <td>(30.0, 36.0]</td>\n",
       "      <td>(24.0, 30.0]</td>\n",
       "      <td>(81.82, 99.9]</td>\n",
       "    </tr>\n",
       "    <tr>\n",
       "      <th>796</th>\n",
       "      <td>german</td>\n",
       "      <td>415</td>\n",
       "      <td>2012</td>\n",
       "      <td>1</td>\n",
       "      <td>&lt;0 DM</td>\n",
       "      <td>24</td>\n",
       "      <td>existing credits paid back duly till now</td>\n",
       "      <td>car (new)</td>\n",
       "      <td>1381</td>\n",
       "      <td>no savings account</td>\n",
       "      <td>1&lt;= &lt; 4 years</td>\n",
       "      <td>4</td>\n",
       "      <td>female:divorced/separated/married</td>\n",
       "      <td>none</td>\n",
       "      <td>1.0</td>\n",
       "      <td>2</td>\n",
       "      <td>savings agreement/life insurance</td>\n",
       "      <td>35</td>\n",
       "      <td>50.7</td>\n",
       "      <td>none</td>\n",
       "      <td>own</td>\n",
       "      <td>1</td>\n",
       "      <td>skilled employee / official</td>\n",
       "      <td>1</td>\n",
       "      <td>none</td>\n",
       "      <td>yes</td>\n",
       "      <td>(1275.0, 1924.0]</td>\n",
       "      <td>(30.0, 36.0]</td>\n",
       "      <td>(15.0, 24.0]</td>\n",
       "      <td>(45.66, 62.78]</td>\n",
       "    </tr>\n",
       "    <tr>\n",
       "      <th>797</th>\n",
       "      <td>german</td>\n",
       "      <td>729</td>\n",
       "      <td>2013</td>\n",
       "      <td>1</td>\n",
       "      <td>0 &lt;= &lt;200 DM</td>\n",
       "      <td>48</td>\n",
       "      <td>all credits at this bank paid back duly</td>\n",
       "      <td>business</td>\n",
       "      <td>6416</td>\n",
       "      <td>&lt;100 DM</td>\n",
       "      <td>&gt;=7 years</td>\n",
       "      <td>4</td>\n",
       "      <td>female:divorced/separated/married</td>\n",
       "      <td>none</td>\n",
       "      <td>NaN</td>\n",
       "      <td>3</td>\n",
       "      <td>unknown / no property</td>\n",
       "      <td>59</td>\n",
       "      <td>90.6</td>\n",
       "      <td>none</td>\n",
       "      <td>rent</td>\n",
       "      <td>1</td>\n",
       "      <td>skilled employee / official</td>\n",
       "      <td>1</td>\n",
       "      <td>none</td>\n",
       "      <td>yes</td>\n",
       "      <td>(4843.2, 18424.0]</td>\n",
       "      <td>(44.2, 75.0]</td>\n",
       "      <td>(30.0, 72.0]</td>\n",
       "      <td>(81.82, 99.9]</td>\n",
       "    </tr>\n",
       "    <tr>\n",
       "      <th>798</th>\n",
       "      <td>german</td>\n",
       "      <td>948</td>\n",
       "      <td>2014</td>\n",
       "      <td>0</td>\n",
       "      <td>no checking account</td>\n",
       "      <td>12</td>\n",
       "      <td>existing credits paid back duly till now</td>\n",
       "      <td>car (new)</td>\n",
       "      <td>2859</td>\n",
       "      <td>no savings account</td>\n",
       "      <td>unemployed</td>\n",
       "      <td>4</td>\n",
       "      <td>male:single</td>\n",
       "      <td>none</td>\n",
       "      <td>NaN</td>\n",
       "      <td>4</td>\n",
       "      <td>unknown / no property</td>\n",
       "      <td>38</td>\n",
       "      <td>13.0</td>\n",
       "      <td>none</td>\n",
       "      <td>own</td>\n",
       "      <td>1</td>\n",
       "      <td>management/ highly qualified employee</td>\n",
       "      <td>1</td>\n",
       "      <td>yes</td>\n",
       "      <td>yes</td>\n",
       "      <td>(1924.0, 2915.2]</td>\n",
       "      <td>(36.0, 44.2]</td>\n",
       "      <td>(3.999, 12.0]</td>\n",
       "      <td>(5.199, 24.68]</td>\n",
       "    </tr>\n",
       "    <tr>\n",
       "      <th>799</th>\n",
       "      <td>german</td>\n",
       "      <td>22</td>\n",
       "      <td>2010</td>\n",
       "      <td>0</td>\n",
       "      <td>&lt;0 DM</td>\n",
       "      <td>6</td>\n",
       "      <td>existing credits paid back duly till now</td>\n",
       "      <td>radio/télévision</td>\n",
       "      <td>2647</td>\n",
       "      <td>500 &lt;= &lt; 1000 DM</td>\n",
       "      <td>1&lt;= &lt; 4 years</td>\n",
       "      <td>2</td>\n",
       "      <td>male:single</td>\n",
       "      <td>none</td>\n",
       "      <td>1.0</td>\n",
       "      <td>3</td>\n",
       "      <td>real estate</td>\n",
       "      <td>44</td>\n",
       "      <td>13.8</td>\n",
       "      <td>none</td>\n",
       "      <td>rent</td>\n",
       "      <td>1</td>\n",
       "      <td>skilled employee / official</td>\n",
       "      <td>2</td>\n",
       "      <td>none</td>\n",
       "      <td>yes</td>\n",
       "      <td>(1924.0, 2915.2]</td>\n",
       "      <td>(36.0, 44.2]</td>\n",
       "      <td>(3.999, 12.0]</td>\n",
       "      <td>(5.199, 24.68]</td>\n",
       "    </tr>\n",
       "  </tbody>\n",
       "</table>\n",
       "<p>800 rows × 30 columns</p>\n",
       "</div>"
      ],
      "text/plain": [
       "    subsidiary  customer_id  year  risk Status of existing checking account  Duration in month                            Credit history              Purpose  Credit amount Savings account/bonds Present employment since  Installment rate in percentage of disposable income            Personal status and sex Other debtors / guarantors  RGPD KO  Present residence since                          Property  Age in years  Evaluation Other installment plans Housing  Number of existing credits at this bank                                    Job  Number of people being liable to provide maintenance for Téléphone foreign worker    Credit amount_q  Age in years_q Duration in month_q    Evaluation_q\n",
       "0       german          675  2013     1                 no checking account                 21                       delay in paying off             business           2580      500 <= < 1000 DM                 <1 years                                                  4                          male:single                       none      NaN                        2                       real estate            41        68.7                    bank     own                                        1                   unskilled - resident                                                  2             none            yes   (1924.0, 2915.2]    (36.0, 44.2]        (15.0, 24.0]  (62.78, 81.82]\n",
       "1       german          234  2011     0                        0 <= <200 DM                 18  existing credits paid back duly till now     radio/télévision            866               <100 DM            1<= < 4 years                                                  4                 male:married/widowed                  guarantor      3.0                        2                       real estate            25        98.7                    none     own                                        1                   unskilled - resident                                                  1             none            yes  (249.999, 1275.0]  (18.999, 26.0]        (15.0, 24.0]   (81.82, 99.9]\n",
       "2       german          740  2013     1                        0 <= <200 DM                 30                          no credits taken             business           4280        100 <= <500 DM            1<= < 4 years                                                  4    female:divorced/separated/married                       none      NaN                        4                      car or other            26        83.7                    none    rent                                        2                   unskilled - resident                                                  1             none            yes   (2915.2, 4843.2]  (18.999, 26.0]        (24.0, 30.0]   (81.82, 99.9]\n",
       "3       german          866  2014     0                 no checking account                 15  existing credits paid back duly till now  furniture/equipment           2221      500 <= < 1000 DM            1<= < 4 years                                                  2    female:divorced/separated/married                       none      NaN                        4                      car or other            20        34.2                    none    rent                                        1            skilled employee / official                                                  1             none            yes   (1924.0, 2915.2]  (18.999, 26.0]        (12.0, 15.0]  (24.68, 45.66]\n",
       "4       german          524  2012     0                 no checking account                 24  existing credits paid back duly till now           car (used)           3488        100 <= <500 DM             4<= <7 years                                                  3    female:divorced/separated/married                       none      2.0                        4                      car or other            23         8.0                    none     own                                        1            skilled employee / official                                                  1             none            yes   (2915.2, 4843.2]  (18.999, 26.0]        (15.0, 24.0]  (5.199, 24.68]\n",
       "..         ...          ...   ...   ...                                 ...                ...                                       ...                  ...            ...                   ...                      ...                                                ...                                  ...                        ...      ...                      ...                               ...           ...         ...                     ...     ...                                      ...                                    ...                                                ...              ...            ...                ...             ...                 ...             ...\n",
       "795     german          767  2013     1                               <0 DM                 30  existing credits paid back duly till now  furniture/equipment           3108               <100 DM                 <1 years                                                  2              male:divorced/separated                       none      NaN                        4  savings agreement/life insurance            31        84.0                    none     own                                        1                   unskilled - resident                                                  1             none            yes   (2915.2, 4843.2]    (30.0, 36.0]        (24.0, 30.0]   (81.82, 99.9]\n",
       "796     german          415  2012     1                               <0 DM                 24  existing credits paid back duly till now            car (new)           1381    no savings account            1<= < 4 years                                                  4    female:divorced/separated/married                       none      1.0                        2  savings agreement/life insurance            35        50.7                    none     own                                        1            skilled employee / official                                                  1             none            yes   (1275.0, 1924.0]    (30.0, 36.0]        (15.0, 24.0]  (45.66, 62.78]\n",
       "797     german          729  2013     1                        0 <= <200 DM                 48   all credits at this bank paid back duly             business           6416               <100 DM                >=7 years                                                  4    female:divorced/separated/married                       none      NaN                        3             unknown / no property            59        90.6                    none    rent                                        1            skilled employee / official                                                  1             none            yes  (4843.2, 18424.0]    (44.2, 75.0]        (30.0, 72.0]   (81.82, 99.9]\n",
       "798     german          948  2014     0                 no checking account                 12  existing credits paid back duly till now            car (new)           2859    no savings account               unemployed                                                  4                          male:single                       none      NaN                        4             unknown / no property            38        13.0                    none     own                                        1  management/ highly qualified employee                                                  1              yes            yes   (1924.0, 2915.2]    (36.0, 44.2]       (3.999, 12.0]  (5.199, 24.68]\n",
       "799     german           22  2010     0                               <0 DM                  6  existing credits paid back duly till now     radio/télévision           2647      500 <= < 1000 DM            1<= < 4 years                                                  2                          male:single                       none      1.0                        3                       real estate            44        13.8                    none    rent                                        1            skilled employee / official                                                  2             none            yes   (1924.0, 2915.2]    (36.0, 44.2]       (3.999, 12.0]  (5.199, 24.68]\n",
       "\n",
       "[800 rows x 30 columns]"
      ]
     },
     "execution_count": 10,
     "metadata": {},
     "output_type": "execute_result"
    }
   ],
   "source": [
    "for c in numeric_vars:\n",
    "    print(c)\n",
    "    df[c + '_q'] = pd.qcut(df[c], q=5, duplicates = 'drop')\n",
    "    #les variables catégorielles sont un peu galère à gérer ... \n",
    "    #elles n'aiment pas les fillna par exemple\n",
    "    #par contre en faisant cette transformation, on perd l'ordre des modalités...\n",
    "    df[c + '_q'] = df[c + '_q'].astype(str) \n",
    "    print(df[c + '_q'].value_counts(dropna=False))\n",
    "\n",
    "#on fait ça pour avoir une 1ère impression mais ensuite on fera ce recodage :\n",
    "    # --> soit à la main :\n",
    "    #     - soit apres découpage en 10 classes\n",
    "    #     - soit en regardant un graph\n",
    "    # -->soit en automatique :\n",
    "    #     - avec un arbre de décision \n",
    "df"
   ]
  },
  {
   "cell_type": "markdown",
   "metadata": {},
   "source": [
    "les variables pour lesquelles la distritbution des modalités sont differentes est du à la présence des valeurs manquantes?????????"
   ]
  },
  {
   "cell_type": "markdown",
   "metadata": {
    "id": "GHS2UxY6UGWJ"
   },
   "source": [
    "## Traitement des valeurs manquantes\n",
    "\n",
    "- Vu que l'on discrétise toutes les variables, on va simplement remplacer les valeurs manquantes par une valeur fixe. Ici la ds=iscrétisation des valeurs numériques permettent de prendre en compte les valeurs manquantes.\n"
   ]
  },
  {
   "cell_type": "code",
   "execution_count": 11,
   "metadata": {
    "id": "2fYGmHT2UGe6"
   },
   "outputs": [],
   "source": [
    "df = df.fillna('VIDE')"
   ]
  },
  {
   "cell_type": "markdown",
   "metadata": {
    "id": "GLWaw7ppUr7i"
   },
   "source": [
    "## Regroupements de modalités\n",
    "\n",
    "- Analyse univariée du lien avec la variable cible\n",
    "\n",
    "- On analyse les variables selon leur ordre potentiel d'importance (probabilité du test du chi2 croissante)\n",
    "\n",
    "- **sur l'échantillon Train seulement**"
   ]
  },
  {
   "cell_type": "code",
   "execution_count": 12,
   "metadata": {
    "colab": {
     "base_uri": "https://localhost:8080/"
    },
    "executionInfo": {
     "elapsed": 4990,
     "status": "ok",
     "timestamp": 1615644648833,
     "user": {
      "displayName": "Grumberg Alex",
      "photoUrl": "",
      "userId": "07563321383937549063"
     },
     "user_tz": -60
    },
    "id": "U7Ipy0SYm6Qh",
    "outputId": "f5e7e8b9-d62c-4bd5-9cf1-c8c54471bd39"
   },
   "outputs": [
    {
     "name": "stdout",
     "output_type": "stream",
     "text": [
      "Help on function summary_table in module functions_ml:\n",
      "\n",
      "summary_table(train_Xy, cols_list, target)\n",
      "    La fonction renvoie un df de synthèse des variables explicatives en fonction d'une target numérique (binaire ok)\n",
      "    On calcule pour chaque modalité de chaque variable : sa fréquence et fréquence relative et sa moyenne\n",
      "    \n",
      "    en + 2 variables :\n",
      "        - 'nb_values' : nb de modalités de la variables\n",
      "        - 'nb_rows'   : nb de lignes dans la table (=> identique sur toutes les lignes)\n",
      "    \n",
      "    remarque : les valeurs manquantes ne sont pas considérées par défaut\n",
      "               => si besoin utilisez df=df.fillna('') avant cette fonction\n",
      "               \n",
      "        parametres obligatoires:\n",
      "             train_Xy   : nom du df contenant les variables explicatives et la variable cible\n",
      "             cols_list  : liste des variables explicatives (plutôt discrètes ou continues avec peu de moda)\n",
      "                          car la table créé en sortie contiendra une ligne par valeur\n",
      "                          EVITEZ la variable d'identifiant de ligne :-)\n",
      "            target      : variable cible qui doit être numérique (binaire ok également)\n",
      "\n"
     ]
    }
   ],
   "source": [
    "help(functions_ml.summary_table)"
   ]
  },
  {
   "cell_type": "code",
   "execution_count": 13,
   "metadata": {
    "colab": {
     "base_uri": "https://localhost:8080/"
    },
    "executionInfo": {
     "elapsed": 5253,
     "status": "ok",
     "timestamp": 1615644649104,
     "user": {
      "displayName": "Grumberg Alex",
      "photoUrl": "",
      "userId": "07563321383937549063"
     },
     "user_tz": -60
    },
    "id": "PfwCgEeGUsCd",
    "outputId": "a42a50f2-3c79-4ea0-ad22-d8887f4c9ce8"
   },
   "outputs": [
    {
     "name": "stdout",
     "output_type": "stream",
     "text": [
      "Credit history\n",
      "Housing\n",
      "Installment rate in percentage of disposable income\n",
      "Job\n",
      "Number of existing credits at this bank\n",
      "Number of people being liable to provide maintenance for\n",
      "Other debtors / guarantors\n",
      "Other installment plans\n",
      "Personal status and sex\n",
      "Present employment since\n",
      "Present residence since\n",
      "Property\n",
      "Purpose\n",
      "RGPD KO\n",
      "Savings account/bonds\n",
      "Status of existing checking account\n",
      "Téléphone\n",
      "foreign worker\n",
      "year\n",
      "Credit amount_q\n",
      "Age in years_q\n",
      "Duration in month_q\n",
      "Evaluation_q\n"
     ]
    },
    {
     "data": {
      "text/html": [
       "<div>\n",
       "<style scoped>\n",
       "    .dataframe tbody tr th:only-of-type {\n",
       "        vertical-align: middle;\n",
       "    }\n",
       "\n",
       "    .dataframe tbody tr th {\n",
       "        vertical-align: top;\n",
       "    }\n",
       "\n",
       "    .dataframe thead th {\n",
       "        text-align: right;\n",
       "    }\n",
       "</style>\n",
       "<table border=\"1\" class=\"dataframe\">\n",
       "  <thead>\n",
       "    <tr style=\"text-align: right;\">\n",
       "      <th></th>\n",
       "      <th>nb_values</th>\n",
       "      <th>variable</th>\n",
       "      <th>value</th>\n",
       "      <th>freq</th>\n",
       "      <th>pct_freq</th>\n",
       "      <th>pct_target</th>\n",
       "      <th>nb_rows</th>\n",
       "      <th>target</th>\n",
       "      <th>code_recode</th>\n",
       "      <th>code_recode2</th>\n",
       "      <th>code_recode3</th>\n",
       "    </tr>\n",
       "  </thead>\n",
       "  <tbody>\n",
       "    <tr>\n",
       "      <th>0</th>\n",
       "      <td>5</td>\n",
       "      <td>Age in years_q</td>\n",
       "      <td>(18.999, 26.0]</td>\n",
       "      <td>191</td>\n",
       "      <td>0.23875</td>\n",
       "      <td>0.382199</td>\n",
       "      <td>800</td>\n",
       "      <td>risk</td>\n",
       "      <td></td>\n",
       "      <td></td>\n",
       "      <td></td>\n",
       "    </tr>\n",
       "    <tr>\n",
       "      <th>4</th>\n",
       "      <td>5</td>\n",
       "      <td>Age in years_q</td>\n",
       "      <td>(26.0, 30.0]</td>\n",
       "      <td>140</td>\n",
       "      <td>0.17500</td>\n",
       "      <td>0.321429</td>\n",
       "      <td>800</td>\n",
       "      <td>risk</td>\n",
       "      <td></td>\n",
       "      <td></td>\n",
       "      <td></td>\n",
       "    </tr>\n",
       "    <tr>\n",
       "      <th>3</th>\n",
       "      <td>5</td>\n",
       "      <td>Age in years_q</td>\n",
       "      <td>(36.0, 44.2]</td>\n",
       "      <td>140</td>\n",
       "      <td>0.17500</td>\n",
       "      <td>0.285714</td>\n",
       "      <td>800</td>\n",
       "      <td>risk</td>\n",
       "      <td></td>\n",
       "      <td></td>\n",
       "      <td></td>\n",
       "    </tr>\n",
       "    <tr>\n",
       "      <th>1</th>\n",
       "      <td>5</td>\n",
       "      <td>Age in years_q</td>\n",
       "      <td>(30.0, 36.0]</td>\n",
       "      <td>169</td>\n",
       "      <td>0.21125</td>\n",
       "      <td>0.266272</td>\n",
       "      <td>800</td>\n",
       "      <td>risk</td>\n",
       "      <td></td>\n",
       "      <td></td>\n",
       "      <td></td>\n",
       "    </tr>\n",
       "    <tr>\n",
       "      <th>2</th>\n",
       "      <td>5</td>\n",
       "      <td>Age in years_q</td>\n",
       "      <td>(44.2, 75.0]</td>\n",
       "      <td>160</td>\n",
       "      <td>0.20000</td>\n",
       "      <td>0.243750</td>\n",
       "      <td>800</td>\n",
       "      <td>risk</td>\n",
       "      <td></td>\n",
       "      <td></td>\n",
       "      <td></td>\n",
       "    </tr>\n",
       "  </tbody>\n",
       "</table>\n",
       "</div>"
      ],
      "text/plain": [
       "   nb_values        variable           value  freq  pct_freq  pct_target  nb_rows target code_recode code_recode2 code_recode3\n",
       "0          5  Age in years_q  (18.999, 26.0]   191   0.23875    0.382199      800   risk                                      \n",
       "4          5  Age in years_q    (26.0, 30.0]   140   0.17500    0.321429      800   risk                                      \n",
       "3          5  Age in years_q    (36.0, 44.2]   140   0.17500    0.285714      800   risk                                      \n",
       "1          5  Age in years_q    (30.0, 36.0]   169   0.21125    0.266272      800   risk                                      \n",
       "2          5  Age in years_q    (44.2, 75.0]   160   0.20000    0.243750      800   risk                                      "
      ]
     },
     "execution_count": 13,
     "metadata": {},
     "output_type": "execute_result"
    }
   ],
   "source": [
    "#Taux moyen par tranche de chaque variable\n",
    "#la target doit etre numérique\n",
    "df_stats = functions_ml.summary_table(df, cols_list = new_qualitative_vars , target= target)\n",
    "df_stats.head()"
   ]
  },
  {
   "cell_type": "code",
   "execution_count": 14,
   "metadata": {
    "colab": {
     "base_uri": "https://localhost:8080/"
    },
    "executionInfo": {
     "elapsed": 5598,
     "status": "ok",
     "timestamp": 1615644649457,
     "user": {
      "displayName": "Grumberg Alex",
      "photoUrl": "",
      "userId": "07563321383937549063"
     },
     "user_tz": -60
    },
    "id": "_W1ubwKRaf1c",
    "outputId": "bf567b0d-086c-4de6-9825-52528ddd5acc"
   },
   "outputs": [
    {
     "name": "stdout",
     "output_type": "stream",
     "text": [
      "   target                                           variable      VC      TS     CHI2  p_value\n",
      "15   risk                Status of existing checking account  0.3282  0.2494  86.1855   0.0000\n",
      "0    risk                                     Credit history  0.2316  0.1637  42.8947   0.0000\n",
      "21   risk                                Duration in month_q  0.2143  0.1516  36.7522   0.0000\n",
      "14   risk                              Savings account/bonds  0.1856  0.1312  27.5471   0.0000\n",
      "1    risk                                            Housing  0.1369  0.1151  14.9832   0.0006\n",
      "12   risk                                            Purpose  0.1815  0.1048  26.3576   0.0018\n",
      "7    risk                            Other installment plans  0.1199  0.1008  11.4974   0.0032\n",
      "11   risk                                           Property  0.1312  0.0997  13.7772   0.0032\n",
      "9    risk                           Present employment since  0.1401  0.0991  15.7093   0.0034\n",
      "19   risk                                    Credit amount_q  0.1304  0.0922  13.5989   0.0087\n",
      "8    risk                            Personal status and sex  0.1210  0.0919  11.7118   0.0084\n",
      "17   risk                                     foreign worker  0.0829  0.0829   5.4944   0.0191\n",
      "6    risk                         Other debtors / guarantors  0.0942  0.0793   7.1060   0.0286\n",
      "20   risk                                     Age in years_q  0.1109  0.0784   9.8433   0.0432\n",
      "2    risk  Installment rate in percentage of disposable i...  0.0802  0.0610   5.1484   0.1612\n",
      "22   risk                                       Evaluation_q  0.0670  0.0474   3.5902   0.4643\n",
      "10   risk                            Present residence since  0.0603  0.0458   2.9073   0.4061\n",
      "18   risk                                               year  0.0618  0.0437   3.0564   0.5484\n",
      "3    risk                                                Job  0.0543  0.0413   2.3604   0.5011\n",
      "4    risk            Number of existing credits at this bank  0.0498  0.0379   1.9853   0.5755\n",
      "16   risk                                          Téléphone  0.0305  0.0305   0.7464   0.3876\n",
      "13   risk                                            RGPD KO  0.0285  0.0216   0.6475   0.8855\n",
      "5    risk  Number of people being liable to provide maint...  0.0191  0.0191   0.2918   0.5890\n"
     ]
    }
   ],
   "source": [
    "#V de Cramer et T de Tschuprow\n",
    "df_vc =  functions_ml.features_ordering(df , feature_names = new_qualitative_vars , target = target)\n",
    "print(df_vc)"
   ]
  },
  {
   "cell_type": "code",
   "execution_count": 15,
   "metadata": {
    "id": "Qtf8pGmOZt_O"
   },
   "outputs": [],
   "source": [
    "#Rapprochement des 2 tables et export dans Excel avec un petit formatage\n",
    "df_stats2 = df_vc.merge(df_stats, on='variable', how='outer')\n",
    "\n",
    "df_stats2 = df_stats2.rename(columns={  'pct_target':'% risk'\n",
    "                                      , 'pct_freq'  :'% obs'\n",
    "                                      , 'freq'      : 'nb obs'\n",
    "                                      })\n",
    "f_stats2 =  df_stats2.sort_values(['p_value','TS','variable'], ascending=[True,False,True])\n",
    "\n",
    "df_stats2.style.format('{0: .0f}',subset=['nb_rows']).\\\n",
    "    background_gradient(subset=['TS','% risk'], cmap='BuGn').\\\n",
    "    to_excel(rep_intermed + 'stats_VC_TS_par_variable.xlsx', engine='openpyxl'\n",
    "             , index = False\n",
    "             , freeze_panes = ((1,0))\n",
    "             , float_format=\"%.2f\"  #on perd la valeur mais c'est bien arrondi\n",
    "             #, na_rep = '*' #default ''\n",
    "             ) "
   ]
  },
  {
   "cell_type": "code",
   "execution_count": 16,
   "metadata": {},
   "outputs": [],
   "source": [
    "df_stats2.style.format('{0: .0f}',subset=['nb_rows']).\\\n",
    "    background_gradient(subset=['TS','% risk'], cmap='BuGn').\\\n",
    "    to_excel(rep_intermed + 'stats_VC_TS_par_variable.xlsx', engine='openpyxl'\n",
    "             , index = False\n",
    "             , freeze_panes = ((1,0))\n",
    "             , float_format=\"%.2f\"  #on perd la valeur mais c'est bien arrondi\n",
    "             #, na_rep = '*' #default ''\n",
    "             ) "
   ]
  },
  {
   "cell_type": "markdown",
   "metadata": {
    "id": "UZmsorycVTZz"
   },
   "source": [
    "On regroupe les modalités à partir du fichier Excel à l'aide de la fonction **create_new_categ_var**"
   ]
  },
  {
   "cell_type": "markdown",
   "metadata": {},
   "source": [
    "\"\"\"\n",
    " à rajouter\n",
    "\"\"\"\n"
   ]
  },
  {
   "cell_type": "markdown",
   "metadata": {
    "id": "TI5pyVJ0z3JX"
   },
   "source": [
    "on recalcule les stats de VC/TS/proba à partir de ces nouveaux recodages pour les intégrer dans le rapport."
   ]
  },
  {
   "cell_type": "markdown",
   "metadata": {
    "id": "9VzYYC0gUsIy"
   },
   "source": [
    "# Analyse de la stabilité des variables\n",
    "\n",
    "- si une variable est instable, alors il y a de grands risques qu'elle perturbe rapidement le fonctionnement du modèle en production\n",
    "\n",
    "- **sur l'échantillon Train seulement**"
   ]
  },
  {
   "cell_type": "code",
   "execution_count": 17,
   "metadata": {
    "colab": {
     "base_uri": "https://localhost:8080/"
    },
    "executionInfo": {
     "elapsed": 6124,
     "status": "ok",
     "timestamp": 1615644649995,
     "user": {
      "displayName": "Grumberg Alex",
      "photoUrl": "",
      "userId": "07563321383937549063"
     },
     "user_tz": -60
    },
    "id": "2vYEpUrSUsPP",
    "outputId": "aac2fe8d-ebad-4ae7-c51f-a382f6c90746"
   },
   "outputs": [
    {
     "name": "stdout",
     "output_type": "stream",
     "text": [
      "   target                                           variable      VC      TS      CHI2  p_value\n",
      "13   year                                            RGPD KO  0.5787  0.5386  803.7915   0.0000\n",
      "18   year                                    Credit amount_q  0.0925  0.0925   27.3641   0.0376\n",
      "2    year  Installment rate in percentage of disposable i...  0.0791  0.0736   14.9982   0.2415\n",
      "20   year                                Duration in month_q  0.0757  0.0757   18.3264   0.3051\n",
      "17   year                                     foreign worker  0.0774  0.0547    4.7886   0.3097\n",
      "14   year                              Savings account/bonds  0.0717  0.0717   16.4354   0.4230\n",
      "19   year                                     Age in years_q  0.0681  0.0681   14.8395   0.5364\n",
      "11   year                                           Property  0.0668  0.0621   10.6947   0.5552\n",
      "9    year                           Present employment since  0.0648  0.0648   13.4311   0.6410\n",
      "0    year                                     Credit history  0.0646  0.0646   13.3578   0.6464\n",
      "5    year  Number of people being liable to provide maint...  0.0552  0.0390    2.4378   0.6558\n",
      "15   year                Status of existing checking account  0.0628  0.0584    9.4559   0.6636\n",
      "1    year                                            Housing  0.0565  0.0475    5.1060   0.7462\n",
      "16   year                                          Téléphone  0.0477  0.0337    1.8169   0.7694\n",
      "21   year                                       Evaluation_q  0.0598  0.0598   11.4519   0.7808\n",
      "4    year            Number of existing credits at this bank  0.0574  0.0535    7.9209   0.7913\n",
      "10   year                            Present residence since  0.0558  0.0520    7.4806   0.8243\n",
      "8    year                            Personal status and sex  0.0514  0.0478    6.3355   0.8982\n",
      "3    year                                                Job  0.0466  0.0434    5.2203   0.9502\n",
      "7    year                            Other installment plans  0.0396  0.0333    2.5117   0.9612\n",
      "6    year                         Other debtors / guarantors  0.0385  0.0324    2.3702   0.9675\n",
      "12   year                                            Purpose  0.0826  0.0674   21.8071   0.9700\n"
     ]
    }
   ],
   "source": [
    "# toujours le même principe sauf que cette fois-ci c'est la variable \"month\" qui passe en target\n",
    "df_stability =  functions_ml.features_ordering(df\n",
    "                                           , feature_names = new_qualitative_vars\n",
    "                                           , target = 'year')\n",
    "df_stability = df_stability.sort_values('p_value')\n",
    "print(df_stability)"
   ]
  },
  {
   "cell_type": "code",
   "execution_count": 18,
   "metadata": {
    "colab": {
     "base_uri": "https://localhost:8080/"
    },
    "executionInfo": {
     "elapsed": 6117,
     "status": "ok",
     "timestamp": 1615644649996,
     "user": {
      "displayName": "Grumberg Alex",
      "photoUrl": "",
      "userId": "07563321383937549063"
     },
     "user_tz": -60
    },
    "id": "gnhy44INaMsD",
    "outputId": "af9742d3-9417-40f9-b9c1-38cf51be0a83"
   },
   "outputs": [
    {
     "name": "stdout",
     "output_type": "stream",
     "text": [
      "--------------------------------------------\n",
      "variable : RGPD KO\n",
      "--------------------------------------------\n",
      "RGPD KO     2010     2011     2012  2013  2014\n",
      "    1.0 0.348684 0.278481 0.290909   0.0   0.0\n",
      "    2.0 0.322368 0.379747 0.363636   0.0   0.0\n",
      "    3.0 0.328947 0.341772 0.345455   0.0   0.0\n",
      "   VIDE 0.000000 0.000000 0.000000   1.0   1.0\n",
      "\n",
      "--------------------------------------------\n",
      "variable : Credit amount_q\n",
      "--------------------------------------------\n",
      "  Credit amount_q     2010     2011     2012     2013     2014\n",
      " (1275.0, 1924.0] 0.223684 0.139241 0.218182 0.196319 0.216049\n",
      " (1924.0, 2915.2] 0.203947 0.177215 0.260606 0.202454 0.148148\n",
      "(249.999, 1275.0] 0.190789 0.265823 0.218182 0.177914 0.160494\n",
      " (2915.2, 4843.2] 0.138158 0.234177 0.163636 0.208589 0.253086\n",
      "(4843.2, 18424.0] 0.243421 0.183544 0.139394 0.214724 0.222222\n",
      "\n",
      "--------------------------------------------\n",
      "variable : Installment rate in percentage of disposable income\n",
      "--------------------------------------------\n",
      " Installment rate in percentage of disposable income     2010     2011     2012     2013     2014\n",
      "                                                   1 0.111842 0.202532 0.084848 0.147239 0.123457\n",
      "                                                   2 0.217105 0.227848 0.260606 0.226994 0.228395\n",
      "                                                   3 0.151316 0.120253 0.193939 0.153374 0.191358\n",
      "                                                   4 0.519737 0.449367 0.460606 0.472393 0.456790\n",
      "\n",
      "--------------------------------------------\n",
      "variable : Duration in month_q\n",
      "--------------------------------------------\n",
      "Duration in month_q     2010     2011     2012     2013     2014\n",
      "       (12.0, 15.0] 0.046053 0.069620 0.060606 0.085890 0.080247\n",
      "       (15.0, 24.0] 0.282895 0.297468 0.387879 0.355828 0.382716\n",
      "       (24.0, 30.0] 0.039474 0.063291 0.036364 0.067485 0.067901\n",
      "      (3.999, 12.0] 0.401316 0.386076 0.369697 0.306748 0.271605\n",
      "       (30.0, 72.0] 0.230263 0.183544 0.145455 0.184049 0.197531\n",
      "\n",
      "--------------------------------------------\n",
      "variable : foreign worker\n",
      "--------------------------------------------\n",
      "foreign worker     2010     2011     2012     2013     2014\n",
      "            no 0.046053 0.050633 0.024242 0.018405 0.055556\n",
      "           yes 0.953947 0.949367 0.975758 0.981595 0.944444\n",
      "\n"
     ]
    }
   ],
   "source": [
    "for c in df_stability['variable'][:5]:\n",
    "    print(\"--------------------------------------------\")\n",
    "    print('variable : ' + c )\n",
    "    print(\"--------------------------------------------\")\n",
    "    df_temp = pd.crosstab(df[c], df['year'], normalize='columns').reset_index()\n",
    "    print(df_temp.to_string(index=False))\n",
    "    print()"
   ]
  },
  {
   "cell_type": "markdown",
   "metadata": {},
   "source": [
    "Good news========> Variables stables"
   ]
  },
  {
   "cell_type": "markdown",
   "metadata": {
    "id": "Y0wCWUDBUsUj"
   },
   "source": [
    "# Corrélation entre les variables explicatives\n",
    "\n",
    "- **sur l'échantillon Train seulement**"
   ]
  },
  {
   "cell_type": "code",
   "execution_count": 19,
   "metadata": {
    "id": "eBrwyZg6UsaU"
   },
   "outputs": [],
   "source": [
    "#   une fonction features_correlation qui aura deux paramètres 'df' et 'feature_names'\n",
    "#   elle calculera la corrélation au sens du VC et TS pour chaque couple possible parmi les variables définies dans la liste 'feature_names'\n",
    "#   elle renverra un dataframe trié avec les couples les + corrélés en premier"
   ]
  },
  {
   "cell_type": "markdown",
   "metadata": {
    "id": "AcqO4D9sV-vo"
   },
   "source": [
    "## Tableau des couples de variables qualitatives les + corrélées"
   ]
  },
  {
   "cell_type": "code",
   "execution_count": 20,
   "metadata": {
    "colab": {
     "base_uri": "https://localhost:8080/",
     "height": 850
    },
    "executionInfo": {
     "elapsed": 8839,
     "status": "ok",
     "timestamp": 1615644652731,
     "user": {
      "displayName": "Grumberg Alex",
      "photoUrl": "",
      "userId": "07563321383937549063"
     },
     "user_tz": -60
    },
    "id": "gPkbbiZkV-27",
    "outputId": "e8646897-566f-4faf-813d-065a6f8e0510"
   },
   "outputs": [],
   "source": [
    "df_corr =pd.concat(\n",
    "          [   \n",
    "              functions_ml.features_ordering(\n",
    "                                              df,\n",
    "                                              feature_names = new_qualitative_vars,\n",
    "                                              target = new_qualitative_var\n",
    "                                            ) \n",
    "             for new_qualitative_var in new_qualitative_vars\n",
    "          ]\n",
    "                 )\n",
    "df_corr = df_corr.sort_values(['p_value','TS'], ascending=[True, False]).\\\n",
    "          rename( columns= {'target' : 'variable_1', 'variable' : 'variable_2'})\n",
    "#df_corr[:25]"
   ]
  },
  {
   "cell_type": "markdown",
   "metadata": {
    "id": "n5Sm45y-X1vQ"
   },
   "source": [
    "## Heatmap des corrélations"
   ]
  },
  {
   "cell_type": "markdown",
   "metadata": {
    "id": "OLapvFB0Ywox"
   },
   "source": [
    "On passe du df des couples de variables à une matrice via la fonction **utils_ml.correlation_list_to_matrix**"
   ]
  },
  {
   "cell_type": "code",
   "execution_count": 21,
   "metadata": {
    "colab": {
     "base_uri": "https://localhost:8080/",
     "height": 1000
    },
    "executionInfo": {
     "elapsed": 9667,
     "status": "ok",
     "timestamp": 1615644653569,
     "user": {
      "displayName": "Grumberg Alex",
      "photoUrl": "",
      "userId": "07563321383937549063"
     },
     "user_tz": -60
    },
    "id": "JbM-b8WPYxUn",
    "outputId": "82cea3c7-ad5f-4fa7-f3bc-98fb2179daa5"
   },
   "outputs": [
    {
     "data": {
      "text/html": [
       "<div>\n",
       "<style scoped>\n",
       "    .dataframe tbody tr th:only-of-type {\n",
       "        vertical-align: middle;\n",
       "    }\n",
       "\n",
       "    .dataframe tbody tr th {\n",
       "        vertical-align: top;\n",
       "    }\n",
       "\n",
       "    .dataframe thead th {\n",
       "        text-align: right;\n",
       "    }\n",
       "</style>\n",
       "<table border=\"1\" class=\"dataframe\">\n",
       "  <thead>\n",
       "    <tr style=\"text-align: right;\">\n",
       "      <th></th>\n",
       "      <th>Age in years_q</th>\n",
       "      <th>Credit amount_q</th>\n",
       "      <th>Credit history</th>\n",
       "      <th>Duration in month_q</th>\n",
       "      <th>Evaluation_q</th>\n",
       "      <th>Housing</th>\n",
       "      <th>Installment rate in percentage of disposable income</th>\n",
       "      <th>Job</th>\n",
       "      <th>Number of existing credits at this bank</th>\n",
       "      <th>Number of people being liable to provide maintenance for</th>\n",
       "      <th>Other debtors / guarantors</th>\n",
       "      <th>Other installment plans</th>\n",
       "      <th>Personal status and sex</th>\n",
       "      <th>Present employment since</th>\n",
       "      <th>Present residence since</th>\n",
       "      <th>Property</th>\n",
       "      <th>Purpose</th>\n",
       "      <th>RGPD KO</th>\n",
       "      <th>Savings account/bonds</th>\n",
       "      <th>Status of existing checking account</th>\n",
       "      <th>Téléphone</th>\n",
       "      <th>foreign worker</th>\n",
       "      <th>year</th>\n",
       "    </tr>\n",
       "  </thead>\n",
       "  <tbody>\n",
       "    <tr>\n",
       "      <th>Age in years_q</th>\n",
       "      <td>1.0000</td>\n",
       "      <td>0.0869</td>\n",
       "      <td>0.1215</td>\n",
       "      <td>0.0743</td>\n",
       "      <td>0.0604</td>\n",
       "      <td>0.2214</td>\n",
       "      <td>0.0830</td>\n",
       "      <td>0.1149</td>\n",
       "      <td>0.1099</td>\n",
       "      <td>0.2024</td>\n",
       "      <td>0.0410</td>\n",
       "      <td>0.0488</td>\n",
       "      <td>0.1920</td>\n",
       "      <td>0.2252</td>\n",
       "      <td>0.1725</td>\n",
       "      <td>0.1282</td>\n",
       "      <td>0.1075</td>\n",
       "      <td>0.0571</td>\n",
       "      <td>0.0843</td>\n",
       "      <td>0.0951</td>\n",
       "      <td>0.1384</td>\n",
       "      <td>0.0165</td>\n",
       "      <td>0.0681</td>\n",
       "    </tr>\n",
       "    <tr>\n",
       "      <th>Credit amount_q</th>\n",
       "      <td>0.0869</td>\n",
       "      <td>1.0000</td>\n",
       "      <td>0.0886</td>\n",
       "      <td>0.3364</td>\n",
       "      <td>0.0481</td>\n",
       "      <td>0.1324</td>\n",
       "      <td>0.1713</td>\n",
       "      <td>0.1985</td>\n",
       "      <td>0.0696</td>\n",
       "      <td>0.0657</td>\n",
       "      <td>0.0694</td>\n",
       "      <td>0.0585</td>\n",
       "      <td>0.1343</td>\n",
       "      <td>0.0880</td>\n",
       "      <td>0.0790</td>\n",
       "      <td>0.1992</td>\n",
       "      <td>0.1864</td>\n",
       "      <td>0.0629</td>\n",
       "      <td>0.0805</td>\n",
       "      <td>0.0879</td>\n",
       "      <td>0.1704</td>\n",
       "      <td>0.0641</td>\n",
       "      <td>0.0925</td>\n",
       "    </tr>\n",
       "    <tr>\n",
       "      <th>Credit history</th>\n",
       "      <td>0.1215</td>\n",
       "      <td>0.0886</td>\n",
       "      <td>1.0000</td>\n",
       "      <td>0.1251</td>\n",
       "      <td>0.0779</td>\n",
       "      <td>0.0942</td>\n",
       "      <td>0.0613</td>\n",
       "      <td>0.0600</td>\n",
       "      <td>0.3511</td>\n",
       "      <td>0.0854</td>\n",
       "      <td>0.0845</td>\n",
       "      <td>0.1692</td>\n",
       "      <td>0.0909</td>\n",
       "      <td>0.1089</td>\n",
       "      <td>0.0836</td>\n",
       "      <td>0.0888</td>\n",
       "      <td>0.1424</td>\n",
       "      <td>0.0737</td>\n",
       "      <td>0.0785</td>\n",
       "      <td>0.1303</td>\n",
       "      <td>0.0510</td>\n",
       "      <td>0.0530</td>\n",
       "      <td>0.0646</td>\n",
       "    </tr>\n",
       "    <tr>\n",
       "      <th>Duration in month_q</th>\n",
       "      <td>0.0743</td>\n",
       "      <td>0.3364</td>\n",
       "      <td>0.1251</td>\n",
       "      <td>1.0000</td>\n",
       "      <td>0.0598</td>\n",
       "      <td>0.1168</td>\n",
       "      <td>0.0954</td>\n",
       "      <td>0.1452</td>\n",
       "      <td>0.0885</td>\n",
       "      <td>0.0651</td>\n",
       "      <td>0.0531</td>\n",
       "      <td>0.0784</td>\n",
       "      <td>0.0847</td>\n",
       "      <td>0.0769</td>\n",
       "      <td>0.0751</td>\n",
       "      <td>0.1786</td>\n",
       "      <td>0.1401</td>\n",
       "      <td>0.0721</td>\n",
       "      <td>0.0746</td>\n",
       "      <td>0.0779</td>\n",
       "      <td>0.1281</td>\n",
       "      <td>0.1127</td>\n",
       "      <td>0.0757</td>\n",
       "    </tr>\n",
       "    <tr>\n",
       "      <th>Evaluation_q</th>\n",
       "      <td>0.0604</td>\n",
       "      <td>0.0481</td>\n",
       "      <td>0.0779</td>\n",
       "      <td>0.0598</td>\n",
       "      <td>1.0000</td>\n",
       "      <td>0.0520</td>\n",
       "      <td>0.0632</td>\n",
       "      <td>0.0611</td>\n",
       "      <td>0.0669</td>\n",
       "      <td>0.0214</td>\n",
       "      <td>0.0600</td>\n",
       "      <td>0.0418</td>\n",
       "      <td>0.0710</td>\n",
       "      <td>0.0550</td>\n",
       "      <td>0.0707</td>\n",
       "      <td>0.0348</td>\n",
       "      <td>0.0743</td>\n",
       "      <td>0.0610</td>\n",
       "      <td>0.0778</td>\n",
       "      <td>0.0730</td>\n",
       "      <td>0.0945</td>\n",
       "      <td>0.0444</td>\n",
       "      <td>0.0598</td>\n",
       "    </tr>\n",
       "    <tr>\n",
       "      <th>Housing</th>\n",
       "      <td>0.2214</td>\n",
       "      <td>0.1324</td>\n",
       "      <td>0.0942</td>\n",
       "      <td>0.1168</td>\n",
       "      <td>0.0520</td>\n",
       "      <td>1.0000</td>\n",
       "      <td>0.0570</td>\n",
       "      <td>0.1281</td>\n",
       "      <td>0.0848</td>\n",
       "      <td>0.0995</td>\n",
       "      <td>0.0624</td>\n",
       "      <td>0.0906</td>\n",
       "      <td>0.1866</td>\n",
       "      <td>0.1345</td>\n",
       "      <td>0.2338</td>\n",
       "      <td>0.5013</td>\n",
       "      <td>0.1410</td>\n",
       "      <td>0.0276</td>\n",
       "      <td>0.0488</td>\n",
       "      <td>0.1018</td>\n",
       "      <td>0.1181</td>\n",
       "      <td>0.0611</td>\n",
       "      <td>0.0475</td>\n",
       "    </tr>\n",
       "    <tr>\n",
       "      <th>Installment rate in percentage of disposable income</th>\n",
       "      <td>0.0830</td>\n",
       "      <td>0.1713</td>\n",
       "      <td>0.0613</td>\n",
       "      <td>0.0954</td>\n",
       "      <td>0.0632</td>\n",
       "      <td>0.0570</td>\n",
       "      <td>1.0000</td>\n",
       "      <td>0.0927</td>\n",
       "      <td>0.0515</td>\n",
       "      <td>0.0764</td>\n",
       "      <td>0.0264</td>\n",
       "      <td>0.0391</td>\n",
       "      <td>0.1020</td>\n",
       "      <td>0.1061</td>\n",
       "      <td>0.0676</td>\n",
       "      <td>0.0483</td>\n",
       "      <td>0.1098</td>\n",
       "      <td>0.0661</td>\n",
       "      <td>0.0651</td>\n",
       "      <td>0.0577</td>\n",
       "      <td>0.0442</td>\n",
       "      <td>0.1038</td>\n",
       "      <td>0.0736</td>\n",
       "    </tr>\n",
       "    <tr>\n",
       "      <th>Job</th>\n",
       "      <td>0.1149</td>\n",
       "      <td>0.1985</td>\n",
       "      <td>0.0600</td>\n",
       "      <td>0.1452</td>\n",
       "      <td>0.0611</td>\n",
       "      <td>0.1281</td>\n",
       "      <td>0.0927</td>\n",
       "      <td>1.0000</td>\n",
       "      <td>0.0694</td>\n",
       "      <td>0.1166</td>\n",
       "      <td>0.0823</td>\n",
       "      <td>0.0753</td>\n",
       "      <td>0.0852</td>\n",
       "      <td>0.2767</td>\n",
       "      <td>0.0472</td>\n",
       "      <td>0.2062</td>\n",
       "      <td>0.1547</td>\n",
       "      <td>0.0524</td>\n",
       "      <td>0.0630</td>\n",
       "      <td>0.0681</td>\n",
       "      <td>0.3234</td>\n",
       "      <td>0.0877</td>\n",
       "      <td>0.0434</td>\n",
       "    </tr>\n",
       "    <tr>\n",
       "      <th>Number of existing credits at this bank</th>\n",
       "      <td>0.1099</td>\n",
       "      <td>0.0696</td>\n",
       "      <td>0.3511</td>\n",
       "      <td>0.0885</td>\n",
       "      <td>0.0669</td>\n",
       "      <td>0.0848</td>\n",
       "      <td>0.0515</td>\n",
       "      <td>0.0694</td>\n",
       "      <td>1.0000</td>\n",
       "      <td>0.0841</td>\n",
       "      <td>0.0291</td>\n",
       "      <td>0.0213</td>\n",
       "      <td>0.0840</td>\n",
       "      <td>0.1004</td>\n",
       "      <td>0.0822</td>\n",
       "      <td>0.0790</td>\n",
       "      <td>0.0833</td>\n",
       "      <td>0.0679</td>\n",
       "      <td>0.0854</td>\n",
       "      <td>0.0799</td>\n",
       "      <td>0.0732</td>\n",
       "      <td>0.0176</td>\n",
       "      <td>0.0535</td>\n",
       "    </tr>\n",
       "    <tr>\n",
       "      <th>Number of people being liable to provide maintenance for</th>\n",
       "      <td>0.2024</td>\n",
       "      <td>0.0657</td>\n",
       "      <td>0.0854</td>\n",
       "      <td>0.0651</td>\n",
       "      <td>0.0214</td>\n",
       "      <td>0.0995</td>\n",
       "      <td>0.0764</td>\n",
       "      <td>0.1166</td>\n",
       "      <td>0.0841</td>\n",
       "      <td>1.0000</td>\n",
       "      <td>0.0432</td>\n",
       "      <td>0.0597</td>\n",
       "      <td>0.2269</td>\n",
       "      <td>0.0596</td>\n",
       "      <td>0.0347</td>\n",
       "      <td>0.0693</td>\n",
       "      <td>0.0892</td>\n",
       "      <td>0.0361</td>\n",
       "      <td>0.0481</td>\n",
       "      <td>0.0796</td>\n",
       "      <td>0.0264</td>\n",
       "      <td>0.0708</td>\n",
       "      <td>0.0390</td>\n",
       "    </tr>\n",
       "    <tr>\n",
       "      <th>Other debtors / guarantors</th>\n",
       "      <td>0.0410</td>\n",
       "      <td>0.0694</td>\n",
       "      <td>0.0845</td>\n",
       "      <td>0.0531</td>\n",
       "      <td>0.0600</td>\n",
       "      <td>0.0624</td>\n",
       "      <td>0.0264</td>\n",
       "      <td>0.0823</td>\n",
       "      <td>0.0291</td>\n",
       "      <td>0.0432</td>\n",
       "      <td>1.0000</td>\n",
       "      <td>0.0689</td>\n",
       "      <td>0.0461</td>\n",
       "      <td>0.0719</td>\n",
       "      <td>0.0424</td>\n",
       "      <td>0.1274</td>\n",
       "      <td>0.1216</td>\n",
       "      <td>0.0479</td>\n",
       "      <td>0.0910</td>\n",
       "      <td>0.1057</td>\n",
       "      <td>0.0664</td>\n",
       "      <td>0.1066</td>\n",
       "      <td>0.0324</td>\n",
       "    </tr>\n",
       "    <tr>\n",
       "      <th>Other installment plans</th>\n",
       "      <td>0.0488</td>\n",
       "      <td>0.0585</td>\n",
       "      <td>0.1692</td>\n",
       "      <td>0.0784</td>\n",
       "      <td>0.0418</td>\n",
       "      <td>0.0906</td>\n",
       "      <td>0.0391</td>\n",
       "      <td>0.0753</td>\n",
       "      <td>0.0213</td>\n",
       "      <td>0.0597</td>\n",
       "      <td>0.0689</td>\n",
       "      <td>1.0000</td>\n",
       "      <td>0.0543</td>\n",
       "      <td>0.0647</td>\n",
       "      <td>0.0575</td>\n",
       "      <td>0.0863</td>\n",
       "      <td>0.1081</td>\n",
       "      <td>0.0561</td>\n",
       "      <td>0.0382</td>\n",
       "      <td>0.0528</td>\n",
       "      <td>0.0146</td>\n",
       "      <td>0.0354</td>\n",
       "      <td>0.0333</td>\n",
       "    </tr>\n",
       "    <tr>\n",
       "      <th>Personal status and sex</th>\n",
       "      <td>0.1920</td>\n",
       "      <td>0.1343</td>\n",
       "      <td>0.0909</td>\n",
       "      <td>0.0847</td>\n",
       "      <td>0.0710</td>\n",
       "      <td>0.1866</td>\n",
       "      <td>0.1020</td>\n",
       "      <td>0.0852</td>\n",
       "      <td>0.0840</td>\n",
       "      <td>0.2269</td>\n",
       "      <td>0.0461</td>\n",
       "      <td>0.0543</td>\n",
       "      <td>1.0000</td>\n",
       "      <td>0.1482</td>\n",
       "      <td>0.1207</td>\n",
       "      <td>0.1223</td>\n",
       "      <td>0.1263</td>\n",
       "      <td>0.0517</td>\n",
       "      <td>0.0616</td>\n",
       "      <td>0.0826</td>\n",
       "      <td>0.0476</td>\n",
       "      <td>0.0740</td>\n",
       "      <td>0.0478</td>\n",
       "    </tr>\n",
       "    <tr>\n",
       "      <th>Present employment since</th>\n",
       "      <td>0.2252</td>\n",
       "      <td>0.0880</td>\n",
       "      <td>0.1089</td>\n",
       "      <td>0.0769</td>\n",
       "      <td>0.0550</td>\n",
       "      <td>0.1345</td>\n",
       "      <td>0.1061</td>\n",
       "      <td>0.2767</td>\n",
       "      <td>0.1004</td>\n",
       "      <td>0.0596</td>\n",
       "      <td>0.0719</td>\n",
       "      <td>0.0647</td>\n",
       "      <td>0.1482</td>\n",
       "      <td>1.0000</td>\n",
       "      <td>0.2534</td>\n",
       "      <td>0.1383</td>\n",
       "      <td>0.1061</td>\n",
       "      <td>0.0538</td>\n",
       "      <td>0.0860</td>\n",
       "      <td>0.0843</td>\n",
       "      <td>0.1075</td>\n",
       "      <td>0.0549</td>\n",
       "      <td>0.0648</td>\n",
       "    </tr>\n",
       "    <tr>\n",
       "      <th>Present residence since</th>\n",
       "      <td>0.1725</td>\n",
       "      <td>0.0790</td>\n",
       "      <td>0.0836</td>\n",
       "      <td>0.0751</td>\n",
       "      <td>0.0707</td>\n",
       "      <td>0.2338</td>\n",
       "      <td>0.0676</td>\n",
       "      <td>0.0472</td>\n",
       "      <td>0.0822</td>\n",
       "      <td>0.0347</td>\n",
       "      <td>0.0424</td>\n",
       "      <td>0.0575</td>\n",
       "      <td>0.1207</td>\n",
       "      <td>0.2534</td>\n",
       "      <td>1.0000</td>\n",
       "      <td>0.1454</td>\n",
       "      <td>0.0962</td>\n",
       "      <td>0.0491</td>\n",
       "      <td>0.0741</td>\n",
       "      <td>0.1106</td>\n",
       "      <td>0.0776</td>\n",
       "      <td>0.0497</td>\n",
       "      <td>0.0520</td>\n",
       "    </tr>\n",
       "    <tr>\n",
       "      <th>Property</th>\n",
       "      <td>0.1282</td>\n",
       "      <td>0.1992</td>\n",
       "      <td>0.0888</td>\n",
       "      <td>0.1786</td>\n",
       "      <td>0.0348</td>\n",
       "      <td>0.5013</td>\n",
       "      <td>0.0483</td>\n",
       "      <td>0.2062</td>\n",
       "      <td>0.0790</td>\n",
       "      <td>0.0693</td>\n",
       "      <td>0.1274</td>\n",
       "      <td>0.0863</td>\n",
       "      <td>0.1223</td>\n",
       "      <td>0.1383</td>\n",
       "      <td>0.1454</td>\n",
       "      <td>1.0000</td>\n",
       "      <td>0.1615</td>\n",
       "      <td>0.0436</td>\n",
       "      <td>0.0859</td>\n",
       "      <td>0.0981</td>\n",
       "      <td>0.1676</td>\n",
       "      <td>0.1232</td>\n",
       "      <td>0.0621</td>\n",
       "    </tr>\n",
       "    <tr>\n",
       "      <th>Purpose</th>\n",
       "      <td>0.1075</td>\n",
       "      <td>0.1864</td>\n",
       "      <td>0.1424</td>\n",
       "      <td>0.1401</td>\n",
       "      <td>0.0743</td>\n",
       "      <td>0.1410</td>\n",
       "      <td>0.1098</td>\n",
       "      <td>0.1547</td>\n",
       "      <td>0.0833</td>\n",
       "      <td>0.0892</td>\n",
       "      <td>0.1216</td>\n",
       "      <td>0.1081</td>\n",
       "      <td>0.1263</td>\n",
       "      <td>0.1061</td>\n",
       "      <td>0.0962</td>\n",
       "      <td>0.1615</td>\n",
       "      <td>1.0000</td>\n",
       "      <td>0.0571</td>\n",
       "      <td>0.0986</td>\n",
       "      <td>0.1210</td>\n",
       "      <td>0.1244</td>\n",
       "      <td>0.1004</td>\n",
       "      <td>0.0674</td>\n",
       "    </tr>\n",
       "    <tr>\n",
       "      <th>RGPD KO</th>\n",
       "      <td>0.0571</td>\n",
       "      <td>0.0629</td>\n",
       "      <td>0.0737</td>\n",
       "      <td>0.0721</td>\n",
       "      <td>0.0610</td>\n",
       "      <td>0.0276</td>\n",
       "      <td>0.0661</td>\n",
       "      <td>0.0524</td>\n",
       "      <td>0.0679</td>\n",
       "      <td>0.0361</td>\n",
       "      <td>0.0479</td>\n",
       "      <td>0.0561</td>\n",
       "      <td>0.0517</td>\n",
       "      <td>0.0538</td>\n",
       "      <td>0.0491</td>\n",
       "      <td>0.0436</td>\n",
       "      <td>0.0571</td>\n",
       "      <td>1.0000</td>\n",
       "      <td>0.0536</td>\n",
       "      <td>0.0554</td>\n",
       "      <td>0.0139</td>\n",
       "      <td>0.0249</td>\n",
       "      <td>0.5386</td>\n",
       "    </tr>\n",
       "    <tr>\n",
       "      <th>Savings account/bonds</th>\n",
       "      <td>0.0843</td>\n",
       "      <td>0.0805</td>\n",
       "      <td>0.0785</td>\n",
       "      <td>0.0746</td>\n",
       "      <td>0.0778</td>\n",
       "      <td>0.0488</td>\n",
       "      <td>0.0651</td>\n",
       "      <td>0.0630</td>\n",
       "      <td>0.0854</td>\n",
       "      <td>0.0481</td>\n",
       "      <td>0.0910</td>\n",
       "      <td>0.0382</td>\n",
       "      <td>0.0616</td>\n",
       "      <td>0.0860</td>\n",
       "      <td>0.0741</td>\n",
       "      <td>0.0859</td>\n",
       "      <td>0.0986</td>\n",
       "      <td>0.0536</td>\n",
       "      <td>1.0000</td>\n",
       "      <td>0.1567</td>\n",
       "      <td>0.0600</td>\n",
       "      <td>0.0388</td>\n",
       "      <td>0.0717</td>\n",
       "    </tr>\n",
       "    <tr>\n",
       "      <th>Status of existing checking account</th>\n",
       "      <td>0.0951</td>\n",
       "      <td>0.0879</td>\n",
       "      <td>0.1303</td>\n",
       "      <td>0.0779</td>\n",
       "      <td>0.0730</td>\n",
       "      <td>0.1018</td>\n",
       "      <td>0.0577</td>\n",
       "      <td>0.0681</td>\n",
       "      <td>0.0799</td>\n",
       "      <td>0.0796</td>\n",
       "      <td>0.1057</td>\n",
       "      <td>0.0528</td>\n",
       "      <td>0.0826</td>\n",
       "      <td>0.0843</td>\n",
       "      <td>0.1106</td>\n",
       "      <td>0.0981</td>\n",
       "      <td>0.1210</td>\n",
       "      <td>0.0554</td>\n",
       "      <td>0.1567</td>\n",
       "      <td>1.0000</td>\n",
       "      <td>0.0662</td>\n",
       "      <td>0.0703</td>\n",
       "      <td>0.0584</td>\n",
       "    </tr>\n",
       "    <tr>\n",
       "      <th>Téléphone</th>\n",
       "      <td>0.1384</td>\n",
       "      <td>0.1704</td>\n",
       "      <td>0.0510</td>\n",
       "      <td>0.1281</td>\n",
       "      <td>0.0945</td>\n",
       "      <td>0.1181</td>\n",
       "      <td>0.0442</td>\n",
       "      <td>0.3234</td>\n",
       "      <td>0.0732</td>\n",
       "      <td>0.0264</td>\n",
       "      <td>0.0664</td>\n",
       "      <td>0.0146</td>\n",
       "      <td>0.0476</td>\n",
       "      <td>0.1075</td>\n",
       "      <td>0.0776</td>\n",
       "      <td>0.1676</td>\n",
       "      <td>0.1244</td>\n",
       "      <td>0.0139</td>\n",
       "      <td>0.0600</td>\n",
       "      <td>0.0662</td>\n",
       "      <td>1.0000</td>\n",
       "      <td>0.0931</td>\n",
       "      <td>0.0337</td>\n",
       "    </tr>\n",
       "    <tr>\n",
       "      <th>foreign worker</th>\n",
       "      <td>0.0165</td>\n",
       "      <td>0.0641</td>\n",
       "      <td>0.0530</td>\n",
       "      <td>0.1127</td>\n",
       "      <td>0.0444</td>\n",
       "      <td>0.0611</td>\n",
       "      <td>0.1038</td>\n",
       "      <td>0.0877</td>\n",
       "      <td>0.0176</td>\n",
       "      <td>0.0708</td>\n",
       "      <td>0.1066</td>\n",
       "      <td>0.0354</td>\n",
       "      <td>0.0740</td>\n",
       "      <td>0.0549</td>\n",
       "      <td>0.0497</td>\n",
       "      <td>0.1232</td>\n",
       "      <td>0.1004</td>\n",
       "      <td>0.0249</td>\n",
       "      <td>0.0388</td>\n",
       "      <td>0.0703</td>\n",
       "      <td>0.0931</td>\n",
       "      <td>1.0000</td>\n",
       "      <td>0.0547</td>\n",
       "    </tr>\n",
       "    <tr>\n",
       "      <th>year</th>\n",
       "      <td>0.0681</td>\n",
       "      <td>0.0925</td>\n",
       "      <td>0.0646</td>\n",
       "      <td>0.0757</td>\n",
       "      <td>0.0598</td>\n",
       "      <td>0.0475</td>\n",
       "      <td>0.0736</td>\n",
       "      <td>0.0434</td>\n",
       "      <td>0.0535</td>\n",
       "      <td>0.0390</td>\n",
       "      <td>0.0324</td>\n",
       "      <td>0.0333</td>\n",
       "      <td>0.0478</td>\n",
       "      <td>0.0648</td>\n",
       "      <td>0.0520</td>\n",
       "      <td>0.0621</td>\n",
       "      <td>0.0674</td>\n",
       "      <td>0.5386</td>\n",
       "      <td>0.0717</td>\n",
       "      <td>0.0584</td>\n",
       "      <td>0.0337</td>\n",
       "      <td>0.0547</td>\n",
       "      <td>1.0000</td>\n",
       "    </tr>\n",
       "  </tbody>\n",
       "</table>\n",
       "</div>"
      ],
      "text/plain": [
       "                                                    Age in years_q  Credit amount_q  Credit history  Duration in month_q  Evaluation_q  Housing  Installment rate in percentage of disposable income     Job  Number of existing credits at this bank  Number of people being liable to provide maintenance for  Other debtors / guarantors  Other installment plans  Personal status and sex  Present employment since  Present residence since  Property  Purpose  RGPD KO  Savings account/bonds  Status of existing checking account  Téléphone  foreign worker    year\n",
       "Age in years_q                                              1.0000           0.0869          0.1215               0.0743        0.0604   0.2214                                             0.0830    0.1149                                   0.1099                                             0.2024                             0.0410                   0.0488                   0.1920                    0.2252                   0.1725    0.1282   0.1075   0.0571                 0.0843                               0.0951     0.1384          0.0165  0.0681\n",
       "Credit amount_q                                             0.0869           1.0000          0.0886               0.3364        0.0481   0.1324                                             0.1713    0.1985                                   0.0696                                             0.0657                             0.0694                   0.0585                   0.1343                    0.0880                   0.0790    0.1992   0.1864   0.0629                 0.0805                               0.0879     0.1704          0.0641  0.0925\n",
       "Credit history                                              0.1215           0.0886          1.0000               0.1251        0.0779   0.0942                                             0.0613    0.0600                                   0.3511                                             0.0854                             0.0845                   0.1692                   0.0909                    0.1089                   0.0836    0.0888   0.1424   0.0737                 0.0785                               0.1303     0.0510          0.0530  0.0646\n",
       "Duration in month_q                                         0.0743           0.3364          0.1251               1.0000        0.0598   0.1168                                             0.0954    0.1452                                   0.0885                                             0.0651                             0.0531                   0.0784                   0.0847                    0.0769                   0.0751    0.1786   0.1401   0.0721                 0.0746                               0.0779     0.1281          0.1127  0.0757\n",
       "Evaluation_q                                                0.0604           0.0481          0.0779               0.0598        1.0000   0.0520                                             0.0632    0.0611                                   0.0669                                             0.0214                             0.0600                   0.0418                   0.0710                    0.0550                   0.0707    0.0348   0.0743   0.0610                 0.0778                               0.0730     0.0945          0.0444  0.0598\n",
       "Housing                                                     0.2214           0.1324          0.0942               0.1168        0.0520   1.0000                                             0.0570    0.1281                                   0.0848                                             0.0995                             0.0624                   0.0906                   0.1866                    0.1345                   0.2338    0.5013   0.1410   0.0276                 0.0488                               0.1018     0.1181          0.0611  0.0475\n",
       "Installment rate in percentage of disposable in...          0.0830           0.1713          0.0613               0.0954        0.0632   0.0570                                             1.0000    0.0927                                   0.0515                                             0.0764                             0.0264                   0.0391                   0.1020                    0.1061                   0.0676    0.0483   0.1098   0.0661                 0.0651                               0.0577     0.0442          0.1038  0.0736\n",
       "Job                                                         0.1149           0.1985          0.0600               0.1452        0.0611   0.1281                                             0.0927    1.0000                                   0.0694                                             0.1166                             0.0823                   0.0753                   0.0852                    0.2767                   0.0472    0.2062   0.1547   0.0524                 0.0630                               0.0681     0.3234          0.0877  0.0434\n",
       "Number of existing credits at this bank                     0.1099           0.0696          0.3511               0.0885        0.0669   0.0848                                             0.0515    0.0694                                   1.0000                                             0.0841                             0.0291                   0.0213                   0.0840                    0.1004                   0.0822    0.0790   0.0833   0.0679                 0.0854                               0.0799     0.0732          0.0176  0.0535\n",
       "Number of people being liable to provide mainte...          0.2024           0.0657          0.0854               0.0651        0.0214   0.0995                                             0.0764    0.1166                                   0.0841                                             1.0000                             0.0432                   0.0597                   0.2269                    0.0596                   0.0347    0.0693   0.0892   0.0361                 0.0481                               0.0796     0.0264          0.0708  0.0390\n",
       "Other debtors / guarantors                                  0.0410           0.0694          0.0845               0.0531        0.0600   0.0624                                             0.0264    0.0823                                   0.0291                                             0.0432                             1.0000                   0.0689                   0.0461                    0.0719                   0.0424    0.1274   0.1216   0.0479                 0.0910                               0.1057     0.0664          0.1066  0.0324\n",
       "Other installment plans                                     0.0488           0.0585          0.1692               0.0784        0.0418   0.0906                                             0.0391    0.0753                                   0.0213                                             0.0597                             0.0689                   1.0000                   0.0543                    0.0647                   0.0575    0.0863   0.1081   0.0561                 0.0382                               0.0528     0.0146          0.0354  0.0333\n",
       "Personal status and sex                                     0.1920           0.1343          0.0909               0.0847        0.0710   0.1866                                             0.1020    0.0852                                   0.0840                                             0.2269                             0.0461                   0.0543                   1.0000                    0.1482                   0.1207    0.1223   0.1263   0.0517                 0.0616                               0.0826     0.0476          0.0740  0.0478\n",
       "Present employment since                                    0.2252           0.0880          0.1089               0.0769        0.0550   0.1345                                             0.1061    0.2767                                   0.1004                                             0.0596                             0.0719                   0.0647                   0.1482                    1.0000                   0.2534    0.1383   0.1061   0.0538                 0.0860                               0.0843     0.1075          0.0549  0.0648\n",
       "Present residence since                                     0.1725           0.0790          0.0836               0.0751        0.0707   0.2338                                             0.0676    0.0472                                   0.0822                                             0.0347                             0.0424                   0.0575                   0.1207                    0.2534                   1.0000    0.1454   0.0962   0.0491                 0.0741                               0.1106     0.0776          0.0497  0.0520\n",
       "Property                                                    0.1282           0.1992          0.0888               0.1786        0.0348   0.5013                                             0.0483    0.2062                                   0.0790                                             0.0693                             0.1274                   0.0863                   0.1223                    0.1383                   0.1454    1.0000   0.1615   0.0436                 0.0859                               0.0981     0.1676          0.1232  0.0621\n",
       "Purpose                                                     0.1075           0.1864          0.1424               0.1401        0.0743   0.1410                                             0.1098    0.1547                                   0.0833                                             0.0892                             0.1216                   0.1081                   0.1263                    0.1061                   0.0962    0.1615   1.0000   0.0571                 0.0986                               0.1210     0.1244          0.1004  0.0674\n",
       "RGPD KO                                                     0.0571           0.0629          0.0737               0.0721        0.0610   0.0276                                             0.0661    0.0524                                   0.0679                                             0.0361                             0.0479                   0.0561                   0.0517                    0.0538                   0.0491    0.0436   0.0571   1.0000                 0.0536                               0.0554     0.0139          0.0249  0.5386\n",
       "Savings account/bonds                                       0.0843           0.0805          0.0785               0.0746        0.0778   0.0488                                             0.0651    0.0630                                   0.0854                                             0.0481                             0.0910                   0.0382                   0.0616                    0.0860                   0.0741    0.0859   0.0986   0.0536                 1.0000                               0.1567     0.0600          0.0388  0.0717\n",
       "Status of existing checking account                         0.0951           0.0879          0.1303               0.0779        0.0730   0.1018                                             0.0577    0.0681                                   0.0799                                             0.0796                             0.1057                   0.0528                   0.0826                    0.0843                   0.1106    0.0981   0.1210   0.0554                 0.1567                               1.0000     0.0662          0.0703  0.0584\n",
       "Téléphone                                                   0.1384           0.1704          0.0510               0.1281        0.0945   0.1181                                             0.0442    0.3234                                   0.0732                                             0.0264                             0.0664                   0.0146                   0.0476                    0.1075                   0.0776    0.1676   0.1244   0.0139                 0.0600                               0.0662     1.0000          0.0931  0.0337\n",
       "foreign worker                                              0.0165           0.0641          0.0530               0.1127        0.0444   0.0611                                             0.1038    0.0877                                   0.0176                                             0.0708                             0.1066                   0.0354                   0.0740                    0.0549                   0.0497    0.1232   0.1004   0.0249                 0.0388                               0.0703     0.0931          1.0000  0.0547\n",
       "year                                                        0.0681           0.0925          0.0646               0.0757        0.0598   0.0475                                             0.0736    0.0434                                   0.0535                                             0.0390                             0.0324                   0.0333                   0.0478                    0.0648                   0.0520    0.0621   0.0674   0.5386                 0.0717                               0.0584     0.0337          0.0547  1.0000"
      ]
     },
     "execution_count": 21,
     "metadata": {},
     "output_type": "execute_result"
    }
   ],
   "source": [
    "#utils_ml.\n",
    "df_corr_matrix = functions_ml.correlation_list_to_matrix(df_corr, criterion = 'TS')\n",
    "df_corr_matrix"
   ]
  },
  {
   "cell_type": "code",
   "execution_count": 22,
   "metadata": {
    "colab": {
     "base_uri": "https://localhost:8080/",
     "height": 584
    },
    "executionInfo": {
     "elapsed": 10781,
     "status": "ok",
     "timestamp": 1615644654690,
     "user": {
      "displayName": "Grumberg Alex",
      "photoUrl": "",
      "userId": "07563321383937549063"
     },
     "user_tz": -60
    },
    "id": "jbb4txo0X12w",
    "outputId": "2263e715-b8ee-4af6-a160-d89d81fc4c99"
   },
   "outputs": [],
   "source": [
    "# visualisation de la correlation"
   ]
  },
  {
   "cell_type": "code",
   "execution_count": 23,
   "metadata": {
    "colab": {
     "base_uri": "https://localhost:8080/",
     "height": 728
    },
    "executionInfo": {
     "elapsed": 12031,
     "status": "ok",
     "timestamp": 1615644655944,
     "user": {
      "displayName": "Grumberg Alex",
      "photoUrl": "",
      "userId": "07563321383937549063"
     },
     "user_tz": -60
    },
    "id": "t_WrHoYiZEx-",
    "outputId": "5cd158fa-f426-4601-e273-5ea1d129d68f"
   },
   "outputs": [
    {
     "data": {
      "image/png": "[encoded data removed]",
      "text/plain": [
       "<Figure size 1152x720 with 2 Axes>"
      ]
     },
     "metadata": {
      "needs_background": "light"
     },
     "output_type": "display_data"
    }
   ],
   "source": [
    "functions_ml.customize_corr(df_corr_matrix)"
   ]
  },
  {
   "cell_type": "markdown",
   "metadata": {
    "id": "NZ7_-T5SV-9v"
   },
   "source": [
    "## Analyse détaillée\n",
    "\n",
    "- Si les variables corrélées sont quasiement identiques on n'en choisit qu'une.\n",
    "\n",
    "- sinon si le temps le permet, il faut constituer des variables composite à partir des variables trop corrélés\n",
    "\n",
    "- on peut regarder les tableaux croisés ci-dessous\n",
    "\n",
    "- un arbre de décision peut être appliqué pour aller + vite."
   ]
  },
  {
   "cell_type": "code",
   "execution_count": 24,
   "metadata": {
    "colab": {
     "base_uri": "https://localhost:8080/",
     "height": 171
    },
    "executionInfo": {
     "elapsed": 12028,
     "status": "ok",
     "timestamp": 1615644655945,
     "user": {
      "displayName": "Grumberg Alex",
      "photoUrl": "",
      "userId": "07563321383937549063"
     },
     "user_tz": -60
    },
    "id": "mtqKoh_JmqpD",
    "outputId": "39370599-5049-49a2-f7ca-ba2dbcde04e4"
   },
   "outputs": [
    {
     "data": {
      "text/html": [
       "<div>\n",
       "<style scoped>\n",
       "    .dataframe tbody tr th:only-of-type {\n",
       "        vertical-align: middle;\n",
       "    }\n",
       "\n",
       "    .dataframe tbody tr th {\n",
       "        vertical-align: top;\n",
       "    }\n",
       "\n",
       "    .dataframe thead th {\n",
       "        text-align: right;\n",
       "    }\n",
       "</style>\n",
       "<table border=\"1\" class=\"dataframe\">\n",
       "  <thead>\n",
       "    <tr style=\"text-align: right;\">\n",
       "      <th>Property</th>\n",
       "      <th>car or other</th>\n",
       "      <th>real estate</th>\n",
       "      <th>savings agreement/life insurance</th>\n",
       "      <th>unknown / no property</th>\n",
       "    </tr>\n",
       "    <tr>\n",
       "      <th>Housing</th>\n",
       "      <th></th>\n",
       "      <th></th>\n",
       "      <th></th>\n",
       "      <th></th>\n",
       "    </tr>\n",
       "  </thead>\n",
       "  <tbody>\n",
       "    <tr>\n",
       "      <th>for free</th>\n",
       "      <td>NaN</td>\n",
       "      <td>1.0</td>\n",
       "      <td>2.0</td>\n",
       "      <td>86.0</td>\n",
       "    </tr>\n",
       "    <tr>\n",
       "      <th>own</th>\n",
       "      <td>219.0</td>\n",
       "      <td>185.0</td>\n",
       "      <td>140.0</td>\n",
       "      <td>27.0</td>\n",
       "    </tr>\n",
       "    <tr>\n",
       "      <th>rent</th>\n",
       "      <td>45.0</td>\n",
       "      <td>46.0</td>\n",
       "      <td>35.0</td>\n",
       "      <td>14.0</td>\n",
       "    </tr>\n",
       "  </tbody>\n",
       "</table>\n",
       "</div>"
      ],
      "text/plain": [
       "Property  car or other  real estate  savings agreement/life insurance  unknown / no property\n",
       "Housing                                                                                     \n",
       "for free           NaN          1.0                               2.0                   86.0\n",
       "own              219.0        185.0                             140.0                   27.0\n",
       "rent              45.0         46.0                              35.0                   14.0"
      ]
     },
     "execution_count": 24,
     "metadata": {},
     "output_type": "execute_result"
    }
   ],
   "source": [
    "pd.pivot_table(df, values='risk', index=['Housing'],\n",
    "                    columns=['Property'], aggfunc='size')"
   ]
  },
  {
   "cell_type": "code",
   "execution_count": 25,
   "metadata": {
    "colab": {
     "base_uri": "https://localhost:8080/",
     "height": 171
    },
    "executionInfo": {
     "elapsed": 12024,
     "status": "ok",
     "timestamp": 1615644655946,
     "user": {
      "displayName": "Grumberg Alex",
      "photoUrl": "",
      "userId": "07563321383937549063"
     },
     "user_tz": -60
    },
    "id": "rlhhM48bV_Fi",
    "outputId": "80eb4d78-cdb5-4e02-c4b0-871787cb2453"
   },
   "outputs": [
    {
     "data": {
      "text/html": [
       "<div>\n",
       "<style scoped>\n",
       "    .dataframe tbody tr th:only-of-type {\n",
       "        vertical-align: middle;\n",
       "    }\n",
       "\n",
       "    .dataframe tbody tr th {\n",
       "        vertical-align: top;\n",
       "    }\n",
       "\n",
       "    .dataframe thead th {\n",
       "        text-align: right;\n",
       "    }\n",
       "</style>\n",
       "<table border=\"1\" class=\"dataframe\">\n",
       "  <thead>\n",
       "    <tr style=\"text-align: right;\">\n",
       "      <th>Property</th>\n",
       "      <th>car or other</th>\n",
       "      <th>real estate</th>\n",
       "      <th>savings agreement/life insurance</th>\n",
       "      <th>unknown / no property</th>\n",
       "    </tr>\n",
       "    <tr>\n",
       "      <th>Housing</th>\n",
       "      <th></th>\n",
       "      <th></th>\n",
       "      <th></th>\n",
       "      <th></th>\n",
       "    </tr>\n",
       "  </thead>\n",
       "  <tbody>\n",
       "    <tr>\n",
       "      <th>for free</th>\n",
       "      <td>NaN</td>\n",
       "      <td>1.000000</td>\n",
       "      <td>0.500000</td>\n",
       "      <td>0.395349</td>\n",
       "    </tr>\n",
       "    <tr>\n",
       "      <th>own</th>\n",
       "      <td>0.264840</td>\n",
       "      <td>0.216216</td>\n",
       "      <td>0.278571</td>\n",
       "      <td>0.481481</td>\n",
       "    </tr>\n",
       "    <tr>\n",
       "      <th>rent</th>\n",
       "      <td>0.488889</td>\n",
       "      <td>0.304348</td>\n",
       "      <td>0.371429</td>\n",
       "      <td>0.500000</td>\n",
       "    </tr>\n",
       "  </tbody>\n",
       "</table>\n",
       "</div>"
      ],
      "text/plain": [
       "Property  car or other  real estate  savings agreement/life insurance  unknown / no property\n",
       "Housing                                                                                     \n",
       "for free           NaN     1.000000                          0.500000               0.395349\n",
       "own           0.264840     0.216216                          0.278571               0.481481\n",
       "rent          0.488889     0.304348                          0.371429               0.500000"
      ]
     },
     "execution_count": 25,
     "metadata": {},
     "output_type": "execute_result"
    }
   ],
   "source": [
    "pd.pivot_table(df, values='risk', index=['Housing'],\n",
    "                    columns=['Property'], aggfunc=np.mean)"
   ]
  },
  {
   "cell_type": "code",
   "execution_count": 26,
   "metadata": {},
   "outputs": [],
   "source": [
    "df[\"property_housing\"] = df.Housing + \"_\" + df.Property"
   ]
  },
  {
   "cell_type": "markdown",
   "metadata": {
    "id": "duucZDQPNRWL",
    "tags": []
   },
   "source": [
    "# Création des échantillons\n",
    "\n",
    "- on sépare les données dans plusieurs tables\n",
    "- on supprime les variables inutiles"
   ]
  },
  {
   "cell_type": "markdown",
   "metadata": {
    "id": "7oHI_-U2Hk1n"
   },
   "source": [
    "## Définition des listes de variables suite à l'analyse dans Excel"
   ]
  },
  {
   "cell_type": "code",
   "execution_count": 27,
   "metadata": {
    "id": "w_2oHb5WHlF1"
   },
   "outputs": [],
   "source": [
    "numeric_vars = ['Credit amount', 'Age in years', 'Duration in month', 'Evaluation']\n",
    "other_vars = ['customer_id', 'month']\n",
    "target = 'risk'\n",
    "vars_to_delete = ['subsidiary']\n",
    "qualitative_vars = list(df.columns.difference(numeric_vars + other_vars + vars_to_delete + [ target ]))\n",
    "\n",
    "#futures variables numériques recodées en qualitative en rajoutant un suffix '_q'\n",
    "new_qualitative_vars = qualitative_vars + [c + '_q' for c in numeric_vars]"
   ]
  },
  {
   "cell_type": "markdown",
   "metadata": {
    "id": "g8CY_3S2HuS1"
   },
   "source": [
    "On aurait pu utiliser l'identification basée sur le type de chaque variable dans le dataframe... Mais en général, il faut retoucher manuellement ces listes."
   ]
  },
  {
   "cell_type": "markdown",
   "metadata": {
    "id": "VDJxuC2nIjh3"
   },
   "source": [
    "## Création du fichier de train et de test (validation)"
   ]
  },
  {
   "cell_type": "code",
   "execution_count": 28,
   "metadata": {
    "colab": {
     "base_uri": "https://localhost:8080/"
    },
    "executionInfo": {
     "elapsed": 4430,
     "status": "ok",
     "timestamp": 1615644648225,
     "user": {
      "displayName": "Grumberg Alex",
      "photoUrl": "",
      "userId": "07563321383937549063"
     },
     "user_tz": -60
    },
    "id": "ACwcC7pKIjoI",
    "outputId": "affee0df-bcd9-4aa3-cbe3-a0d5df17dbe3"
   },
   "outputs": [
    {
     "name": "stdout",
     "output_type": "stream",
     "text": [
      "nb obs: 800   nb obs in train: 560   nb obs in test: 240\n"
     ]
    }
   ],
   "source": [
    "df_train = df.sample(frac=0.7,random_state=2022) #random state is a seed value\n",
    "df_test = df.drop(df_train.index).sample(frac=1.0,random_state=7) #il est préférable de trier la table pour certains algos\n",
    "\n",
    "print(\"nb obs:\", len(df), \"  nb obs in train:\", len(df_train), \"  nb obs in test:\", len(df_test))\n",
    "\n",
    "#l'instruction génèrera une erreur en cas d'incohérence\n",
    "assert len(df) == (len(df_train) + len(df_test))"
   ]
  },
  {
   "cell_type": "code",
   "execution_count": 29,
   "metadata": {
    "colab": {
     "base_uri": "https://localhost:8080/"
    },
    "executionInfo": {
     "elapsed": 4722,
     "status": "ok",
     "timestamp": 1615644648526,
     "user": {
      "displayName": "Grumberg Alex",
      "photoUrl": "",
      "userId": "07563321383937549063"
     },
     "user_tz": -60
    },
    "id": "Um4q7-eTIzhn",
    "outputId": "e4c23caa-c999-415c-9a67-78578216f232"
   },
   "outputs": [
    {
     "name": "stdout",
     "output_type": "stream",
     "text": [
      "         target                                           variable      VC      TS     CHI2  p_value\n",
      "5   sample_flag                                       Evaluation_q  0.1277  0.0903  13.0357   0.0111\n",
      "7   sample_flag  Installment rate in percentage of disposable i...  0.1121  0.0852  10.0510   0.0181\n",
      "17  sample_flag                                            Purpose  0.1504  0.0868  18.0993   0.0340\n",
      "3   sample_flag                                     Credit history  0.0999  0.0707   7.9905   0.0919\n",
      "11  sample_flag                         Other debtors / guarantors  0.0723  0.0608   4.1873   0.1232\n",
      "21  sample_flag                                          Téléphone  0.0483  0.0483   1.8696   0.1715\n",
      "24  sample_flag                                               year  0.0877  0.0620   6.1556   0.1878\n",
      "1   sample_flag                                     Age in years_q  0.0863  0.0610   5.9560   0.2025\n",
      "19  sample_flag                              Savings account/bonds  0.0854  0.0604   5.8285   0.2123\n",
      "16  sample_flag                                           Property  0.0668  0.0507   3.5661   0.3123\n",
      "18  sample_flag                                            RGPD KO  0.0639  0.0486   3.2661   0.3524\n",
      "0   sample_flag                                               risk  0.0291  0.0291   0.6774   0.4105\n",
      "23  sample_flag                                   property_housing  0.1109  0.0624   9.8407   0.4546\n",
      "8   sample_flag                                                Job  0.0571  0.0434   2.6054   0.4565\n",
      "2   sample_flag                                    Credit amount_q  0.0674  0.0477   3.6394   0.4570\n",
      "22  sample_flag                                     foreign worker  0.0254  0.0254   0.5178   0.4718\n",
      "20  sample_flag                Status of existing checking account  0.0558  0.0424   2.4942   0.4763\n",
      "15  sample_flag                            Present residence since  0.0531  0.0403   2.2536   0.5215\n",
      "4   sample_flag                                Duration in month_q  0.0617  0.0436   3.0471   0.5500\n",
      "6   sample_flag                                            Housing  0.0326  0.0274   0.8514   0.6533\n",
      "12  sample_flag                            Other installment plans  0.0254  0.0214   0.5176   0.7720\n",
      "10  sample_flag  Number of people being liable to provide maint...  0.0092  0.0092   0.0677   0.7947\n",
      "9   sample_flag            Number of existing credits at this bank  0.0285  0.0217   0.6496   0.8850\n",
      "13  sample_flag                            Personal status and sex  0.0283  0.0215   0.6407   0.8871\n",
      "14  sample_flag                           Present employment since  0.0254  0.0179   0.5153   0.9720\n"
     ]
    }
   ],
   "source": [
    "# On crée une variable temporaire 'sample_flag' qui sera notre variable explicative\n",
    "df_train['sample_flag'] = 'train'\n",
    "df_test['sample_flag'] = 'test'\n",
    "# On concatène les deux df\n",
    "df_train_test = pd.concat([df_train, df_test])\n",
    "\n",
    "#On regarde quelles variables de notre dataframe ont un lien fort avec cette variable sample_flag.\n",
    "#Si l'échantillonnage est bien aléatoire, les T de Tschuprow ou les V de Cramer seront faibles.\n",
    "df_sample_validation =  functions_ml.features_ordering( df_train_test.fillna('')\n",
    "                                          , feature_names = [target ] + qualitative_vars\n",
    "                                          , target = 'sample_flag')\n",
    "\n",
    "#sur ces données german_credit, comme nous avons peu de lignes,\n",
    "#nous allons trier le tableau par p_value  sinon on dévrait les trier par Vc OU ts  car tous tests devient statistiquement significatifs\n",
    "#pour voir les variables qui ont les distributions les + différentes entre le train et le test\n",
    "df_sample_validation =  df_sample_validation.sort_values('p_value')\n",
    "print(df_sample_validation)"
   ]
  },
  {
   "cell_type": "markdown",
   "metadata": {
    "id": "qY5LmrQhJZzF"
   },
   "source": [
    "Export de ces résulats dans Excel, puis ils iront en annexe du rapport."
   ]
  },
  {
   "cell_type": "code",
   "execution_count": 30,
   "metadata": {
    "id": "kYf3_5IqJZ7F"
   },
   "outputs": [],
   "source": [
    "df_sample_validation.to_excel(rep_intermed + 'validation_echantillon_vc_et_ts.xlsx', index=False)"
   ]
  },
  {
   "cell_type": "markdown",
   "metadata": {
    "id": "XYA6JdxUJaBe"
   },
   "source": [
    "En cas de valeurs fortes de VC ou TS ou de proba faible\n",
    "- on peut afficher les tableaux de fréquences sur les variables les + problématiques pour se rassurer ou comprendre le potentiel problème\n",
    "- on pourrait utiliser un échantillon stratifié sur ses variables  pour éviter les problèmes."
   ]
  },
  {
   "cell_type": "code",
   "execution_count": 31,
   "metadata": {
    "colab": {
     "base_uri": "https://localhost:8080/"
    },
    "executionInfo": {
     "elapsed": 4711,
     "status": "ok",
     "timestamp": 1615644648527,
     "user": {
      "displayName": "Grumberg Alex",
      "photoUrl": "",
      "userId": "07563321383937549063"
     },
     "user_tz": -60
    },
    "id": "BkC0r37OJaHf",
    "outputId": "91446f78-e6e7-4ffd-ef05-20ac1ad5ac75"
   },
   "outputs": [
    {
     "name": "stdout",
     "output_type": "stream",
     "text": [
      "--------------------------------------------\n",
      "variable : Evaluation_q\n",
      "--------------------------------------------\n",
      "  Evaluation_q     test    train\n",
      "(24.68, 45.66] 0.125000 0.232143\n",
      "(45.66, 62.78] 0.237500 0.183929\n",
      "(5.199, 24.68] 0.204167 0.198214\n",
      "(62.78, 81.82] 0.216667 0.192857\n",
      " (81.82, 99.9] 0.216667 0.192857\n",
      "\n",
      "--------------------------------------------\n",
      "variable : Installment rate in percentage of disposable income\n",
      "--------------------------------------------\n",
      " Installment rate in percentage of disposable income     test    train\n",
      "                                                   1 0.087500 0.153571\n",
      "                                                   2 0.258333 0.221429\n",
      "                                                   3 0.133333 0.175000\n",
      "                                                   4 0.520833 0.450000\n",
      "\n",
      "--------------------------------------------\n",
      "variable : Purpose\n",
      "--------------------------------------------\n",
      "            Purpose     test    train\n",
      "           business 0.054167 0.105357\n",
      "          car (new) 0.266667 0.225000\n",
      "         car (used) 0.075000 0.114286\n",
      "domestic appliances 0.008333 0.016071\n",
      "          education 0.070833 0.035714\n",
      "furniture/equipment 0.195833 0.171429\n",
      "             others 0.016667 0.012500\n",
      "   radio/télévision 0.291667 0.283929\n",
      "            repairs 0.020833 0.021429\n",
      "         retraining 0.000000 0.014286\n",
      "\n",
      "--------------------------------------------\n",
      "variable : Credit history\n",
      "--------------------------------------------\n",
      "                          Credit history     test    train\n",
      " all credits at this bank paid back duly 0.020833 0.058929\n",
      "                        critical account 0.333333 0.282143\n",
      "                     delay in paying off 0.070833 0.091071\n",
      "existing credits paid back duly till now 0.545833 0.528571\n",
      "                        no credits taken 0.029167 0.039286\n",
      "\n",
      "--------------------------------------------\n",
      "variable : Other debtors / guarantors\n",
      "--------------------------------------------\n",
      "Other debtors / guarantors     test    train\n",
      "              co-applicant 0.070833 0.037500\n",
      "                 guarantor 0.054167 0.060714\n",
      "                      none 0.875000 0.901786\n",
      "\n"
     ]
    }
   ],
   "source": [
    "# Par exemple, ici sur les 5 variables avec les + grand TS\n",
    "for c in df_sample_validation['variable'][:5]:\n",
    "    print(\"--------------------------------------------\")\n",
    "    print('variable : ' + c )\n",
    "    print(\"--------------------------------------------\")\n",
    "    df_temp = pd.crosstab(df_train_test[c], df_train_test['sample_flag'], normalize='columns').reset_index()\n",
    "    \n",
    "    print(df_temp.to_string(index=False))\n",
    "    print()"
   ]
  },
  {
   "cell_type": "markdown",
   "metadata": {
    "id": "ocUJDlRDJaNe"
   },
   "source": [
    "Petits nettoyages"
   ]
  },
  {
   "cell_type": "code",
   "execution_count": 32,
   "metadata": {
    "id": "9qhb4y3IJaTG"
   },
   "outputs": [
    {
     "name": "stderr",
     "output_type": "stream",
     "text": [
      "C:\\Users\\U32118~1\\AppData\\Local\\Temp/ipykernel_3696/2579686374.py:7: FutureWarning: In a future version of pandas all arguments of DataFrame.drop except for the argument 'labels' will be keyword-only\n",
      "  df_test.drop('sample_flag', 1, inplace=True)\n"
     ]
    }
   ],
   "source": [
    "#suppression de la table (mais en fait elle n'est pas supprimée de la mémoire tout de suite ...\n",
    "#il faut attendre le garbage collector)\n",
    "del df_train_test\n",
    "\n",
    "#suppression de la variable désormais inutile\n",
    "df_train.drop('sample_flag', axis=1, inplace=True)\n",
    "df_test.drop('sample_flag', 1, inplace=True)"
   ]
  },
  {
   "cell_type": "markdown",
   "metadata": {
    "id": "FKWadhBma-UF"
   },
   "source": [
    "Pour l'exemple on ne prend que 2 des 3 premières variables les + importantes au sens du Chi2\n",
    "\n"
   ]
  },
  {
   "cell_type": "markdown",
   "metadata": {
    "id": "TPwCDyo2iOvZ"
   },
   "source": []
  },
  {
   "cell_type": "markdown",
   "metadata": {
    "id": "1S5N-8O5Izam"
   },
   "source": [
    "## Validation de l'échantillonage\n",
    "\n",
    "- On s'assure que l'échantillon de train et de test se ressemblent.\n",
    "\n",
    "- Ensuite on ne devra plus utiliser l'échantillon de test sauf à la toute dernière étape où l'on hésite entre quelques modèles par exemple."
   ]
  },
  {
   "cell_type": "code",
   "execution_count": 33,
   "metadata": {
    "colab": {
     "base_uri": "https://localhost:8080/"
    },
    "executionInfo": {
     "elapsed": 4722,
     "status": "ok",
     "timestamp": 1615644648526,
     "user": {
      "displayName": "Grumberg Alex",
      "photoUrl": "",
      "userId": "07563321383937549063"
     },
     "user_tz": -60
    },
    "id": "Um4q7-eTIzhn",
    "outputId": "e4c23caa-c999-415c-9a67-78578216f232"
   },
   "outputs": [
    {
     "name": "stdout",
     "output_type": "stream",
     "text": [
      "         target                                           variable      VC      TS     CHI2  p_value\n",
      "5   sample_flag                                       Evaluation_q  0.1277  0.0903  13.0357   0.0111\n",
      "7   sample_flag  Installment rate in percentage of disposable i...  0.1121  0.0852  10.0510   0.0181\n",
      "17  sample_flag                                            Purpose  0.1504  0.0868  18.0993   0.0340\n",
      "3   sample_flag                                     Credit history  0.0999  0.0707   7.9905   0.0919\n",
      "11  sample_flag                         Other debtors / guarantors  0.0723  0.0608   4.1873   0.1232\n",
      "21  sample_flag                                          Téléphone  0.0483  0.0483   1.8696   0.1715\n",
      "24  sample_flag                                               year  0.0877  0.0620   6.1556   0.1878\n",
      "1   sample_flag                                     Age in years_q  0.0863  0.0610   5.9560   0.2025\n",
      "19  sample_flag                              Savings account/bonds  0.0854  0.0604   5.8285   0.2123\n",
      "16  sample_flag                                           Property  0.0668  0.0507   3.5661   0.3123\n",
      "18  sample_flag                                            RGPD KO  0.0639  0.0486   3.2661   0.3524\n",
      "0   sample_flag                                               risk  0.0291  0.0291   0.6774   0.4105\n",
      "23  sample_flag                                   property_housing  0.1109  0.0624   9.8407   0.4546\n",
      "8   sample_flag                                                Job  0.0571  0.0434   2.6054   0.4565\n",
      "2   sample_flag                                    Credit amount_q  0.0674  0.0477   3.6394   0.4570\n",
      "22  sample_flag                                     foreign worker  0.0254  0.0254   0.5178   0.4718\n",
      "20  sample_flag                Status of existing checking account  0.0558  0.0424   2.4942   0.4763\n",
      "15  sample_flag                            Present residence since  0.0531  0.0403   2.2536   0.5215\n",
      "4   sample_flag                                Duration in month_q  0.0617  0.0436   3.0471   0.5500\n",
      "6   sample_flag                                            Housing  0.0326  0.0274   0.8514   0.6533\n",
      "12  sample_flag                            Other installment plans  0.0254  0.0214   0.5176   0.7720\n",
      "10  sample_flag  Number of people being liable to provide maint...  0.0092  0.0092   0.0677   0.7947\n",
      "9   sample_flag            Number of existing credits at this bank  0.0285  0.0217   0.6496   0.8850\n",
      "13  sample_flag                            Personal status and sex  0.0283  0.0215   0.6407   0.8871\n",
      "14  sample_flag                           Present employment since  0.0254  0.0179   0.5153   0.9720\n"
     ]
    }
   ],
   "source": [
    "# On crée une variable temporaire 'sample_flag' qui sera notre variable explicative\n",
    "df_train['sample_flag'] = 'train'\n",
    "df_test['sample_flag'] = 'test'\n",
    "# On concatène les deux df\n",
    "df_train_test = pd.concat([df_train, df_test])\n",
    "\n",
    "#On regarde quelles variables de notre dataframe ont un lien fort avec cette variable sample_flag.\n",
    "#Si l'échantillonnage est bien aléatoire, les T de Tschuprow ou les V de Cramer seront faibles.\n",
    "df_sample_validation =  functions_ml.features_ordering( df_train_test.fillna('')\n",
    "                                          , feature_names = [target ] + qualitative_vars\n",
    "                                          , target = 'sample_flag')\n",
    "\n",
    "#sur ces données german_credit, comme nous avons peu de lignes,\n",
    "#nous allons trier le tableau par p_value  sinon on dévrait les trier par Vc OU ts  car tous tests devient statistiquement significatifs\n",
    "#pour voir les variables qui ont les distributions les + différentes entre le train et le test\n",
    "df_sample_validation =  df_sample_validation.sort_values('p_value')\n",
    "print(df_sample_validation)"
   ]
  },
  {
   "cell_type": "markdown",
   "metadata": {},
   "source": [
    "==========>Good news "
   ]
  },
  {
   "cell_type": "code",
   "execution_count": 34,
   "metadata": {},
   "outputs": [
    {
     "data": {
      "image/png": "[encoded data removed]",
      "text/plain": [
       "<IPython.core.display.Image object>"
      ]
     },
     "execution_count": 34,
     "metadata": {},
     "output_type": "execute_result"
    }
   ],
   "source": [
    "from IPython.display import Image\n",
    "Image(\"V_crammer.PNG\")"
   ]
  },
  {
   "cell_type": "markdown",
   "metadata": {
    "id": "qY5LmrQhJZzF"
   },
   "source": [
    "Export de ces résulats dans Excel, puis ils iront en annexe du rapport."
   ]
  },
  {
   "cell_type": "code",
   "execution_count": 35,
   "metadata": {
    "id": "kYf3_5IqJZ7F"
   },
   "outputs": [],
   "source": [
    "df_sample_validation.to_excel(rep_intermed + 'validation_echantillon_vc_et_ts.xlsx', index=False)"
   ]
  },
  {
   "cell_type": "markdown",
   "metadata": {
    "id": "XYA6JdxUJaBe"
   },
   "source": [
    "En cas de valeurs fortes de VC ou TS ou de proba faible\n",
    "- on peut afficher les tableaux de fréquences sur les variables les + problématiques pour se rassurer ou comprendre le potentiel problème\n",
    "- on pourrait utiliser un échantillon stratifié sur ses variables  pour éviter les problèmes."
   ]
  },
  {
   "cell_type": "code",
   "execution_count": 36,
   "metadata": {
    "colab": {
     "base_uri": "https://localhost:8080/"
    },
    "executionInfo": {
     "elapsed": 4711,
     "status": "ok",
     "timestamp": 1615644648527,
     "user": {
      "displayName": "Grumberg Alex",
      "photoUrl": "",
      "userId": "07563321383937549063"
     },
     "user_tz": -60
    },
    "id": "BkC0r37OJaHf",
    "outputId": "91446f78-e6e7-4ffd-ef05-20ac1ad5ac75"
   },
   "outputs": [
    {
     "name": "stdout",
     "output_type": "stream",
     "text": [
      "--------------------------------------------\n",
      "variable : Evaluation_q\n",
      "--------------------------------------------\n",
      "  Evaluation_q     test    train\n",
      "(24.68, 45.66] 0.125000 0.232143\n",
      "(45.66, 62.78] 0.237500 0.183929\n",
      "(5.199, 24.68] 0.204167 0.198214\n",
      "(62.78, 81.82] 0.216667 0.192857\n",
      " (81.82, 99.9] 0.216667 0.192857\n",
      "\n",
      "--------------------------------------------\n",
      "variable : Installment rate in percentage of disposable income\n",
      "--------------------------------------------\n",
      " Installment rate in percentage of disposable income     test    train\n",
      "                                                   1 0.087500 0.153571\n",
      "                                                   2 0.258333 0.221429\n",
      "                                                   3 0.133333 0.175000\n",
      "                                                   4 0.520833 0.450000\n",
      "\n",
      "--------------------------------------------\n",
      "variable : Purpose\n",
      "--------------------------------------------\n",
      "            Purpose     test    train\n",
      "           business 0.054167 0.105357\n",
      "          car (new) 0.266667 0.225000\n",
      "         car (used) 0.075000 0.114286\n",
      "domestic appliances 0.008333 0.016071\n",
      "          education 0.070833 0.035714\n",
      "furniture/equipment 0.195833 0.171429\n",
      "             others 0.016667 0.012500\n",
      "   radio/télévision 0.291667 0.283929\n",
      "            repairs 0.020833 0.021429\n",
      "         retraining 0.000000 0.014286\n",
      "\n",
      "--------------------------------------------\n",
      "variable : Credit history\n",
      "--------------------------------------------\n",
      "                          Credit history     test    train\n",
      " all credits at this bank paid back duly 0.020833 0.058929\n",
      "                        critical account 0.333333 0.282143\n",
      "                     delay in paying off 0.070833 0.091071\n",
      "existing credits paid back duly till now 0.545833 0.528571\n",
      "                        no credits taken 0.029167 0.039286\n",
      "\n",
      "--------------------------------------------\n",
      "variable : Other debtors / guarantors\n",
      "--------------------------------------------\n",
      "Other debtors / guarantors     test    train\n",
      "              co-applicant 0.070833 0.037500\n",
      "                 guarantor 0.054167 0.060714\n",
      "                      none 0.875000 0.901786\n",
      "\n"
     ]
    }
   ],
   "source": [
    "# Par exemple, ici sur les 5 variables avec les + grand TS\n",
    "for c in df_sample_validation['variable'][:5]:\n",
    "    print(\"--------------------------------------------\")\n",
    "    print('variable : ' + c )\n",
    "    print(\"--------------------------------------------\")\n",
    "    df_temp = pd.crosstab(df_train_test[c], df_train_test['sample_flag'], normalize='columns').reset_index()\n",
    "    \n",
    "    print(df_temp.to_string(index=False))\n",
    "    print()"
   ]
  },
  {
   "cell_type": "markdown",
   "metadata": {
    "id": "ocUJDlRDJaNe"
   },
   "source": [
    "Petits nettoyages"
   ]
  },
  {
   "cell_type": "code",
   "execution_count": 37,
   "metadata": {
    "id": "9qhb4y3IJaTG"
   },
   "outputs": [
    {
     "name": "stderr",
     "output_type": "stream",
     "text": [
      "C:\\Users\\U32118~1\\AppData\\Local\\Temp/ipykernel_3696/3574098127.py:7: FutureWarning: In a future version of pandas all arguments of DataFrame.drop except for the argument 'labels' will be keyword-only\n",
      "  df_test.drop('sample_flag', 1, inplace=True)\n"
     ]
    }
   ],
   "source": [
    "#suppression de la table (mais en fait elle n'est pas supprimée de la mémoire tout de suite ...\n",
    "#il faut attendre le garbage collector)\n",
    "del df_train_test\n",
    "\n",
    "#suppression de la variable désormais inutile\n",
    "df_train.drop('sample_flag', axis=1,inplace=True)\n",
    "df_test.drop('sample_flag', 1, inplace=True)"
   ]
  },
  {
   "cell_type": "markdown",
   "metadata": {},
   "source": [
    "# MODELISATION"
   ]
  },
  {
   "cell_type": "markdown",
   "metadata": {},
   "source": [
    "## Calcul du modèle logit avec statsmodels\n",
    "\n",
    "- utilisation d'une formule de spécification du modèle ressemblant à R\n",
    "- indiquer les variables catégorielles entre C()\n",
    "- statsmodels prend la 1ère modalité comme référence\n",
    "- statsmodels n'a pas l'air d'aimer les variables avec des espaces donc on les remplace par un '_'"
   ]
  },
  {
   "cell_type": "code",
   "execution_count": 38,
   "metadata": {
    "id": "A6WBaXbXTujS",
    "tags": []
   },
   "outputs": [],
   "source": [
    "# statsmodels n'a pas l'air d'aimer les variables avec des espaces donc on les remplace par un '_'\n",
    "df_train.columns = [ c.replace(' ','_').replace('/','_') for c in df_train.columns ]\n",
    "df_test.columns = [ c.replace(' ','_').replace('/','_') for c in df_test.columns ]"
   ]
  },
  {
   "cell_type": "markdown",
   "metadata": {},
   "source": [
    "## Tests sur plusieurs cas"
   ]
  },
  {
   "cell_type": "code",
   "execution_count": 39,
   "metadata": {},
   "outputs": [
    {
     "name": "stderr",
     "output_type": "stream",
     "text": [
      "C:\\Users\\u32118508\\Anaconda3\\lib\\site-packages\\sklearn\\metrics\\_classification.py:1318: UndefinedMetricWarning: Precision is ill-defined and being set to 0.0 due to no predicted samples. Use `zero_division` parameter to control this behavior.\n",
      "  _warn_prf(average, modifier, msg_start, len(result))\n",
      "C:\\Users\\u32118508\\Anaconda3\\lib\\site-packages\\sklearn\\metrics\\_classification.py:1318: UndefinedMetricWarning: Precision is ill-defined and being set to 0.0 due to no predicted samples. Use `zero_division` parameter to control this behavior.\n",
      "  _warn_prf(average, modifier, msg_start, len(result))\n"
     ]
    },
    {
     "name": "stdout",
     "output_type": "stream",
     "text": [
      "Optimization terminated successfully.\n",
      "         Current function value: 0.537529\n",
      "         Iterations 6\n",
      "Optimization terminated successfully.\n",
      "         Current function value: 0.519347\n",
      "         Iterations 6\n",
      "Optimization terminated successfully.\n",
      "         Current function value: 0.498875\n",
      "         Iterations 6\n",
      "Optimization terminated successfully.\n",
      "         Current function value: 0.485000\n",
      "         Iterations 7\n",
      "Optimization terminated successfully.\n",
      "         Current function value: 0.479153\n",
      "         Iterations 7\n",
      "Optimization terminated successfully.\n",
      "         Current function value: 0.463710\n",
      "         Iterations 7\n",
      "Optimization terminated successfully.\n",
      "         Current function value: 0.460081\n",
      "         Iterations 7\n",
      "Optimization terminated successfully.\n",
      "         Current function value: 0.458321\n",
      "         Iterations 7\n",
      "Optimization terminated successfully.\n",
      "         Current function value: 0.455286\n",
      "         Iterations 7\n",
      "Optimization terminated successfully.\n",
      "         Current function value: 0.446950\n",
      "         Iterations 7\n",
      "Optimization terminated successfully.\n",
      "         Current function value: 0.439985\n",
      "         Iterations 7\n",
      "Optimization terminated successfully.\n",
      "         Current function value: 0.436542\n",
      "         Iterations 7\n",
      "Optimization terminated successfully.\n",
      "         Current function value: 0.434554\n",
      "         Iterations 7\n",
      "Optimization terminated successfully.\n",
      "         Current function value: 0.431833\n",
      "         Iterations 7\n",
      "Optimization terminated successfully.\n",
      "         Current function value: 0.422114\n",
      "         Iterations 7\n",
      "Optimization terminated successfully.\n",
      "         Current function value: 0.420719\n",
      "         Iterations 7\n",
      "Optimization terminated successfully.\n",
      "         Current function value: 0.410870\n",
      "         Iterations 7\n",
      "Optimization terminated successfully.\n",
      "         Current function value: 0.404066\n",
      "         Iterations 7\n",
      "Optimization terminated successfully.\n",
      "         Current function value: 0.403889\n",
      "         Iterations 7\n",
      "Optimization terminated successfully.\n",
      "         Current function value: 0.401974\n",
      "         Iterations 7\n",
      "Optimization terminated successfully.\n",
      "         Current function value: 0.401933\n",
      "         Iterations 7\n",
      "Optimization terminated successfully.\n",
      "         Current function value: 0.401232\n",
      "         Iterations 7\n",
      "Optimization terminated successfully.\n",
      "         Current function value: 0.401127\n",
      "         Iterations 8\n"
     ]
    },
    {
     "data": {
      "text/html": [
       "<div>\n",
       "<style scoped>\n",
       "    .dataframe tbody tr th:only-of-type {\n",
       "        vertical-align: middle;\n",
       "    }\n",
       "\n",
       "    .dataframe tbody tr th {\n",
       "        vertical-align: top;\n",
       "    }\n",
       "\n",
       "    .dataframe thead th {\n",
       "        text-align: right;\n",
       "    }\n",
       "</style>\n",
       "<table border=\"1\" class=\"dataframe\">\n",
       "  <thead>\n",
       "    <tr style=\"text-align: right;\">\n",
       "      <th></th>\n",
       "      <th>Modele</th>\n",
       "      <th>variable</th>\n",
       "      <th>AUC Train</th>\n",
       "      <th>AUC Test</th>\n",
       "      <th>Accuracy Train</th>\n",
       "      <th>Accuracy Test</th>\n",
       "      <th>Precision Train</th>\n",
       "      <th>Precision Test</th>\n",
       "      <th>Recall Train</th>\n",
       "      <th>Recall Test</th>\n",
       "      <th>F1 Train</th>\n",
       "      <th>F1 Test</th>\n",
       "    </tr>\n",
       "  </thead>\n",
       "  <tbody>\n",
       "    <tr>\n",
       "      <th>0</th>\n",
       "      <td>risk ~ + C(Status_of_existing_checking_account)</td>\n",
       "      <td>Status_of_existing_checking_account</td>\n",
       "      <td>0.7084</td>\n",
       "      <td>0.6617</td>\n",
       "      <td>0.71</td>\n",
       "      <td>0.68</td>\n",
       "      <td>0.00</td>\n",
       "      <td>0.00</td>\n",
       "      <td>0.00</td>\n",
       "      <td>0.00</td>\n",
       "      <td>0.00</td>\n",
       "      <td>0.00</td>\n",
       "    </tr>\n",
       "    <tr>\n",
       "      <th>1</th>\n",
       "      <td>risk ~ + C(Status_of_existing_checking_account...</td>\n",
       "      <td>Credit_history</td>\n",
       "      <td>0.7501</td>\n",
       "      <td>0.6989</td>\n",
       "      <td>0.74</td>\n",
       "      <td>0.70</td>\n",
       "      <td>0.66</td>\n",
       "      <td>0.80</td>\n",
       "      <td>0.20</td>\n",
       "      <td>0.10</td>\n",
       "      <td>0.31</td>\n",
       "      <td>0.18</td>\n",
       "    </tr>\n",
       "    <tr>\n",
       "      <th>2</th>\n",
       "      <td>risk ~ + C(Status_of_existing_checking_account...</td>\n",
       "      <td>Duration_in_month_q</td>\n",
       "      <td>0.7794</td>\n",
       "      <td>0.7219</td>\n",
       "      <td>0.77</td>\n",
       "      <td>0.70</td>\n",
       "      <td>0.65</td>\n",
       "      <td>0.57</td>\n",
       "      <td>0.46</td>\n",
       "      <td>0.29</td>\n",
       "      <td>0.54</td>\n",
       "      <td>0.39</td>\n",
       "    </tr>\n",
       "    <tr>\n",
       "      <th>3</th>\n",
       "      <td>risk ~ + C(Status_of_existing_checking_account...</td>\n",
       "      <td>Savings_account_bonds</td>\n",
       "      <td>0.7952</td>\n",
       "      <td>0.7342</td>\n",
       "      <td>0.78</td>\n",
       "      <td>0.70</td>\n",
       "      <td>0.68</td>\n",
       "      <td>0.59</td>\n",
       "      <td>0.48</td>\n",
       "      <td>0.26</td>\n",
       "      <td>0.56</td>\n",
       "      <td>0.36</td>\n",
       "    </tr>\n",
       "    <tr>\n",
       "      <th>4</th>\n",
       "      <td>risk ~ + C(Status_of_existing_checking_account...</td>\n",
       "      <td>Housing</td>\n",
       "      <td>0.7997</td>\n",
       "      <td>0.7258</td>\n",
       "      <td>0.77</td>\n",
       "      <td>0.70</td>\n",
       "      <td>0.65</td>\n",
       "      <td>0.61</td>\n",
       "      <td>0.50</td>\n",
       "      <td>0.26</td>\n",
       "      <td>0.56</td>\n",
       "      <td>0.36</td>\n",
       "    </tr>\n",
       "    <tr>\n",
       "      <th>5</th>\n",
       "      <td>risk ~ + C(Status_of_existing_checking_account...</td>\n",
       "      <td>Purpose</td>\n",
       "      <td>0.8169</td>\n",
       "      <td>0.7445</td>\n",
       "      <td>0.77</td>\n",
       "      <td>0.72</td>\n",
       "      <td>0.65</td>\n",
       "      <td>0.68</td>\n",
       "      <td>0.48</td>\n",
       "      <td>0.29</td>\n",
       "      <td>0.55</td>\n",
       "      <td>0.41</td>\n",
       "    </tr>\n",
       "    <tr>\n",
       "      <th>6</th>\n",
       "      <td>risk ~ + C(Status_of_existing_checking_account...</td>\n",
       "      <td>Other_installment_plans</td>\n",
       "      <td>0.8200</td>\n",
       "      <td>0.7549</td>\n",
       "      <td>0.77</td>\n",
       "      <td>0.73</td>\n",
       "      <td>0.65</td>\n",
       "      <td>0.68</td>\n",
       "      <td>0.49</td>\n",
       "      <td>0.33</td>\n",
       "      <td>0.56</td>\n",
       "      <td>0.45</td>\n",
       "    </tr>\n",
       "    <tr>\n",
       "      <th>7</th>\n",
       "      <td>risk ~ + C(Status_of_existing_checking_account...</td>\n",
       "      <td>Property</td>\n",
       "      <td>0.8221</td>\n",
       "      <td>0.7426</td>\n",
       "      <td>0.76</td>\n",
       "      <td>0.72</td>\n",
       "      <td>0.63</td>\n",
       "      <td>0.65</td>\n",
       "      <td>0.48</td>\n",
       "      <td>0.28</td>\n",
       "      <td>0.54</td>\n",
       "      <td>0.39</td>\n",
       "    </tr>\n",
       "    <tr>\n",
       "      <th>8</th>\n",
       "      <td>risk ~ + C(Status_of_existing_checking_account...</td>\n",
       "      <td>Present_employment_since</td>\n",
       "      <td>0.8253</td>\n",
       "      <td>0.7477</td>\n",
       "      <td>0.78</td>\n",
       "      <td>0.73</td>\n",
       "      <td>0.66</td>\n",
       "      <td>0.68</td>\n",
       "      <td>0.52</td>\n",
       "      <td>0.32</td>\n",
       "      <td>0.59</td>\n",
       "      <td>0.43</td>\n",
       "    </tr>\n",
       "    <tr>\n",
       "      <th>9</th>\n",
       "      <td>risk ~ + C(Status_of_existing_checking_account...</td>\n",
       "      <td>Credit_amount_q</td>\n",
       "      <td>0.8336</td>\n",
       "      <td>0.7295</td>\n",
       "      <td>0.78</td>\n",
       "      <td>0.73</td>\n",
       "      <td>0.65</td>\n",
       "      <td>0.66</td>\n",
       "      <td>0.54</td>\n",
       "      <td>0.37</td>\n",
       "      <td>0.59</td>\n",
       "      <td>0.48</td>\n",
       "    </tr>\n",
       "    <tr>\n",
       "      <th>10</th>\n",
       "      <td>risk ~ + C(Status_of_existing_checking_account...</td>\n",
       "      <td>Personal_status_and_sex</td>\n",
       "      <td>0.8400</td>\n",
       "      <td>0.7270</td>\n",
       "      <td>0.79</td>\n",
       "      <td>0.72</td>\n",
       "      <td>0.66</td>\n",
       "      <td>0.62</td>\n",
       "      <td>0.54</td>\n",
       "      <td>0.36</td>\n",
       "      <td>0.60</td>\n",
       "      <td>0.46</td>\n",
       "    </tr>\n",
       "    <tr>\n",
       "      <th>11</th>\n",
       "      <td>risk ~ + C(Status_of_existing_checking_account...</td>\n",
       "      <td>foreign_worker</td>\n",
       "      <td>0.8437</td>\n",
       "      <td>0.7349</td>\n",
       "      <td>0.78</td>\n",
       "      <td>0.73</td>\n",
       "      <td>0.66</td>\n",
       "      <td>0.64</td>\n",
       "      <td>0.54</td>\n",
       "      <td>0.38</td>\n",
       "      <td>0.59</td>\n",
       "      <td>0.48</td>\n",
       "    </tr>\n",
       "    <tr>\n",
       "      <th>12</th>\n",
       "      <td>risk ~ + C(Status_of_existing_checking_account...</td>\n",
       "      <td>Other_debtors___guarantors</td>\n",
       "      <td>0.8463</td>\n",
       "      <td>0.7429</td>\n",
       "      <td>0.79</td>\n",
       "      <td>0.73</td>\n",
       "      <td>0.68</td>\n",
       "      <td>0.65</td>\n",
       "      <td>0.54</td>\n",
       "      <td>0.40</td>\n",
       "      <td>0.60</td>\n",
       "      <td>0.49</td>\n",
       "    </tr>\n",
       "    <tr>\n",
       "      <th>13</th>\n",
       "      <td>risk ~ + C(Status_of_existing_checking_account...</td>\n",
       "      <td>Age_in_years_q</td>\n",
       "      <td>0.8467</td>\n",
       "      <td>0.7433</td>\n",
       "      <td>0.79</td>\n",
       "      <td>0.74</td>\n",
       "      <td>0.66</td>\n",
       "      <td>0.67</td>\n",
       "      <td>0.54</td>\n",
       "      <td>0.41</td>\n",
       "      <td>0.60</td>\n",
       "      <td>0.51</td>\n",
       "    </tr>\n",
       "    <tr>\n",
       "      <th>14</th>\n",
       "      <td>risk ~ + C(Status_of_existing_checking_account...</td>\n",
       "      <td>Installment_rate_in_percentage_of_disposable_i...</td>\n",
       "      <td>0.8552</td>\n",
       "      <td>0.7366</td>\n",
       "      <td>0.80</td>\n",
       "      <td>0.74</td>\n",
       "      <td>0.68</td>\n",
       "      <td>0.64</td>\n",
       "      <td>0.59</td>\n",
       "      <td>0.45</td>\n",
       "      <td>0.63</td>\n",
       "      <td>0.53</td>\n",
       "    </tr>\n",
       "    <tr>\n",
       "      <th>15</th>\n",
       "      <td>risk ~ + C(Status_of_existing_checking_account...</td>\n",
       "      <td>Evaluation_q</td>\n",
       "      <td>0.8564</td>\n",
       "      <td>0.7321</td>\n",
       "      <td>0.80</td>\n",
       "      <td>0.73</td>\n",
       "      <td>0.69</td>\n",
       "      <td>0.63</td>\n",
       "      <td>0.59</td>\n",
       "      <td>0.44</td>\n",
       "      <td>0.63</td>\n",
       "      <td>0.52</td>\n",
       "    </tr>\n",
       "    <tr>\n",
       "      <th>16</th>\n",
       "      <td>risk ~ + C(Status_of_existing_checking_account...</td>\n",
       "      <td>Present_residence_since</td>\n",
       "      <td>0.8627</td>\n",
       "      <td>0.7416</td>\n",
       "      <td>0.82</td>\n",
       "      <td>0.73</td>\n",
       "      <td>0.72</td>\n",
       "      <td>0.61</td>\n",
       "      <td>0.61</td>\n",
       "      <td>0.45</td>\n",
       "      <td>0.66</td>\n",
       "      <td>0.52</td>\n",
       "    </tr>\n",
       "    <tr>\n",
       "      <th>17</th>\n",
       "      <td>risk ~ + C(Status_of_existing_checking_account...</td>\n",
       "      <td>year</td>\n",
       "      <td>0.8681</td>\n",
       "      <td>0.7392</td>\n",
       "      <td>0.81</td>\n",
       "      <td>0.74</td>\n",
       "      <td>0.70</td>\n",
       "      <td>0.62</td>\n",
       "      <td>0.60</td>\n",
       "      <td>0.49</td>\n",
       "      <td>0.64</td>\n",
       "      <td>0.55</td>\n",
       "    </tr>\n",
       "    <tr>\n",
       "      <th>18</th>\n",
       "      <td>risk ~ + C(Status_of_existing_checking_account...</td>\n",
       "      <td>Job</td>\n",
       "      <td>0.8687</td>\n",
       "      <td>0.7393</td>\n",
       "      <td>0.81</td>\n",
       "      <td>0.73</td>\n",
       "      <td>0.70</td>\n",
       "      <td>0.61</td>\n",
       "      <td>0.62</td>\n",
       "      <td>0.47</td>\n",
       "      <td>0.66</td>\n",
       "      <td>0.53</td>\n",
       "    </tr>\n",
       "    <tr>\n",
       "      <th>19</th>\n",
       "      <td>risk ~ + C(Status_of_existing_checking_account...</td>\n",
       "      <td>Number_of_existing_credits_at_this_bank</td>\n",
       "      <td>0.8702</td>\n",
       "      <td>0.7438</td>\n",
       "      <td>0.81</td>\n",
       "      <td>0.73</td>\n",
       "      <td>0.71</td>\n",
       "      <td>0.61</td>\n",
       "      <td>0.62</td>\n",
       "      <td>0.50</td>\n",
       "      <td>0.66</td>\n",
       "      <td>0.55</td>\n",
       "    </tr>\n",
       "    <tr>\n",
       "      <th>20</th>\n",
       "      <td>risk ~ + C(Status_of_existing_checking_account...</td>\n",
       "      <td>Téléphone</td>\n",
       "      <td>0.8703</td>\n",
       "      <td>0.7441</td>\n",
       "      <td>0.82</td>\n",
       "      <td>0.73</td>\n",
       "      <td>0.71</td>\n",
       "      <td>0.61</td>\n",
       "      <td>0.63</td>\n",
       "      <td>0.50</td>\n",
       "      <td>0.67</td>\n",
       "      <td>0.55</td>\n",
       "    </tr>\n",
       "    <tr>\n",
       "      <th>21</th>\n",
       "      <td>risk ~ + C(Status_of_existing_checking_account...</td>\n",
       "      <td>RGPD_KO</td>\n",
       "      <td>0.8702</td>\n",
       "      <td>0.7417</td>\n",
       "      <td>0.82</td>\n",
       "      <td>0.72</td>\n",
       "      <td>0.72</td>\n",
       "      <td>0.60</td>\n",
       "      <td>0.63</td>\n",
       "      <td>0.47</td>\n",
       "      <td>0.67</td>\n",
       "      <td>0.53</td>\n",
       "    </tr>\n",
       "    <tr>\n",
       "      <th>22</th>\n",
       "      <td>risk ~ + C(Status_of_existing_checking_account...</td>\n",
       "      <td>Number_of_people_being_liable_to_provide_maint...</td>\n",
       "      <td>0.8699</td>\n",
       "      <td>0.7430</td>\n",
       "      <td>0.82</td>\n",
       "      <td>0.72</td>\n",
       "      <td>0.72</td>\n",
       "      <td>0.58</td>\n",
       "      <td>0.63</td>\n",
       "      <td>0.45</td>\n",
       "      <td>0.67</td>\n",
       "      <td>0.51</td>\n",
       "    </tr>\n",
       "  </tbody>\n",
       "</table>\n",
       "</div>"
      ],
      "text/plain": [
       "                                               Modele                                           variable  AUC Train  AUC Test  Accuracy Train  Accuracy Test  Precision Train  Precision Test  Recall Train  Recall Test  F1 Train  F1 Test\n",
       "0     risk ~ + C(Status_of_existing_checking_account)                Status_of_existing_checking_account     0.7084    0.6617            0.71           0.68             0.00            0.00          0.00         0.00      0.00     0.00\n",
       "1   risk ~ + C(Status_of_existing_checking_account...                                     Credit_history     0.7501    0.6989            0.74           0.70             0.66            0.80          0.20         0.10      0.31     0.18\n",
       "2   risk ~ + C(Status_of_existing_checking_account...                                Duration_in_month_q     0.7794    0.7219            0.77           0.70             0.65            0.57          0.46         0.29      0.54     0.39\n",
       "3   risk ~ + C(Status_of_existing_checking_account...                              Savings_account_bonds     0.7952    0.7342            0.78           0.70             0.68            0.59          0.48         0.26      0.56     0.36\n",
       "4   risk ~ + C(Status_of_existing_checking_account...                                            Housing     0.7997    0.7258            0.77           0.70             0.65            0.61          0.50         0.26      0.56     0.36\n",
       "5   risk ~ + C(Status_of_existing_checking_account...                                            Purpose     0.8169    0.7445            0.77           0.72             0.65            0.68          0.48         0.29      0.55     0.41\n",
       "6   risk ~ + C(Status_of_existing_checking_account...                            Other_installment_plans     0.8200    0.7549            0.77           0.73             0.65            0.68          0.49         0.33      0.56     0.45\n",
       "7   risk ~ + C(Status_of_existing_checking_account...                                           Property     0.8221    0.7426            0.76           0.72             0.63            0.65          0.48         0.28      0.54     0.39\n",
       "8   risk ~ + C(Status_of_existing_checking_account...                           Present_employment_since     0.8253    0.7477            0.78           0.73             0.66            0.68          0.52         0.32      0.59     0.43\n",
       "9   risk ~ + C(Status_of_existing_checking_account...                                    Credit_amount_q     0.8336    0.7295            0.78           0.73             0.65            0.66          0.54         0.37      0.59     0.48\n",
       "10  risk ~ + C(Status_of_existing_checking_account...                            Personal_status_and_sex     0.8400    0.7270            0.79           0.72             0.66            0.62          0.54         0.36      0.60     0.46\n",
       "11  risk ~ + C(Status_of_existing_checking_account...                                     foreign_worker     0.8437    0.7349            0.78           0.73             0.66            0.64          0.54         0.38      0.59     0.48\n",
       "12  risk ~ + C(Status_of_existing_checking_account...                         Other_debtors___guarantors     0.8463    0.7429            0.79           0.73             0.68            0.65          0.54         0.40      0.60     0.49\n",
       "13  risk ~ + C(Status_of_existing_checking_account...                                     Age_in_years_q     0.8467    0.7433            0.79           0.74             0.66            0.67          0.54         0.41      0.60     0.51\n",
       "14  risk ~ + C(Status_of_existing_checking_account...  Installment_rate_in_percentage_of_disposable_i...     0.8552    0.7366            0.80           0.74             0.68            0.64          0.59         0.45      0.63     0.53\n",
       "15  risk ~ + C(Status_of_existing_checking_account...                                       Evaluation_q     0.8564    0.7321            0.80           0.73             0.69            0.63          0.59         0.44      0.63     0.52\n",
       "16  risk ~ + C(Status_of_existing_checking_account...                            Present_residence_since     0.8627    0.7416            0.82           0.73             0.72            0.61          0.61         0.45      0.66     0.52\n",
       "17  risk ~ + C(Status_of_existing_checking_account...                                               year     0.8681    0.7392            0.81           0.74             0.70            0.62          0.60         0.49      0.64     0.55\n",
       "18  risk ~ + C(Status_of_existing_checking_account...                                                Job     0.8687    0.7393            0.81           0.73             0.70            0.61          0.62         0.47      0.66     0.53\n",
       "19  risk ~ + C(Status_of_existing_checking_account...            Number_of_existing_credits_at_this_bank     0.8702    0.7438            0.81           0.73             0.71            0.61          0.62         0.50      0.66     0.55\n",
       "20  risk ~ + C(Status_of_existing_checking_account...                                          Téléphone     0.8703    0.7441            0.82           0.73             0.71            0.61          0.63         0.50      0.67     0.55\n",
       "21  risk ~ + C(Status_of_existing_checking_account...                                            RGPD_KO     0.8702    0.7417            0.82           0.72             0.72            0.60          0.63         0.47      0.67     0.53\n",
       "22  risk ~ + C(Status_of_existing_checking_account...  Number_of_people_being_liable_to_provide_maint...     0.8699    0.7430            0.82           0.72             0.72            0.58          0.63         0.45      0.67     0.51"
      ]
     },
     "execution_count": 39,
     "metadata": {},
     "output_type": "execute_result"
    }
   ],
   "source": [
    "modele = 'risk ~'\n",
    "test = 0\n",
    "results = []\n",
    "for feature in df_vc['variable'].str.replace(' ','_').str.replace('/','_').to_list():\n",
    "    modele= modele  +   ' + C({})'.format(feature)\n",
    "    Res = smf.logit(formula = str(modele)   , data = df_train).fit()\n",
    "    pred_proba_test = Res.predict(df_test)\n",
    "    pred_proba_train = Res.predict(df_train)\n",
    "    results.append((\n",
    "                    modele, \n",
    "                    feature,\n",
    "                    round(roc_auc_score(df_train['risk'], pred_proba_train), 4),\n",
    "                    round(roc_auc_score(df_test['risk'], pred_proba_test), 4),\n",
    "                    round(accuracy_score(df_train['risk'], round( pred_proba_train)), 2),\n",
    "                    round(accuracy_score(df_test['risk'], round( pred_proba_test)), 2),\n",
    "                    round(precision_score(df_train['risk'], round( pred_proba_train)), 2),\n",
    "                    round(precision_score(df_test['risk'], round( pred_proba_test)), 2),\n",
    "                    round(recall_score(df_train['risk'], round( pred_proba_train)), 2),\n",
    "                    round(recall_score(df_test['risk'], round( pred_proba_test)), 2),\n",
    "                    round(f1_score(df_train['risk'], round( pred_proba_train)), 2),\n",
    "                    round(f1_score(df_test['risk'], round( pred_proba_test)), 2)\n",
    "    ))\n",
    "    \n",
    "df_score= pd.DataFrame(data = results, columns = [ \n",
    "                                                  'Modele','variable', 'AUC Train', 'AUC Test', 'Accuracy Train',\n",
    "                                                  'Accuracy Test','Precision Train', 'Precision Test','Recall Train',\n",
    "                                                  'Recall Test','F1 Train', 'F1 Test'\n",
    "                                                  ]\n",
    "                      )    \n",
    "df_score"
   ]
  },
  {
   "cell_type": "markdown",
   "metadata": {},
   "source": [
    "## Modèle finale"
   ]
  },
  {
   "cell_type": "code",
   "execution_count": 40,
   "metadata": {},
   "outputs": [
    {
     "data": {
      "text/html": [
       "<div>\n",
       "<style scoped>\n",
       "    .dataframe tbody tr th:only-of-type {\n",
       "        vertical-align: middle;\n",
       "    }\n",
       "\n",
       "    .dataframe tbody tr th {\n",
       "        vertical-align: top;\n",
       "    }\n",
       "\n",
       "    .dataframe thead th {\n",
       "        text-align: right;\n",
       "    }\n",
       "</style>\n",
       "<table border=\"1\" class=\"dataframe\">\n",
       "  <thead>\n",
       "    <tr style=\"text-align: right;\">\n",
       "      <th></th>\n",
       "      <th>Modele</th>\n",
       "      <th>variable</th>\n",
       "      <th>AUC Train</th>\n",
       "      <th>AUC Test</th>\n",
       "      <th>Accuracy Train</th>\n",
       "      <th>Accuracy Test</th>\n",
       "      <th>Precision Train</th>\n",
       "      <th>Precision Test</th>\n",
       "      <th>Recall Train</th>\n",
       "      <th>Recall Test</th>\n",
       "      <th>F1 Train</th>\n",
       "      <th>F1 Test</th>\n",
       "    </tr>\n",
       "  </thead>\n",
       "  <tbody>\n",
       "    <tr>\n",
       "      <th>6</th>\n",
       "      <td>risk ~ + C(Status_of_existing_checking_account...</td>\n",
       "      <td>Other_installment_plans</td>\n",
       "      <td>0.82</td>\n",
       "      <td>0.7549</td>\n",
       "      <td>0.77</td>\n",
       "      <td>0.73</td>\n",
       "      <td>0.65</td>\n",
       "      <td>0.68</td>\n",
       "      <td>0.49</td>\n",
       "      <td>0.33</td>\n",
       "      <td>0.56</td>\n",
       "      <td>0.45</td>\n",
       "    </tr>\n",
       "  </tbody>\n",
       "</table>\n",
       "</div>"
      ],
      "text/plain": [
       "                                              Modele                 variable  AUC Train  AUC Test  Accuracy Train  Accuracy Test  Precision Train  Precision Test  Recall Train  Recall Test  F1 Train  F1 Test\n",
       "6  risk ~ + C(Status_of_existing_checking_account...  Other_installment_plans       0.82    0.7549            0.77           0.73             0.65            0.68          0.49         0.33      0.56     0.45"
      ]
     },
     "execution_count": 40,
     "metadata": {},
     "output_type": "execute_result"
    }
   ],
   "source": [
    "df_score[df_score['AUC Test'] == df_score['AUC Test'].max()]"
   ]
  },
  {
   "cell_type": "code",
   "execution_count": 41,
   "metadata": {},
   "outputs": [
    {
     "name": "stdout",
     "output_type": "stream",
     "text": [
      "Optimization terminated successfully.\n",
      "         Current function value: 0.460081\n",
      "         Iterations 7\n"
     ]
    }
   ],
   "source": [
    "# utiliser le meilleur modèle\n",
    "variable = [\n",
    "                                             'Status_of_existing_checking_account', \n",
    "                                             'Credit_history', 'Duration_in_month_q',\n",
    "                                             'Savings_account_bonds','Housing',\n",
    "                                             'Purpose', 'Other_installment_plans'\n",
    "            ]\n",
    "best_model = df_score[df_score['AUC Test'] == df_score['AUC Test'].max()].iloc[0,0]\n",
    "Res = smf.logit(formula = str(best_model)   , data = df_train[variable + ['risk']]).fit()\n",
    "pred_proba_test = Res.predict(df_test[variable])\n",
    "pred_proba_train = Res.predict(df_train[variable])"
   ]
  },
  {
   "cell_type": "code",
   "execution_count": null,
   "metadata": {},
   "outputs": [],
   "source": [
    "\n"
   ]
  },
  {
   "cell_type": "code",
   "execution_count": 42,
   "metadata": {},
   "outputs": [
    {
     "data": {
      "text/plain": [
       "'risk ~ + C(Status_of_existing_checking_account) + C(Credit_history) + C(Duration_in_month_q) + C(Savings_account_bonds) + C(Housing) + C(Purpose) + C(Other_installment_plans)'"
      ]
     },
     "execution_count": 42,
     "metadata": {},
     "output_type": "execute_result"
    }
   ],
   "source": [
    "df_score[df_score['AUC Test'] == df_score['AUC Test'].max()].iloc[0,0]\n"
   ]
  },
  {
   "cell_type": "code",
   "execution_count": 43,
   "metadata": {},
   "outputs": [
    {
     "data": {
      "image/png": "[encoded data removed]",
      "text/plain": [
       "<Figure size 432x288 with 1 Axes>"
      ]
     },
     "metadata": {
      "needs_background": "light"
     },
     "output_type": "display_data"
    },
    {
     "name": "stdout",
     "output_type": "stream",
     "text": [
      "Accuracy: 0.75\n",
      "Recall: 0.78\n",
      "precision: 0.55\n"
     ]
    },
    {
     "data": {
      "image/png": "[encoded data removed]",
      "text/plain": [
       "<Figure size 360x360 with 1 Axes>"
      ]
     },
     "metadata": {
      "needs_background": "light"
     },
     "output_type": "display_data"
    }
   ],
   "source": [
    "fpr, tpr, thresholds = roc_curve(df_train[\"risk\"], pred_proba_train)\n",
    "roc_auc = auc(fpr, tpr)\n",
    "optimal_thr = thresholds[np.argmin((0-fpr)**2 + (1-tpr)**2)]\n",
    "optimal_tpr = tpr[thresholds==optimal_thr][0]\n",
    "optimal_fpr = fpr[thresholds==optimal_thr][0]\n",
    "plt.figure()\n",
    "lw = 2\n",
    "plt.plot(fpr, tpr, color='orange',lw=lw, label='ROC curve (area = %0.2f)' % roc_auc)\n",
    "plt.plot([0, 1], [0, 1], color='navy', lw=lw, linestyle='--')\n",
    "plt.scatter(optimal_fpr, optimal_tpr, color=\"red\", lw=lw, label=f\"Opt. Prob threshold: {optimal_thr}\\nOpt. TPR:{round(optimal_tpr, 2)}, Opt. FPR: {round(optimal_fpr, 2)}\")\n",
    "plt.xlim([0.0, 1.0])\n",
    "plt.ylim([0.0, 1.0])\n",
    "plt.xlabel('False Positive Rate')\n",
    "plt.ylabel('True Positive Rate')\n",
    "plt.title('Scoring  ROC curve : Train set')\n",
    "plt.legend(loc=\"lower right\")\n",
    "plt.show()\n",
    "functions_ml.confusio_matrix(df_train[\"risk\"], (pred_proba_train>= optimal_thr).astype(int))"
   ]
  },
  {
   "cell_type": "code",
   "execution_count": 44,
   "metadata": {},
   "outputs": [
    {
     "data": {
      "image/png": "[encoded data removed]",
      "text/plain": [
       "<Figure size 432x288 with 1 Axes>"
      ]
     },
     "metadata": {
      "needs_background": "light"
     },
     "output_type": "display_data"
    },
    {
     "name": "stdout",
     "output_type": "stream",
     "text": [
      "Accuracy: 0.72\n",
      "Recall: 0.65\n",
      "precision: 0.55\n"
     ]
    },
    {
     "data": {
      "image/png": "[encoded data removed]",
      "text/plain": [
       "<Figure size 360x360 with 1 Axes>"
      ]
     },
     "metadata": {
      "needs_background": "light"
     },
     "output_type": "display_data"
    }
   ],
   "source": [
    "fpr, tpr, thresholds = roc_curve(df_test[\"risk\"], pred_proba_test)\n",
    "roc_auc = auc(fpr, tpr)\n",
    "optimal_thr = thresholds[np.argmin((0-fpr)**2 + (1-tpr)**2)]\n",
    "optimal_tpr = tpr[thresholds==optimal_thr][0]\n",
    "optimal_fpr = fpr[thresholds==optimal_thr][0]\n",
    "plt.figure()\n",
    "lw = 2\n",
    "plt.plot(fpr, tpr, color='orange',lw=lw, label='ROC curve (area = %0.2f)' % roc_auc)\n",
    "plt.plot([0, 1], [0, 1], color='navy', lw=lw, linestyle='--')\n",
    "plt.scatter(optimal_fpr, optimal_tpr, color=\"red\", lw=lw, label=f\"Opt. Prob threshold: {optimal_thr}\\nOpt. TPR:{round(optimal_tpr, 2)}, Opt. FPR: {round(optimal_fpr, 2)}\")\n",
    "plt.xlim([0.0, 1.0])\n",
    "plt.ylim([0.0, 1.0])\n",
    "plt.xlabel('False Positive Rate')\n",
    "plt.ylabel('True Positive Rate')\n",
    "plt.title('Scoring  ROC curve : Test set')\n",
    "plt.legend(loc=\"lower right\")\n",
    "plt.show()\n",
    "\n",
    "functions_ml.confusio_matrix(df_test[\"risk\"], (pred_proba_test >= optimal_thr).astype(int))"
   ]
  },
  {
   "cell_type": "code",
   "execution_count": 45,
   "metadata": {},
   "outputs": [
    {
     "name": "stdout",
     "output_type": "stream",
     "text": [
      "                           Logit Regression Results                           \n",
      "==============================================================================\n",
      "Dep. Variable:                   risk   No. Observations:                  560\n",
      "Model:                          Logit   Df Residuals:                      531\n",
      "Method:                           MLE   Df Model:                           28\n",
      "Date:                Sun, 13 Feb 2022   Pseudo R-squ.:                  0.2391\n",
      "Time:                        02:17:58   Log-Likelihood:                -257.65\n",
      "converged:                       True   LL-Null:                       -338.63\n",
      "Covariance Type:            nonrobust   LLR p-value:                 8.315e-21\n",
      "=================================================================================================================================\n",
      "                                                                    coef    std err          z      P>|z|      [0.025      0.975]\n",
      "---------------------------------------------------------------------------------------------------------------------------------\n",
      "Intercept                                                        -0.3986      0.853     -0.467      0.640      -2.071       1.274\n",
      "C(Status_of_existing_checking_account)[T.<0 DM]                   0.3137      0.278      1.128      0.259      -0.231       0.859\n",
      "C(Status_of_existing_checking_account)[T.>= 200 DM ]             -0.3840      0.471     -0.815      0.415      -1.308       0.540\n",
      "C(Status_of_existing_checking_account)[T.no checking account]    -1.4162      0.317     -4.462      0.000      -2.038      -0.794\n",
      "C(Credit_history)[T.critical account]                            -1.3274      0.509     -2.608      0.009      -2.325      -0.330\n",
      "C(Credit_history)[T.delay in paying off]                         -0.9389      0.592     -1.585      0.113      -2.100       0.222\n",
      "C(Credit_history)[T.existing credits paid back duly till now]    -0.6141      0.476     -1.290      0.197      -1.547       0.319\n",
      "C(Credit_history)[T.no credits taken]                             0.3176      0.674      0.471      0.638      -1.004       1.639\n",
      "C(Duration_in_month_q)[T.(15.0, 24.0]]                            0.6309      0.496      1.273      0.203      -0.340       1.602\n",
      "C(Duration_in_month_q)[T.(24.0, 30.0]]                            0.8110      0.657      1.235      0.217      -0.477       2.099\n",
      "C(Duration_in_month_q)[T.(3.999, 12.0]]                          -0.0643      0.501     -0.128      0.898      -1.047       0.918\n",
      "C(Duration_in_month_q)[T.(30.0, 72.0]]                            1.4802      0.522      2.837      0.005       0.457       2.503\n",
      "C(Savings_account_bonds)[T.500 <= < 1000 DM]                      0.0328      0.640      0.051      0.959      -1.222       1.288\n",
      "C(Savings_account_bonds)[T.<100 DM]                               0.6650      0.399      1.666      0.096      -0.117       1.447\n",
      "C(Savings_account_bonds)[T.>= 1000 DM]                           -1.2970      0.921     -1.408      0.159      -3.102       0.508\n",
      "C(Savings_account_bonds)[T.no savings account]                   -0.3300      0.477     -0.692      0.489      -1.264       0.604\n",
      "C(Housing)[T.own]                                                -0.3843      0.370     -1.038      0.299      -1.110       0.341\n",
      "C(Housing)[T.rent]                                                0.3684      0.417      0.884      0.377      -0.448       1.185\n",
      "C(Purpose)[T.car (new)]                                           0.4746      0.435      1.091      0.275      -0.378       1.328\n",
      "C(Purpose)[T.car (used)]                                         -0.9229      0.547     -1.688      0.092      -1.995       0.149\n",
      "C(Purpose)[T.domestic appliances]                                 0.6903      0.866      0.797      0.425      -1.007       2.388\n",
      "C(Purpose)[T.education]                                           0.9314      0.661      1.410      0.159      -0.363       2.226\n",
      "C(Purpose)[T.furniture/equipment]                                 0.1230      0.461      0.267      0.790      -0.781       1.027\n",
      "C(Purpose)[T.others]                                             -1.0301      1.025     -1.005      0.315      -3.038       0.978\n",
      "C(Purpose)[T.radio/télévision]                                   -0.1747      0.432     -0.405      0.686      -1.021       0.672\n",
      "C(Purpose)[T.repairs]                                             0.6678      0.783      0.853      0.394      -0.866       2.202\n",
      "C(Purpose)[T.retraining]                                         -0.8930      1.230     -0.726      0.468      -3.304       1.518\n",
      "C(Other_installment_plans)[T.none]                               -0.3358      0.320     -1.050      0.294      -0.962       0.291\n",
      "C(Other_installment_plans)[T.store]                               0.6962      0.593      1.173      0.241      -0.467       1.859\n",
      "=================================================================================================================================\n"
     ]
    }
   ],
   "source": [
    "# Seuil optimale qui maximise le taux dde vrai positive et minimise et le taux de faux positif est = 0.36\n",
    "print(Res.summary())"
   ]
  },
  {
   "cell_type": "markdown",
   "metadata": {},
   "source": [
    "# Exportation du modèle"
   ]
  },
  {
   "cell_type": "code",
   "execution_count": 46,
   "metadata": {},
   "outputs": [],
   "source": [
    "# MODELE\n",
    "f=open(rep_intermed+\"scoring.pkl\",\"wb\")\n",
    "pickle.dump(Res ,f)\n",
    "f.close()\n",
    "# Assignement optimal\n",
    "g=open(rep_intermed+\"treshold.pkl\",\"wb\")\n",
    "pickle.dump(optimal_thr ,g)\n",
    "g.close()"
   ]
  }
 ],
 "metadata": {
  "colab": {
   "authorship_tag": "ABX9TyOYR0OLLZUCA3QJJzUxVqql",
   "collapsed_sections": [
    "79oxEk7dWACC"
   ],
   "name": "03_scoring.ipynb",
   "provenance": [],
   "toc_visible": true
  },
  "kernelspec": {
   "display_name": "Python 3 (ipykernel)",
   "language": "python",
   "name": "python3"
  },
  "language_info": {
   "codemirror_mode": {
    "name": "ipython",
    "version": 3
   },
   "file_extension": ".py",
   "mimetype": "text/x-python",
   "name": "python",
   "nbconvert_exporter": "python",
   "pygments_lexer": "ipython3",
   "version": "3.9.7"
  }
 },
 "nbformat": 4,
 "nbformat_minor": 4
}
