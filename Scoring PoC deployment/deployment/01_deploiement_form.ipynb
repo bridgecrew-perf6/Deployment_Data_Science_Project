{
 "cells": [
  {
   "cell_type": "markdown",
   "id": "6bfa7d29-9eba-43e0-83c4-b711c7ecf9dd",
   "metadata": {},
   "source": [
    "# Modules"
   ]
  },
  {
   "cell_type": "code",
   "execution_count": 1,
   "id": "0f03dbec-9990-4fd0-b621-7d2252fc6a14",
   "metadata": {},
   "outputs": [],
   "source": [
    "import ipywidgets as widgets\n",
    "from IPython.display import display, clear_output\n",
    "import pickle\n",
    "import pandas as pd"
   ]
  },
  {
   "cell_type": "markdown",
   "id": "814e5671-f2e0-42c9-b849-5910510b7f27",
   "metadata": {},
   "source": [
    "# Constantes"
   ]
  },
  {
   "cell_type": "code",
   "execution_count": 2,
   "id": "4bb8750f-243f-4866-b700-6467f802a9f4",
   "metadata": {},
   "outputs": [],
   "source": [
    "REP_PROJET = 'C:/Users/u32118508/OneDrive - UPEC/Bureau/PyBooks/Applications/Scoring/'\n",
    "MODEL_PATH = REP_PROJET+  \"Intermed/scoring.pkl\"\n",
    "REF_PATH = REP_PROJET+  \"Intermed/tresHold.pkl\""
   ]
  },
  {
   "cell_type": "markdown",
   "id": "c0151e6a-f410-40d5-a8fd-960cda0d2ab4",
   "metadata": {},
   "source": [
    "# Importation de modèle"
   ]
  },
  {
   "cell_type": "code",
   "execution_count": 3,
   "id": "b2c47c20-3709-4157-bd01-8e19be0c293a",
   "metadata": {},
   "outputs": [],
   "source": [
    "modele = pickle.load( open( MODEL_PATH, \"rb\" ) )\n",
    "ref = pickle.load( open( REF_PATH, \"rb\" ) )"
   ]
  },
  {
   "cell_type": "code",
   "execution_count": 4,
   "id": "25323b03-cc34-4ed7-ac8b-0bcc5fba24fb",
   "metadata": {},
   "outputs": [
    {
     "data": {
      "text/plain": [
       "<statsmodels.discrete.discrete_model.BinaryResultsWrapper at 0x23126775af0>"
      ]
     },
     "execution_count": 4,
     "metadata": {},
     "output_type": "execute_result"
    }
   ],
   "source": [
    "modele "
   ]
  },
  {
   "cell_type": "markdown",
   "id": "17b2247b-576d-4d22-8372-ee6afc880126",
   "metadata": {},
   "source": [
    "# Definition des élements à demander"
   ]
  },
  {
   "cell_type": "code",
   "execution_count": 5,
   "id": "714a7589-3d93-4fa0-92c0-949a2cf3a1e5",
   "metadata": {},
   "outputs": [],
   "source": [
    "Status_of_existing_checking_account = widgets.Dropdown(\n",
    "                                                        options     = ['no checking account', '<0 DM', '0 <= <200 DM','>= 200 DM'],\n",
    "                                                        value       ='no checking account',\n",
    "                                                        description ='Status of existing checking account ',\n",
    "                                                        disabled    = False,\n",
    "                                                        )\n",
    "\n",
    "Credit_history = widgets.Dropdown(\n",
    "                                    options     = ['existing credits paid back duly till now','critical account','delay in paying off','all credits at this bank paid back duly','no credits taken'],\n",
    "                                    value       = 'existing credits paid back duly till now',\n",
    "                                    description = 'Credit history  :',\n",
    "                                    disabled=False,\n",
    "                                )\n",
    "\n",
    "Duration_in_month_q=widgets.Dropdown(\n",
    "                                        options = [ '(3.999, 12.0]' ,'(12.0, 15.0]','(15.0, 24.0]', '(24.0, 30.0]','(30.0, 72.0]'],\n",
    "                                         value ='(15.0, 24.0]',\n",
    "                                        description='Duration in month',\n",
    "                                        disabled=False,\n",
    "                                    )\n",
    "\n",
    "\n",
    "\n",
    "Savings_account_bonds = widgets.Dropdown(\n",
    "                                            options = ['<100 DM', 'no savings account', '100 <= <500 DM','500 <= < 1000 DM','>= 1000 DM'],\n",
    "                                            value='<100 DM',\n",
    "                                            description='Savings account bonds',\n",
    "                                            disabled=False,\n",
    "                                         )\n",
    "\n",
    "Housing = widgets.Dropdown(\n",
    "                            options = ['rent', 'own', 'for free'],\n",
    "                            value='own',\n",
    "                            description='Housing',\n",
    "                            disabled=False,\n",
    "                        )\n",
    "\n",
    "\n",
    "Purpose = widgets.Dropdown(\n",
    "                            options = ['radio/télévision', 'car (new)', 'furniture/equipment','car (used)','business','education','repairs','domestic appliances','retraining','others'],\n",
    "                            value='car (new)',\n",
    "                            description='Purpose',\n",
    "                            disabled=False,\n",
    "                        )\n",
    "\n",
    "Other_installment_plans = widgets.Dropdown(\n",
    "                                            options     = ['none', 'bank', 'store'],\n",
    "                                            value       = 'bank',\n",
    "                                            description = 'Other_installment_plans',\n",
    "                                            disabled    = False,\n",
    "                                        )"
   ]
  },
  {
   "cell_type": "markdown",
   "id": "a9f61ade-dcbc-459c-9847-cb3848ad64fb",
   "metadata": {},
   "source": [
    "# Positionnemeent des elements"
   ]
  },
  {
   "cell_type": "code",
   "execution_count": 6,
   "id": "de66bf66-b63a-471b-bdeb-093873614ebe",
   "metadata": {},
   "outputs": [
    {
     "data": {
      "application/vnd.jupyter.widget-view+json": {
       "model_id": "af662f113a74404199ddfd439181cb9b",
       "version_major": 2,
       "version_minor": 0
      },
      "text/plain": [
       "Button(description='Obtenir la proba', style=ButtonStyle())"
      ]
     },
     "metadata": {},
     "output_type": "display_data"
    },
    {
     "data": {
      "application/vnd.jupyter.widget-view+json": {
       "model_id": "6c53a861378e448e9617187b1c6a1a48",
       "version_major": 2,
       "version_minor": 0
      },
      "text/plain": [
       "Output()"
      ]
     },
     "metadata": {},
     "output_type": "display_data"
    }
   ],
   "source": [
    "widgets.HTML(\n",
    "    value=\"<H1> Score de crédit </H1>\",\n",
    "    placeholder='Some HTML',\n",
    "    description='',)\n",
    "\n",
    "\n",
    "\n",
    "\n",
    "widgets.HTML(\n",
    "    value=\"<H1> Score de Crédit </H1>\",\n",
    "    placeholder='Some HTML',\n",
    "    description='',)\n",
    "\n",
    "\n",
    "\n",
    "button = widgets.Button(description=\"Obtenir la proba\")\n",
    "output = widgets.Output()\n",
    "\n",
    "\n",
    "\n",
    "\n",
    "\n",
    "# definition du button à cliquer\n",
    "def on_button_clicked(b) :\n",
    "    # afficher le message dans l'ouput widgetyyyyyyyyyyyyyyyyyy\n",
    "    with output:\n",
    "        clear_output()\n",
    "        X_profil = pd.DataFrame(     [[                 Status_of_existing_checking_account.value, \n",
    "                                                Credit_history.value,\n",
    "                                                Duration_in_month_q.value,\n",
    "                                                Savings_account_bonds.value, \n",
    "                                                Housing.value,\n",
    "                                                Purpose.value,\n",
    "                                                Other_installment_plans.value,\n",
    "                                    ]],\n",
    "                                    columns=[ 'Status_of_existing_checking_account', \n",
    "                                             'Credit_history', 'Duration_in_month_q',\n",
    "                                             'Savings_account_bonds','Housing',\n",
    "                                             'Purpose', 'Other_installment_plans'\n",
    "                                            ])\n",
    "        proba = round(modele.predict(X_profil).iloc[0],3)\n",
    "    \n",
    "        print(f\"la probabilité associée au prof : {proba}\")\n",
    "        print(f\"La valeur seuil de proba risqué est :{round(ref,3)}\")\n",
    "        if proba > ref :\n",
    "            print(\"Désolé, trop risqué, Pas d'octroi de crédit\")\n",
    "        else :\n",
    "            print(\"Félicitation, vous aurez le crédit demandé\")\n",
    "            \n",
    "# appeler la fonclion cliked_button lorsqu'on appui sur cliquer\n",
    "button.on_click(on_button_clicked)\n",
    "\n",
    "\n",
    "display(button, output)"
   ]
  },
  {
   "cell_type": "markdown",
   "id": "f83a0720-d8e8-4e2a-9b27-dcee73f3e5ef",
   "metadata": {},
   "source": [
    "# Button resultat"
   ]
  },
  {
   "cell_type": "code",
   "execution_count": 7,
   "id": "a03fcaa4-8747-4957-b499-c9749111bab2",
   "metadata": {},
   "outputs": [],
   "source": [
    "def on_button_clicked(b) :\n",
    "    # afficher le message dans l'ouput widgetyyyyyyyyyyyyyyyyyy\n",
    "    with output:\n",
    "        clear_output()\n",
    "        X_profil = pd.DataFrame(     [[          Status_of_existing_checking_account.value, \n",
    "                                                Credit_history.value,\n",
    "                                                Duration_in_month_q.value,\n",
    "                                                Savings_account_bonds.value, \n",
    "                                                Housing.value,\n",
    "                                                Purpose.value,\n",
    "                                                Other_installment_plans.value,\n",
    "                                    ]],\n",
    "                                    columns=[ 'Status_of_existing_checking_account', \n",
    "                                             'Credit_history', 'Duration_in_month_q',\n",
    "                                             'Savings_account_bonds','Housing',\n",
    "                                             'Purpose', 'Other_installment_plans'\n",
    "                                            ])\n",
    "        proba = round(modele.predict(X_profil).iloc[0],3)\n",
    "    \n",
    "        print(f\"la probabilité associée au prof : {proba}\")\n",
    "        print(f\"La valeur seuil de proba risqué est :{round(ref,3)}\")\n",
    "        if proba > ref :\n",
    "            print(\"Désolé, trop risqué, Pas d'octroi de crédit\")\n",
    "        else :\n",
    "            print(\"Félicitation, vous aurez le crédit demandé\")\n",
    "\n",
    "# appeler la fonclion cliked_button lorsqu'on appui sur cliquer"
   ]
  },
  {
   "cell_type": "markdown",
   "id": "3e1e3c2d-830d-49f8-8e62-b0c1b1f33e1d",
   "metadata": {},
   "source": [
    "# Entrer les données"
   ]
  },
  {
   "cell_type": "code",
   "execution_count": 8,
   "id": "82d2a6ec-7a33-486f-919f-c45970a276f0",
   "metadata": {},
   "outputs": [
    {
     "data": {
      "application/vnd.jupyter.widget-view+json": {
       "model_id": "b61fe7c36d88462ca73eed0e48f5bd72",
       "version_major": 2,
       "version_minor": 0
      },
      "text/plain": [
       "Dropdown(description='Status of existing checking account ', options=('no checking account', '<0 DM', '0 <= <2…"
      ]
     },
     "metadata": {},
     "output_type": "display_data"
    },
    {
     "data": {
      "application/vnd.jupyter.widget-view+json": {
       "model_id": "c84edebf40da45b8a20d4a1d11723d85",
       "version_major": 2,
       "version_minor": 0
      },
      "text/plain": [
       "Dropdown(description='Credit history  :', options=('existing credits paid back duly till now', 'critical accou…"
      ]
     },
     "metadata": {},
     "output_type": "display_data"
    },
    {
     "data": {
      "application/vnd.jupyter.widget-view+json": {
       "model_id": "013bcd94786f42a8804ff3ee8b65afc7",
       "version_major": 2,
       "version_minor": 0
      },
      "text/plain": [
       "Dropdown(description='Duration in month', index=2, options=('(3.999, 12.0]', '(12.0, 15.0]', '(15.0, 24.0]', '…"
      ]
     },
     "metadata": {},
     "output_type": "display_data"
    },
    {
     "data": {
      "application/vnd.jupyter.widget-view+json": {
       "model_id": "c2e978870e5646c19d4a02d5d6081f84",
       "version_major": 2,
       "version_minor": 0
      },
      "text/plain": [
       "Dropdown(description='Savings account bonds', options=('<100 DM', 'no savings account', '100 <= <500 DM', '500…"
      ]
     },
     "metadata": {},
     "output_type": "display_data"
    },
    {
     "data": {
      "application/vnd.jupyter.widget-view+json": {
       "model_id": "98e51ea6205e416d8d29c2a8fff6319e",
       "version_major": 2,
       "version_minor": 0
      },
      "text/plain": [
       "Dropdown(description='Housing', index=1, options=('rent', 'own', 'for free'), value='own')"
      ]
     },
     "metadata": {},
     "output_type": "display_data"
    },
    {
     "data": {
      "application/vnd.jupyter.widget-view+json": {
       "model_id": "f4553756aeeb4919ae75cf6621e0c285",
       "version_major": 2,
       "version_minor": 0
      },
      "text/plain": [
       "Dropdown(description='Purpose', index=1, options=('radio/télévision', 'car (new)', 'furniture/equipment', 'car…"
      ]
     },
     "metadata": {},
     "output_type": "display_data"
    },
    {
     "data": {
      "application/vnd.jupyter.widget-view+json": {
       "model_id": "5007e236a94d4b49adfc466a566302f9",
       "version_major": 2,
       "version_minor": 0
      },
      "text/plain": [
       "Dropdown(description='Other_installment_plans', index=1, options=('none', 'bank', 'store'), value='bank')"
      ]
     },
     "metadata": {},
     "output_type": "display_data"
    }
   ],
   "source": [
    "display(Status_of_existing_checking_account) \n",
    "display(Credit_history) \n",
    "display(Duration_in_month_q) \n",
    "display(Savings_account_bonds) \n",
    "display(Housing) \n",
    "display(Purpose) \n",
    "display(Other_installment_plans)"
   ]
  },
  {
   "cell_type": "markdown",
   "id": "fded1bc8-3a6c-4713-8697-1d7dbfff6e9f",
   "metadata": {},
   "source": [
    "# Resultat"
   ]
  },
  {
   "cell_type": "code",
   "execution_count": 9,
   "id": "44ce014e-381f-443f-953a-18cbf9f431fa",
   "metadata": {},
   "outputs": [
    {
     "data": {
      "application/vnd.jupyter.widget-view+json": {
       "model_id": "af662f113a74404199ddfd439181cb9b",
       "version_major": 2,
       "version_minor": 0
      },
      "text/plain": [
       "Button(description='Obtenir la proba', style=ButtonStyle())"
      ]
     },
     "metadata": {},
     "output_type": "display_data"
    },
    {
     "data": {
      "application/vnd.jupyter.widget-view+json": {
       "model_id": "6c53a861378e448e9617187b1c6a1a48",
       "version_major": 2,
       "version_minor": 0
      },
      "text/plain": [
       "Output()"
      ]
     },
     "metadata": {},
     "output_type": "display_data"
    }
   ],
   "source": [
    "button.on_click(on_button_clicked)\n",
    "display(button, output)"
   ]
  }
 ],
 "metadata": {
  "kernelspec": {
   "display_name": "Python 3 (ipykernel)",
   "language": "python",
   "name": "python3"
  },
  "language_info": {
   "codemirror_mode": {
    "name": "ipython",
    "version": 3
   },
   "file_extension": ".py",
   "mimetype": "text/x-python",
   "name": "python",
   "nbconvert_exporter": "python",
   "pygments_lexer": "ipython3",
   "version": "3.9.7"
  }
 },
 "nbformat": 4,
 "nbformat_minor": 5
}
