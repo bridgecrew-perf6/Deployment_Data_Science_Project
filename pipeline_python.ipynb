{
 "cells": [
  {
   "cell_type": "markdown",
   "id": "26025aab",
   "metadata": {},
   "source": [
    "## Libraries"
   ]
  },
  {
   "cell_type": "code",
   "execution_count": 56,
   "id": "308a72bd",
   "metadata": {},
   "outputs": [],
   "source": [
    "import os\n",
    "from sklearn.model_selection import train_test_split\n",
    "import pandas as pd\n",
    "from sklearn.preprocessing import StandardScaler\n",
    "from sklearn.feature_selection import  f_classif,VarianceThreshold,SelectKBest\n",
    "from sklearn.linear_model import Perceptron\n",
    "from sklearn.pipeline import Pipeline\n",
    "import pickle\n",
    "from sklearn.metrics import accuracy_score\n",
    "from sklearn.model_selection import GridSearchCV"
   ]
  },
  {
   "cell_type": "code",
   "execution_count": 6,
   "id": "7a586ee1",
   "metadata": {},
   "outputs": [
    {
     "name": "stdout",
     "output_type": "stream",
     "text": [
      "<class 'pandas.core.frame.DataFrame'>\n",
      "RangeIndex: 2010 entries, 0 to 2009\n",
      "Data columns (total 20 columns):\n",
      " #   Column                Non-Null Count  Dtype  \n",
      "---  ------                --------------  -----  \n",
      " 0   region_centroid_col   2010 non-null   int64  \n",
      " 1   region_centroid_row   2010 non-null   int64  \n",
      " 2   region_pixel_count    2010 non-null   int64  \n",
      " 3   short_line_density_5  2010 non-null   float64\n",
      " 4   short_line_density_2  2010 non-null   float64\n",
      " 5   vedge_mean            2010 non-null   float64\n",
      " 6   vegde_sd              2010 non-null   float64\n",
      " 7   hedge_mean            2010 non-null   float64\n",
      " 8   hedge_sd              2010 non-null   float64\n",
      " 9   intensity_mean        2010 non-null   float64\n",
      " 10  rawred_mean           2010 non-null   float64\n",
      " 11  rawblue_mean          2010 non-null   float64\n",
      " 12  rawgreen_mean         2010 non-null   float64\n",
      " 13  exred_mean            2010 non-null   float64\n",
      " 14  exblue_mean           2010 non-null   float64\n",
      " 15  exgreen_mean          2010 non-null   float64\n",
      " 16  value_mean            2010 non-null   float64\n",
      " 17  saturation_mean       2010 non-null   float64\n",
      " 18  hue_mean              2010 non-null   float64\n",
      " 19  objet                 2010 non-null   object \n",
      "dtypes: float64(16), int64(3), object(1)\n",
      "memory usage: 314.2+ KB\n"
     ]
    },
    {
     "data": {
      "text/html": [
       "<div>\n",
       "<style scoped>\n",
       "    .dataframe tbody tr th:only-of-type {\n",
       "        vertical-align: middle;\n",
       "    }\n",
       "\n",
       "    .dataframe tbody tr th {\n",
       "        vertical-align: top;\n",
       "    }\n",
       "\n",
       "    .dataframe thead th {\n",
       "        text-align: right;\n",
       "    }\n",
       "</style>\n",
       "<table border=\"1\" class=\"dataframe\">\n",
       "  <thead>\n",
       "    <tr style=\"text-align: right;\">\n",
       "      <th></th>\n",
       "      <th>region_centroid_col</th>\n",
       "      <th>region_centroid_row</th>\n",
       "      <th>region_pixel_count</th>\n",
       "      <th>short_line_density_5</th>\n",
       "      <th>short_line_density_2</th>\n",
       "      <th>vedge_mean</th>\n",
       "      <th>vegde_sd</th>\n",
       "      <th>hedge_mean</th>\n",
       "      <th>hedge_sd</th>\n",
       "      <th>intensity_mean</th>\n",
       "      <th>rawred_mean</th>\n",
       "      <th>rawblue_mean</th>\n",
       "      <th>rawgreen_mean</th>\n",
       "      <th>exred_mean</th>\n",
       "      <th>exblue_mean</th>\n",
       "      <th>exgreen_mean</th>\n",
       "      <th>value_mean</th>\n",
       "      <th>saturation_mean</th>\n",
       "      <th>hue_mean</th>\n",
       "      <th>objet</th>\n",
       "    </tr>\n",
       "  </thead>\n",
       "  <tbody>\n",
       "    <tr>\n",
       "      <th>0</th>\n",
       "      <td>77</td>\n",
       "      <td>186</td>\n",
       "      <td>9</td>\n",
       "      <td>0.0</td>\n",
       "      <td>0.0</td>\n",
       "      <td>2.00</td>\n",
       "      <td>2.67</td>\n",
       "      <td>2.33</td>\n",
       "      <td>3.56</td>\n",
       "      <td>34.96</td>\n",
       "      <td>31.11</td>\n",
       "      <td>43.44</td>\n",
       "      <td>30.33</td>\n",
       "      <td>-11.56</td>\n",
       "      <td>25.44</td>\n",
       "      <td>-13.89</td>\n",
       "      <td>43.44</td>\n",
       "      <td>0.30</td>\n",
       "      <td>-2.04</td>\n",
       "      <td>path</td>\n",
       "    </tr>\n",
       "    <tr>\n",
       "      <th>1</th>\n",
       "      <td>197</td>\n",
       "      <td>144</td>\n",
       "      <td>9</td>\n",
       "      <td>0.0</td>\n",
       "      <td>0.0</td>\n",
       "      <td>0.94</td>\n",
       "      <td>0.71</td>\n",
       "      <td>0.39</td>\n",
       "      <td>0.49</td>\n",
       "      <td>0.70</td>\n",
       "      <td>0.33</td>\n",
       "      <td>1.67</td>\n",
       "      <td>0.11</td>\n",
       "      <td>-1.11</td>\n",
       "      <td>2.89</td>\n",
       "      <td>-1.78</td>\n",
       "      <td>1.67</td>\n",
       "      <td>0.86</td>\n",
       "      <td>-1.99</td>\n",
       "      <td>window</td>\n",
       "    </tr>\n",
       "    <tr>\n",
       "      <th>2</th>\n",
       "      <td>74</td>\n",
       "      <td>129</td>\n",
       "      <td>9</td>\n",
       "      <td>0.0</td>\n",
       "      <td>0.0</td>\n",
       "      <td>0.22</td>\n",
       "      <td>0.03</td>\n",
       "      <td>0.11</td>\n",
       "      <td>0.03</td>\n",
       "      <td>0.52</td>\n",
       "      <td>0.00</td>\n",
       "      <td>1.56</td>\n",
       "      <td>0.00</td>\n",
       "      <td>-1.56</td>\n",
       "      <td>3.11</td>\n",
       "      <td>-1.56</td>\n",
       "      <td>1.56</td>\n",
       "      <td>1.00</td>\n",
       "      <td>-2.09</td>\n",
       "      <td>foliage</td>\n",
       "    </tr>\n",
       "    <tr>\n",
       "      <th>3</th>\n",
       "      <td>115</td>\n",
       "      <td>182</td>\n",
       "      <td>9</td>\n",
       "      <td>0.0</td>\n",
       "      <td>0.0</td>\n",
       "      <td>0.56</td>\n",
       "      <td>1.05</td>\n",
       "      <td>0.72</td>\n",
       "      <td>1.14</td>\n",
       "      <td>17.59</td>\n",
       "      <td>15.44</td>\n",
       "      <td>14.00</td>\n",
       "      <td>23.33</td>\n",
       "      <td>-6.44</td>\n",
       "      <td>-10.78</td>\n",
       "      <td>17.22</td>\n",
       "      <td>23.33</td>\n",
       "      <td>0.40</td>\n",
       "      <td>1.94</td>\n",
       "      <td>grass</td>\n",
       "    </tr>\n",
       "    <tr>\n",
       "      <th>4</th>\n",
       "      <td>187</td>\n",
       "      <td>120</td>\n",
       "      <td>9</td>\n",
       "      <td>0.0</td>\n",
       "      <td>0.0</td>\n",
       "      <td>2.22</td>\n",
       "      <td>2.08</td>\n",
       "      <td>1.28</td>\n",
       "      <td>0.65</td>\n",
       "      <td>60.04</td>\n",
       "      <td>56.89</td>\n",
       "      <td>69.33</td>\n",
       "      <td>53.89</td>\n",
       "      <td>-9.44</td>\n",
       "      <td>27.89</td>\n",
       "      <td>-18.44</td>\n",
       "      <td>69.33</td>\n",
       "      <td>0.22</td>\n",
       "      <td>-1.89</td>\n",
       "      <td>cement</td>\n",
       "    </tr>\n",
       "  </tbody>\n",
       "</table>\n",
       "</div>"
      ],
      "text/plain": [
       "   region_centroid_col  region_centroid_row  region_pixel_count  \\\n",
       "0                   77                  186                   9   \n",
       "1                  197                  144                   9   \n",
       "2                   74                  129                   9   \n",
       "3                  115                  182                   9   \n",
       "4                  187                  120                   9   \n",
       "\n",
       "   short_line_density_5  short_line_density_2  vedge_mean  vegde_sd  \\\n",
       "0                   0.0                   0.0        2.00      2.67   \n",
       "1                   0.0                   0.0        0.94      0.71   \n",
       "2                   0.0                   0.0        0.22      0.03   \n",
       "3                   0.0                   0.0        0.56      1.05   \n",
       "4                   0.0                   0.0        2.22      2.08   \n",
       "\n",
       "   hedge_mean  hedge_sd  intensity_mean  rawred_mean  rawblue_mean  \\\n",
       "0        2.33      3.56           34.96        31.11         43.44   \n",
       "1        0.39      0.49            0.70         0.33          1.67   \n",
       "2        0.11      0.03            0.52         0.00          1.56   \n",
       "3        0.72      1.14           17.59        15.44         14.00   \n",
       "4        1.28      0.65           60.04        56.89         69.33   \n",
       "\n",
       "   rawgreen_mean  exred_mean  exblue_mean  exgreen_mean  value_mean  \\\n",
       "0          30.33      -11.56        25.44        -13.89       43.44   \n",
       "1           0.11       -1.11         2.89         -1.78        1.67   \n",
       "2           0.00       -1.56         3.11         -1.56        1.56   \n",
       "3          23.33       -6.44       -10.78         17.22       23.33   \n",
       "4          53.89       -9.44        27.89        -18.44       69.33   \n",
       "\n",
       "   saturation_mean  hue_mean    objet  \n",
       "0             0.30     -2.04     path  \n",
       "1             0.86     -1.99   window  \n",
       "2             1.00     -2.09  foliage  \n",
       "3             0.40      1.94    grass  \n",
       "4             0.22     -1.89   cement  "
      ]
     },
     "execution_count": 6,
     "metadata": {},
     "output_type": "execute_result"
    }
   ],
   "source": [
    "os.chdir(\"C:/Users/u32118508/OneDrive - UPEC/Telechargement/pipeline_deploiement\")\n",
    "df1=pd.read_excel(\"data_segmentation.xlsx\", sheet_name=\"segmentation\")\n",
    "df1.info()\n",
    "df1.head()"
   ]
  },
  {
   "cell_type": "markdown",
   "id": "c0c9408b",
   "metadata": {},
   "source": [
    "##  Distribution de la variable d'interet"
   ]
  },
  {
   "cell_type": "code",
   "execution_count": 10,
   "id": "6d0ac806",
   "metadata": {},
   "outputs": [
    {
     "data": {
      "text/plain": [
       "foliage      14.527363\n",
       "sky          14.527363\n",
       "path         14.477612\n",
       "cement       14.328358\n",
       "brickface    14.328358\n",
       "grass        14.029851\n",
       "window       13.781095\n",
       "Name: objet, dtype: float64"
      ]
     },
     "execution_count": 10,
     "metadata": {},
     "output_type": "execute_result"
    }
   ],
   "source": [
    "df1['objet'].value_counts()/sum(df1['objet'].value_counts())*100"
   ]
  },
  {
   "cell_type": "code",
   "execution_count": 45,
   "id": "9746fd74",
   "metadata": {},
   "outputs": [
    {
     "data": {
      "text/html": [
       "<div>\n",
       "<style scoped>\n",
       "    .dataframe tbody tr th:only-of-type {\n",
       "        vertical-align: middle;\n",
       "    }\n",
       "\n",
       "    .dataframe tbody tr th {\n",
       "        vertical-align: top;\n",
       "    }\n",
       "\n",
       "    .dataframe thead th {\n",
       "        text-align: right;\n",
       "    }\n",
       "</style>\n",
       "<table border=\"1\" class=\"dataframe\">\n",
       "  <thead>\n",
       "    <tr style=\"text-align: right;\">\n",
       "      <th></th>\n",
       "      <th>index</th>\n",
       "      <th>train_distri</th>\n",
       "      <th>test_distri</th>\n",
       "    </tr>\n",
       "  </thead>\n",
       "  <tbody>\n",
       "    <tr>\n",
       "      <th>0</th>\n",
       "      <td>foliage</td>\n",
       "      <td>14.502924</td>\n",
       "      <td>14.666667</td>\n",
       "    </tr>\n",
       "    <tr>\n",
       "      <th>1</th>\n",
       "      <td>sky</td>\n",
       "      <td>14.502924</td>\n",
       "      <td>14.666667</td>\n",
       "    </tr>\n",
       "    <tr>\n",
       "      <th>2</th>\n",
       "      <td>path</td>\n",
       "      <td>14.502924</td>\n",
       "      <td>14.333333</td>\n",
       "    </tr>\n",
       "    <tr>\n",
       "      <th>3</th>\n",
       "      <td>brickface</td>\n",
       "      <td>14.327485</td>\n",
       "      <td>14.333333</td>\n",
       "    </tr>\n",
       "    <tr>\n",
       "      <th>4</th>\n",
       "      <td>cement</td>\n",
       "      <td>14.327485</td>\n",
       "      <td>14.333333</td>\n",
       "    </tr>\n",
       "    <tr>\n",
       "      <th>5</th>\n",
       "      <td>grass</td>\n",
       "      <td>14.035088</td>\n",
       "      <td>14.000000</td>\n",
       "    </tr>\n",
       "    <tr>\n",
       "      <th>6</th>\n",
       "      <td>window</td>\n",
       "      <td>13.801170</td>\n",
       "      <td>13.666667</td>\n",
       "    </tr>\n",
       "  </tbody>\n",
       "</table>\n",
       "</div>"
      ],
      "text/plain": [
       "       index  train_distri  test_distri\n",
       "0    foliage     14.502924    14.666667\n",
       "1        sky     14.502924    14.666667\n",
       "2       path     14.502924    14.333333\n",
       "3  brickface     14.327485    14.333333\n",
       "4     cement     14.327485    14.333333\n",
       "5      grass     14.035088    14.000000\n",
       "6     window     13.801170    13.666667"
      ]
     },
     "execution_count": 45,
     "metadata": {},
     "output_type": "execute_result"
    }
   ],
   "source": [
    "# split data\n",
    "df1_train,df1_test=train_test_split(df1, test_size=300, random_state=1,stratify=df1['objet'])\n",
    "\n",
    "# assess the split \n",
    "train=df1_train['objet'].value_counts()/sum(df1_train['objet'].value_counts())*100\n",
    "test=df1_test['objet'].value_counts()/sum(df1_test['objet'].value_counts())*100\n",
    "pd.merge(train.reset_index(),test.reset_index(), on='index').rename(columns={'objet_x': 'train_distri','objet_y': 'test_distri'})"
   ]
  },
  {
   "cell_type": "markdown",
   "id": "699c8464",
   "metadata": {},
   "source": [
    "## Création de Pipeline"
   ]
  },
  {
   "cell_type": "code",
   "execution_count": 60,
   "id": "a02ed27a",
   "metadata": {},
   "outputs": [],
   "source": [
    "\n",
    "modele=Pipeline([(\"selFirst\", VarianceThreshold()),\n",
    "                 (\"selSecond\", SelectKBest(score_func=f_classif,k=5)),\n",
    "                 (\"std\",StandardScaler()),\n",
    "                 (\"clf\", Perceptron(random_state=1))])"
   ]
  },
  {
   "cell_type": "markdown",
   "id": "4d1c8517",
   "metadata": {},
   "source": [
    "### Modélisation statsitique"
   ]
  },
  {
   "cell_type": "code",
   "execution_count": 72,
   "id": "07977d40",
   "metadata": {},
   "outputs": [
    {
     "data": {
      "text/plain": [
       "Pipeline(steps=[('selFirst', VarianceThreshold()),\n",
       "                ('selSecond', SelectKBest(k=5)), ('std', StandardScaler()),\n",
       "                ('clf', Perceptron(random_state=1))])"
      ]
     },
     "execution_count": 72,
     "metadata": {},
     "output_type": "execute_result"
    }
   ],
   "source": [
    "modele.fit(df1_train.iloc[:,:-1], df1_train['objet'])"
   ]
  },
  {
   "cell_type": "code",
   "execution_count": 74,
   "id": "f96905d8",
   "metadata": {},
   "outputs": [
    {
     "data": {
      "text/plain": [
       "array([2.53000000e+02, 2.39000000e+02, 0.00000000e+00, 1.63880702e-03,\n",
       "       5.25152662e-04, 7.62955103e+00, 9.91720000e+02, 1.39461841e+01,\n",
       "       1.38633000e+03, 1.43440000e+02, 1.37110000e+02, 1.50890000e+02,\n",
       "       1.42560000e+02, 5.68900000e+01, 9.41100000e+01, 5.61100000e+01,\n",
       "       1.50890000e+02, 5.20085469e-02, 2.35249290e+00])"
      ]
     },
     "execution_count": 74,
     "metadata": {},
     "output_type": "execute_result"
    }
   ],
   "source": [
    "modele.named_steps[\"selFirst\"].variances_"
   ]
  },
  {
   "cell_type": "code",
   "execution_count": 75,
   "id": "f9fb9719",
   "metadata": {},
   "outputs": [
    {
     "data": {
      "text/plain": [
       "array([[ 47.42326748,   0.73059563, -42.32254741,  -7.79083535,\n",
       "          1.81919089],\n",
       "       [ 30.36267237,   1.2437223 , -27.937723  ,  -3.10041369,\n",
       "         -2.32741686],\n",
       "       [ -8.32744284,   1.69852151,   1.66215411,   2.46840213,\n",
       "         -7.09102105],\n",
       "       [ -0.82358334,  -1.50990521,   1.20286323,   0.66622233,\n",
       "          4.07298331],\n",
       "       [ 20.2100702 ,   2.87067494, -24.52914202,   2.00050795,\n",
       "         -2.73593908],\n",
       "       [  2.70401775,   1.95211258,   3.32829975,   2.10401509,\n",
       "          2.20863406],\n",
       "       [ -7.59726971,  12.48197747,  -5.44447293,  -6.98203754,\n",
       "         -0.13675616]])"
      ]
     },
     "execution_count": 75,
     "metadata": {},
     "output_type": "execute_result"
    }
   ],
   "source": [
    "modele.named_steps[\"clf\"].coef_"
   ]
  },
  {
   "cell_type": "code",
   "execution_count": 76,
   "id": "d291718b",
   "metadata": {},
   "outputs": [
    {
     "data": {
      "text/plain": [
       "array([ -3.,  -3.,  -7.,  -5.,  -4., -11.,  -3.])"
      ]
     },
     "execution_count": 76,
     "metadata": {},
     "output_type": "execute_result"
    }
   ],
   "source": [
    "modele.named_steps[\"clf\"].intercept_"
   ]
  },
  {
   "cell_type": "code",
   "execution_count": 90,
   "id": "d0317d6e",
   "metadata": {},
   "outputs": [
    {
     "data": {
      "text/plain": [
       "0.6066666666666667"
      ]
     },
     "execution_count": 90,
     "metadata": {},
     "output_type": "execute_result"
    }
   ],
   "source": [
    "predictions=modele.predict(df1_test.iloc[:,:-1])\n",
    "accuracy_score(df1_test['objet'],predictions)"
   ]
  },
  {
   "cell_type": "code",
   "execution_count": 99,
   "id": "700959cb",
   "metadata": {},
   "outputs": [],
   "source": [
    "parametres=[{'selSecond__k':[1,2,5,10, 15]}]"
   ]
  },
  {
   "cell_type": "code",
   "execution_count": 100,
   "id": "db738a87",
   "metadata": {},
   "outputs": [],
   "source": [
    "# grille de recherche en VC\n",
    "# 5 validation, s' assurer que les données soient bien mélangées \n",
    "CvStrat=StratifiedKFold(n_splits=5, shuffle=True, random_state=1)\n",
    "\n",
    "grid=GridSearchCV(modele,param_grid=parametres,cv=CvStrat,refit=True)"
   ]
  },
  {
   "cell_type": "code",
   "execution_count": 101,
   "id": "80d4bac5",
   "metadata": {},
   "outputs": [
    {
     "data": {
      "text/plain": [
       "GridSearchCV(cv=StratifiedKFold(n_splits=5, random_state=1, shuffle=True),\n",
       "             estimator=Pipeline(steps=[('selFirst', VarianceThreshold()),\n",
       "                                       ('selSecond', SelectKBest(k=5)),\n",
       "                                       ('std', StandardScaler()),\n",
       "                                       ('clf', Perceptron(random_state=1))]),\n",
       "             param_grid=[{'selSecond__k': [1, 2, 5, 10, 15]}])"
      ]
     },
     "execution_count": 101,
     "metadata": {},
     "output_type": "execute_result"
    }
   ],
   "source": [
    "grid.fit(df1_train.iloc[:,:-1], df1_train['objet'])"
   ]
  },
  {
   "cell_type": "code",
   "execution_count": 102,
   "id": "7662111a",
   "metadata": {},
   "outputs": [
    {
     "data": {
      "text/html": [
       "<div>\n",
       "<style scoped>\n",
       "    .dataframe tbody tr th:only-of-type {\n",
       "        vertical-align: middle;\n",
       "    }\n",
       "\n",
       "    .dataframe tbody tr th {\n",
       "        vertical-align: top;\n",
       "    }\n",
       "\n",
       "    .dataframe thead th {\n",
       "        text-align: right;\n",
       "    }\n",
       "</style>\n",
       "<table border=\"1\" class=\"dataframe\">\n",
       "  <thead>\n",
       "    <tr style=\"text-align: right;\">\n",
       "      <th></th>\n",
       "      <th>params</th>\n",
       "      <th>mean_test_score</th>\n",
       "    </tr>\n",
       "  </thead>\n",
       "  <tbody>\n",
       "    <tr>\n",
       "      <th>0</th>\n",
       "      <td>{'selSecond__k': 1}</td>\n",
       "      <td>0.297661</td>\n",
       "    </tr>\n",
       "    <tr>\n",
       "      <th>1</th>\n",
       "      <td>{'selSecond__k': 2}</td>\n",
       "      <td>0.530409</td>\n",
       "    </tr>\n",
       "    <tr>\n",
       "      <th>2</th>\n",
       "      <td>{'selSecond__k': 5}</td>\n",
       "      <td>0.560819</td>\n",
       "    </tr>\n",
       "    <tr>\n",
       "      <th>3</th>\n",
       "      <td>{'selSecond__k': 10}</td>\n",
       "      <td>0.842690</td>\n",
       "    </tr>\n",
       "    <tr>\n",
       "      <th>4</th>\n",
       "      <td>{'selSecond__k': 15}</td>\n",
       "      <td>0.886550</td>\n",
       "    </tr>\n",
       "  </tbody>\n",
       "</table>\n",
       "</div>"
      ],
      "text/plain": [
       "                 params  mean_test_score\n",
       "0   {'selSecond__k': 1}         0.297661\n",
       "1   {'selSecond__k': 2}         0.530409\n",
       "2   {'selSecond__k': 5}         0.560819\n",
       "3  {'selSecond__k': 10}         0.842690\n",
       "4  {'selSecond__k': 15}         0.886550"
      ]
     },
     "execution_count": 102,
     "metadata": {},
     "output_type": "execute_result"
    }
   ],
   "source": [
    "pd.DataFrame(grid.cv_results_)[['params','mean_test_score']]"
   ]
  },
  {
   "cell_type": "code",
   "execution_count": 105,
   "id": "3eae9a9b",
   "metadata": {},
   "outputs": [
    {
     "data": {
      "text/plain": [
       "0.8866666666666667"
      ]
     },
     "execution_count": 105,
     "metadata": {},
     "output_type": "execute_result"
    }
   ],
   "source": [
    "best_predictions=grid.best_estimator_.predict(df1_test.iloc[:,:-1])\n",
    "accuracy_score(df1_test['objet'],best_predictions)"
   ]
  },
  {
   "cell_type": "markdown",
   "id": "2f17069f",
   "metadata": {},
   "source": [
    "### Exportation du modèles"
   ]
  },
  {
   "cell_type": "code",
   "execution_count": 110,
   "id": "356b1912",
   "metadata": {},
   "outputs": [],
   "source": [
    "f=open(\"pipeline_python.sav\",\"wb\")\n",
    "pickle.dump(grid.best_estimator_,f)\n",
    "f.close()"
   ]
  }
 ],
 "metadata": {
  "kernelspec": {
   "display_name": "Python 3 (ipykernel)",
   "language": "python",
   "name": "python3"
  },
  "language_info": {
   "codemirror_mode": {
    "name": "ipython",
    "version": 3
   },
   "file_extension": ".py",
   "mimetype": "text/x-python",
   "name": "python",
   "nbconvert_exporter": "python",
   "pygments_lexer": "ipython3",
   "version": "3.9.7"
  },
  "toc": {
   "base_numbering": 1,
   "nav_menu": {},
   "number_sections": true,
   "sideBar": true,
   "skip_h1_title": false,
   "title_cell": "Table of Contents",
   "title_sidebar": "Contents",
   "toc_cell": false,
   "toc_position": {
    "height": "541.667px",
    "left": "756.984px",
    "top": "180px",
    "width": "320px"
   },
   "toc_section_display": true,
   "toc_window_display": true
  }
 },
 "nbformat": 4,
 "nbformat_minor": 5
}
