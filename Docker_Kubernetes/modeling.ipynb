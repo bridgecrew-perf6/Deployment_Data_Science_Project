{
 "cells": [
  {
   "cell_type": "markdown",
   "id": "85b97ec7-3a3c-4167-aef8-8dae5e40763a",
   "metadata": {},
   "source": [
    "# Modules"
   ]
  },
  {
   "cell_type": "code",
   "execution_count": 1,
   "id": "99e0c7ad-0921-4255-b373-de036361abd7",
   "metadata": {},
   "outputs": [],
   "source": [
    "import pandas as pd\n",
    "import numpy as np\n",
    "from sklearn.model_selection import train_test_split\n",
    "from sklearn.discriminant_analysis import LinearDiscriminantAnalysis\n",
    "from sklearn.metrics import accuracy_score, roc_auc_score, auc, roc_curve\n",
    "import matplotlib.pyplot  as plt\n",
    "import functions_ml # ma biblio personnelle\n",
    "import pickle"
   ]
  },
  {
   "cell_type": "markdown",
   "id": "77424d25-e0ce-4df8-b74f-4af54bce44e3",
   "metadata": {},
   "source": [
    "# Données"
   ]
  },
  {
   "cell_type": "markdown",
   "id": "bce0e571-eced-43cb-95c1-6fc97b47db68",
   "metadata": {},
   "source": [
    "Les données ont été extraites d'images prises à partir de spécimens authentiques et falsifiés ressemblant à des billets de banque.\n",
    "\n",
    "Pour la numérisation, une caméra industrielle habituellement utilisée pour l'inspection des impressions a été utilisée. \n",
    "\n",
    "Les images finales ont 400x 400 pixels. En raison de la lentille de l'objet et de la distance à l'objet étudié, des images en niveaux de gris avec une résolution d'environ 660 dpi ont été obtenues. \n",
    "\n",
    "L'outil Wavelet Transform a été utilisé pour extraire les caractéristiques des images.\n",
    "L'ensemble de données peut être utilisé pour les exemples de problèmes de classification binaire"
   ]
  },
  {
   "cell_type": "code",
   "execution_count": 2,
   "id": "0eec0a9c-56eb-4721-89c6-84d31d49c513",
   "metadata": {},
   "outputs": [
    {
     "data": {
      "text/html": [
       "<div>\n",
       "<style scoped>\n",
       "    .dataframe tbody tr th:only-of-type {\n",
       "        vertical-align: middle;\n",
       "    }\n",
       "\n",
       "    .dataframe tbody tr th {\n",
       "        vertical-align: top;\n",
       "    }\n",
       "\n",
       "    .dataframe thead th {\n",
       "        text-align: right;\n",
       "    }\n",
       "</style>\n",
       "<table border=\"1\" class=\"dataframe\">\n",
       "  <thead>\n",
       "    <tr style=\"text-align: right;\">\n",
       "      <th></th>\n",
       "      <th>variance</th>\n",
       "      <th>skewness</th>\n",
       "      <th>curtosis</th>\n",
       "      <th>entropy</th>\n",
       "      <th>class</th>\n",
       "    </tr>\n",
       "  </thead>\n",
       "  <tbody>\n",
       "    <tr>\n",
       "      <th>0</th>\n",
       "      <td>3.62160</td>\n",
       "      <td>8.6661</td>\n",
       "      <td>-2.8073</td>\n",
       "      <td>-0.44699</td>\n",
       "      <td>0</td>\n",
       "    </tr>\n",
       "    <tr>\n",
       "      <th>1</th>\n",
       "      <td>4.54590</td>\n",
       "      <td>8.1674</td>\n",
       "      <td>-2.4586</td>\n",
       "      <td>-1.46210</td>\n",
       "      <td>0</td>\n",
       "    </tr>\n",
       "    <tr>\n",
       "      <th>2</th>\n",
       "      <td>3.86600</td>\n",
       "      <td>-2.6383</td>\n",
       "      <td>1.9242</td>\n",
       "      <td>0.10645</td>\n",
       "      <td>0</td>\n",
       "    </tr>\n",
       "    <tr>\n",
       "      <th>3</th>\n",
       "      <td>3.45660</td>\n",
       "      <td>9.5228</td>\n",
       "      <td>-4.0112</td>\n",
       "      <td>-3.59440</td>\n",
       "      <td>0</td>\n",
       "    </tr>\n",
       "    <tr>\n",
       "      <th>4</th>\n",
       "      <td>0.32924</td>\n",
       "      <td>-4.4552</td>\n",
       "      <td>4.5718</td>\n",
       "      <td>-0.98880</td>\n",
       "      <td>0</td>\n",
       "    </tr>\n",
       "  </tbody>\n",
       "</table>\n",
       "</div>"
      ],
      "text/plain": [
       "   variance  skewness  curtosis  entropy  class\n",
       "0   3.62160    8.6661   -2.8073 -0.44699      0\n",
       "1   4.54590    8.1674   -2.4586 -1.46210      0\n",
       "2   3.86600   -2.6383    1.9242  0.10645      0\n",
       "3   3.45660    9.5228   -4.0112 -3.59440      0\n",
       "4   0.32924   -4.4552    4.5718 -0.98880      0"
      ]
     },
     "execution_count": 2,
     "metadata": {},
     "output_type": "execute_result"
    }
   ],
   "source": [
    "data=pd.read_csv(r'C:\\Users\\u32118508\\OneDrive - UPEC\\Bureau\\PyBooks\\Bank_Note_Authentification\\donnee_billet_authentification.csv')\n",
    "data.head()"
   ]
  },
  {
   "cell_type": "markdown",
   "id": "0de36aed-368e-4916-9759-712c2ad1431a",
   "metadata": {},
   "source": [
    "# Echantillonage et partitionnements"
   ]
  },
  {
   "cell_type": "code",
   "execution_count": 3,
   "id": "f07fb5c1-eac4-4c1d-8097-c8b6eda33c19",
   "metadata": {},
   "outputs": [],
   "source": [
    "## declarations des features et de la variable d'interets\n",
    "X=data.iloc[:,:-1]\n",
    "y=data.iloc[:,-1]\n",
    "##  Segmentation des données\n",
    "X_train,X_test,y_train,y_test = train_test_split(X,y,test_size=0.3,random_state=2022, stratify = y)"
   ]
  },
  {
   "cell_type": "markdown",
   "id": "14d12466-ef34-4ce3-a374-04c1d2b026db",
   "metadata": {},
   "source": [
    "# Entrainement"
   ]
  },
  {
   "cell_type": "code",
   "execution_count": 4,
   "id": "2459e1e2-5d98-43e7-8fbc-5802b818283d",
   "metadata": {},
   "outputs": [
    {
     "data": {
      "text/plain": [
       "LinearDiscriminantAnalysis()"
      ]
     },
     "execution_count": 4,
     "metadata": {},
     "output_type": "execute_result"
    }
   ],
   "source": [
    "classifier = LinearDiscriminantAnalysis()\n",
    "classifier.fit(X_train,y_train)"
   ]
  },
  {
   "cell_type": "markdown",
   "id": "034d7760-b0f7-4390-b2ac-5d14076ff29c",
   "metadata": {},
   "source": [
    "# EVAL"
   ]
  },
  {
   "cell_type": "code",
   "execution_count": 5,
   "id": "ff3e3f7b-55da-4583-80a2-3c101fc6c549",
   "metadata": {},
   "outputs": [],
   "source": [
    "# Prediction\n",
    "proba_pred = classifier.predict_proba(X_test)"
   ]
  },
  {
   "cell_type": "code",
   "execution_count": 6,
   "id": "f739a119-56d7-481e-a57b-99c77d6b84e2",
   "metadata": {},
   "outputs": [
    {
     "data": {
      "image/png": "[encoded data removed]",
      "text/plain": [
       "<Figure size 432x288 with 1 Axes>"
      ]
     },
     "metadata": {
      "needs_background": "light"
     },
     "output_type": "display_data"
    }
   ],
   "source": [
    "fpr, tpr, thresholds = roc_curve(y_test, proba_pred[:,1])\n",
    "roc_auc = auc(fpr, tpr)\n",
    "optimal_thr = thresholds[np.argmin((0-fpr)**2 + (1-tpr)**2)]\n",
    "optimal_tpr = tpr[thresholds==optimal_thr][0]\n",
    "optimal_fpr = fpr[thresholds==optimal_thr][0]\n",
    "plt.figure()\n",
    "lw = 2\n",
    "plt.plot(fpr, tpr, color='orange',lw=lw, label='ROC curve (area = %0.2f)' % roc_auc)\n",
    "plt.plot([0, 1], [0, 1], color='navy', lw=lw, linestyle='--')\n",
    "plt.scatter(optimal_fpr, optimal_tpr, color=\"red\", lw=lw, label=f\"Opt. Prob threshold: {optimal_thr}\\nOpt. TPR:{round(optimal_tpr, 2)}, Opt. FPR: {round(optimal_fpr, 2)}\")\n",
    "plt.xlim([0.0, 1.0])\n",
    "plt.ylim([0.0, 1.0])\n",
    "plt.xlabel('False Positive Rate')\n",
    "plt.ylabel('True Positive Rate')\n",
    "plt.title('Scoring  ROC curve : Test set')\n",
    "plt.legend(loc=\"lower right\")\n",
    "plt.show()\n"
   ]
  },
  {
   "cell_type": "code",
   "execution_count": 7,
   "id": "b93d91be-4515-446f-bd0e-b87bbe2ee399",
   "metadata": {},
   "outputs": [
    {
     "name": "stdout",
     "output_type": "stream",
     "text": [
      "Accuracy: 0.99\n",
      "Recall: 0.99\n",
      "precision: 0.98\n"
     ]
    },
    {
     "data": {
      "image/png": "[encoded data removed]",
      "text/plain": [
       "<Figure size 360x360 with 1 Axes>"
      ]
     },
     "metadata": {
      "needs_background": "light"
     },
     "output_type": "display_data"
    }
   ],
   "source": [
    "functions_ml.confusio_matrix(y_test, (proba_pred[:,1]>= optimal_thr).astype(int))"
   ]
  },
  {
   "cell_type": "markdown",
   "id": "c1d1b858-9847-4877-98f4-c7cc9a4c724a",
   "metadata": {},
   "source": [
    "# Exportation du modèle"
   ]
  },
  {
   "cell_type": "code",
   "execution_count": 8,
   "id": "1ed1b4ff-0717-4c09-b207-24f187ac2ca7",
   "metadata": {},
   "outputs": [],
   "source": [
    "pickle_out = open(\"model.pkl\",\"wb\")\n",
    "pickle.dump(classifier, pickle_out)\n",
    "pickle_out.close()"
   ]
  }
 ],
 "metadata": {
  "kernelspec": {
   "display_name": "Python 3 (ipykernel)",
   "language": "python",
   "name": "python3"
  },
  "language_info": {
   "codemirror_mode": {
    "name": "ipython",
    "version": 3
   },
   "file_extension": ".py",
   "mimetype": "text/x-python",
   "name": "python",
   "nbconvert_exporter": "python",
   "pygments_lexer": "ipython3",
   "version": "3.9.7"
  }
 },
 "nbformat": 4,
 "nbformat_minor": 5
}
