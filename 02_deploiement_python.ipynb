{
 "cells": [
  {
   "cell_type": "code",
   "execution_count": 13,
   "id": "61430cde",
   "metadata": {},
   "outputs": [],
   "source": [
    "import os \n",
    "import pandas as pd\n",
    "import pickle"
   ]
  },
  {
   "cell_type": "code",
   "execution_count": null,
   "id": "d636e5c2",
   "metadata": {},
   "outputs": [],
   "source": [
    "os.chdir(\"C:/Users/u32118508/OneDrive - UPEC/Telechargement/pipeline_deploiement\")\n",
    "df=pd.read_excel(\"data_segmentation.xlsx\", sheet_name=\"deploiement\")\n",
    "df.info()\n",
    "df.head()"
   ]
  },
  {
   "cell_type": "markdown",
   "id": "719e25af",
   "metadata": {},
   "source": [
    "### Importation du modèle"
   ]
  },
  {
   "cell_type": "code",
   "execution_count": 14,
   "id": "d75983d5",
   "metadata": {},
   "outputs": [],
   "source": [
    "import pickle \n",
    "#ourvir le fichier\n",
    "f=open(\"pipeline_python.sav\",\"rb\")\n",
    "#charger le fichier\n",
    "modele=pickle.load(f)\n",
    "# fermer le fichier\n",
    "f.close()"
   ]
  },
  {
   "cell_type": "code",
   "execution_count": 15,
   "id": "2c6fbaa4",
   "metadata": {},
   "outputs": [
    {
     "name": "stdout",
     "output_type": "stream",
     "text": [
      "Pipeline(steps=[('selFirst', VarianceThreshold()),\n",
      "                ('selSecond', SelectKBest(k=15)), ('std', StandardScaler()),\n",
      "                ('clf', Perceptron(random_state=1))])\n"
     ]
    }
   ],
   "source": [
    "print(modele)"
   ]
  },
  {
   "cell_type": "code",
   "execution_count": 16,
   "id": "59bdc76d",
   "metadata": {},
   "outputs": [
    {
     "data": {
      "text/plain": [
       "{'selFirst': VarianceThreshold(),\n",
       " 'selSecond': SelectKBest(k=15),\n",
       " 'std': StandardScaler(),\n",
       " 'clf': Perceptron(random_state=1)}"
      ]
     },
     "execution_count": 16,
     "metadata": {},
     "output_type": "execute_result"
    }
   ],
   "source": [
    "modele.named_steps"
   ]
  },
  {
   "cell_type": "markdown",
   "id": "2bec44eb",
   "metadata": {},
   "source": [
    "### Prédictions"
   ]
  },
  {
   "cell_type": "code",
   "execution_count": 17,
   "id": "1ad7581c",
   "metadata": {},
   "outputs": [
    {
     "name": "stdout",
     "output_type": "stream",
     "text": [
      "['window' 'window' 'foliage' 'window' 'cement' 'grass' 'foliage'\n",
      " 'brickface' 'sky' 'sky' 'sky' 'window' 'brickface' 'sky' 'grass' 'grass'\n",
      " 'path' 'grass' 'cement' 'cement' 'brickface' 'sky' 'sky' 'cement'\n",
      " 'brickface' 'brickface' 'cement' 'window' 'grass' 'grass' 'path' 'grass'\n",
      " 'grass' 'grass' 'window' 'window' 'path' 'window' 'brickface' 'path'\n",
      " 'path' 'sky' 'cement' 'grass' 'path' 'foliage' 'window' 'cement' 'grass'\n",
      " 'brickface' 'cement' 'sky' 'path' 'sky' 'path' 'grass' 'cement' 'foliage'\n",
      " 'grass' 'grass' 'grass' 'window' 'brickface' 'brickface' 'cement'\n",
      " 'window' 'sky' 'cement' 'cement' 'window' 'brickface' 'brickface' 'grass'\n",
      " 'sky' 'foliage' 'grass' 'window' 'foliage' 'cement' 'path' 'grass'\n",
      " 'brickface' 'path' 'window' 'brickface' 'window' 'sky' 'foliage' 'grass'\n",
      " 'grass' 'grass' 'brickface' 'grass' 'grass' 'brickface' 'path' 'sky'\n",
      " 'cement' 'grass' 'path' 'sky' 'grass' 'foliage' 'path' 'path' 'path'\n",
      " 'window' 'path' 'path' 'window' 'window' 'brickface' 'brickface'\n",
      " 'foliage' 'path' 'path' 'sky' 'grass' 'foliage' 'brickface' 'window'\n",
      " 'sky' 'grass' 'sky' 'path' 'path' 'window' 'window' 'path' 'path'\n",
      " 'brickface' 'grass' 'window' 'grass' 'window' 'brickface' 'brickface'\n",
      " 'path' 'brickface' 'cement' 'cement' 'brickface' 'sky' 'cement' 'window'\n",
      " 'foliage' 'window' 'cement' 'window' 'path' 'brickface' 'grass' 'cement'\n",
      " 'window' 'brickface' 'grass' 'foliage' 'cement' 'sky' 'grass' 'grass'\n",
      " 'grass' 'brickface' 'sky' 'grass' 'window' 'sky' 'grass' 'foliage'\n",
      " 'foliage' 'foliage' 'path' 'sky' 'brickface' 'path' 'cement' 'cement'\n",
      " 'cement' 'brickface' 'sky' 'foliage' 'cement' 'grass' 'path' 'foliage'\n",
      " 'cement' 'grass' 'window' 'path' 'cement' 'grass' 'window' 'brickface'\n",
      " 'cement' 'foliage' 'cement' 'window' 'sky' 'brickface' 'sky' 'window'\n",
      " 'grass' 'foliage' 'cement' 'sky' 'cement' 'brickface' 'path' 'brickface'\n",
      " 'cement' 'cement' 'sky' 'sky' 'grass' 'brickface' 'path' 'cement'\n",
      " 'window' 'path' 'path' 'grass' 'path' 'grass' 'grass' 'grass' 'window'\n",
      " 'grass' 'window' 'foliage' 'foliage' 'grass' 'brickface' 'grass' 'path'\n",
      " 'grass' 'foliage' 'path' 'window' 'window' 'path' 'brickface' 'foliage'\n",
      " 'window' 'foliage' 'foliage' 'cement' 'brickface' 'sky' 'grass' 'sky'\n",
      " 'foliage' 'path' 'brickface' 'sky' 'window' 'grass' 'window' 'sky'\n",
      " 'brickface' 'brickface' 'brickface' 'path' 'foliage' 'path' 'foliage'\n",
      " 'cement' 'grass' 'window' 'sky' 'grass' 'sky' 'foliage' 'foliage' 'grass'\n",
      " 'brickface' 'brickface' 'cement' 'window' 'foliage' 'grass' 'sky' 'path'\n",
      " 'grass' 'path' 'cement' 'brickface' 'sky' 'path' 'path' 'path' 'window'\n",
      " 'foliage' 'grass' 'foliage' 'window' 'sky' 'cement' 'window' 'grass'\n",
      " 'sky']\n"
     ]
    }
   ],
   "source": [
    "predictions=modele.predict(df)\n",
    "print(predictions)"
   ]
  }
 ],
 "metadata": {
  "kernelspec": {
   "display_name": "Python 3 (ipykernel)",
   "language": "python",
   "name": "python3"
  },
  "language_info": {
   "codemirror_mode": {
    "name": "ipython",
    "version": 3
   },
   "file_extension": ".py",
   "mimetype": "text/x-python",
   "name": "python",
   "nbconvert_exporter": "python",
   "pygments_lexer": "ipython3",
   "version": "3.9.7"
  },
  "toc": {
   "base_numbering": 1,
   "nav_menu": {},
   "number_sections": true,
   "sideBar": true,
   "skip_h1_title": false,
   "title_cell": "Table of Contents",
   "title_sidebar": "Contents",
   "toc_cell": false,
   "toc_position": {},
   "toc_section_display": true,
   "toc_window_display": false
  }
 },
 "nbformat": 4,
 "nbformat_minor": 5
}
